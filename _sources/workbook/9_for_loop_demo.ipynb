{
 "cells": [
  {
   "cell_type": "markdown",
   "metadata": {
    "editable": true,
    "slideshow": {
     "slide_type": ""
    },
    "tags": []
   },
   "source": [
    "# For loops\n",
    "\n",
    "We will now explore one of the main strengths of programming: **automating repetitive tasks with loops**!\n",
    "Here we're going to look at a specific type of loop called a `for` loop, which is used when you know how many times you want to repeat an action."
   ]
  },
  {
   "cell_type": "markdown",
   "metadata": {},
   "source": [
    "## Summary of commands\n",
    "\n",
    "In Python, the general structure of a `for` loop is like this:\n",
    "\n",
    "```python\n",
    "for i in collection:\n",
    "    <do something repeatedly, where each iteration, the variable i takes on a different value in the collection>\n",
    "```\n",
    "where `collection` is usually a list-like object of values.\n",
    "The `for` loop stops when all the items in the collection are used once.\n",
    "A very common expression you'll see for `collection` is [`range(N)`](https://docs.python.org/3/library/functions.html#func-range), which is a built-in function that enumerates numbers from `0` up to `N` (_not_ inclusive).\n",
    "The full function is `range(start, stop, step)`."
   ]
  },
  {
   "cell_type": "markdown",
   "metadata": {},
   "source": [
    "## Part 1\n",
    "\n",
    "Compute $10!$ (ten factorial).\n",
    "That is, the product of all the integers from $1$ to $10$."
   ]
  },
  {
   "cell_type": "code",
   "execution_count": 1,
   "metadata": {
    "editable": true,
    "slideshow": {
     "slide_type": ""
    },
    "tags": []
   },
   "outputs": [
    {
     "name": "stdout",
     "output_type": "stream",
     "text": [
      "3628800\n"
     ]
    }
   ],
   "source": [
    "product = 1\n",
    "for i in range(1, 11):    # we specify the start, because we don't want to include 0!\n",
    "    product *= i          # shorthand notation for self-multiplication\n",
    "print(product)"
   ]
  },
  {
   "cell_type": "markdown",
   "metadata": {},
   "source": [
    "## Part 2\n",
    "\n",
    "Compute the sum of all even numbers from $0$ to $100$.\n",
    "\n",
    "Note: There are multiple ways to approach this! \n",
    "- In Python, the **modulo operator** `%`, used as `a % b`, returns the remainder when $a$ is divided by $b$.\n",
    "- You can change the `step` size in the `range()` function."
   ]
  },
  {
   "cell_type": "code",
   "execution_count": 4,
   "metadata": {},
   "outputs": [
    {
     "name": "stdout",
     "output_type": "stream",
     "text": [
      "2550\n",
      "2550\n"
     ]
    }
   ],
   "source": [
    "# using the modulo operator\n",
    "running_sum = 0\n",
    "for i in range(101):\n",
    "    if i % 2 == 0:\n",
    "        running_sum += i\n",
    "print(running_sum)\n",
    "\n",
    "# using the step parameter\n",
    "running_sum2 = 0\n",
    "for i in range(0, 101, 2):\n",
    "    running_sum2 += i\n",
    "print(running_sum2)"
   ]
  },
  {
   "cell_type": "markdown",
   "metadata": {},
   "source": [
    "## Part 3\n",
    "\n",
    "Define the following piecewise function between $x = -3$ and $x = 5$ using $1000$ points and plot it.\n",
    "\n",
    "$$ \n",
    "\\begin{align*}\n",
    "y(x) &= x \\qquad &x < 0 \\\\\n",
    "y(x) &= \\sin (\\pi x) \\qquad &0 \\le x \\le 1 \\\\\n",
    "y(x) &= \\ln(x) \\qquad &x > 1\n",
    "\\end{align*}\n",
    "$$\n",
    "\n"
   ]
  },
  {
   "cell_type": "code",
   "execution_count": 1,
   "metadata": {},
   "outputs": [
    {
     "data": {
      "image/png": "[encoded data removed]",
      "text/plain": [
       "<Figure size 600x400 with 1 Axes>"
      ]
     },
     "metadata": {},
     "output_type": "display_data"
    }
   ],
   "source": [
    "import numpy as np\n",
    "import matplotlib.pyplot as plt\n",
    "\n",
    "# define x vector\n",
    "x = np.linspace(-3, 5, 1000)\n",
    "\n",
    "# define an empty y vector of the same length\n",
    "y = np.zeros(x.shape)\n",
    "\n",
    "# loop through the indices\n",
    "for i in range(len(x)):\n",
    "    if x[i] < 0:\n",
    "        y[i] = x[i]\n",
    "    elif x[i] <= 1:\n",
    "        y[i] = np.sin(np.pi * x[i])\n",
    "    else:\n",
    "        y[i] = np.log(x[i])\n",
    "\n",
    "\"\"\" alternative way to loop\n",
    "for i,xx in enumerate(x):    # return the index,value of each element in x\n",
    "    if xx < 0:\n",
    "        y[i] = xx\n",
    "    elif xx <= 1:\n",
    "        y[i] = np.sin(np.pi * xx)\n",
    "    else:\n",
    "        y[i] = np.log(xx)\n",
    "\"\"\"\n",
    "\n",
    "# plot y as a function of x\n",
    "fig, ax = plt.subplots()\n",
    "ax.plot(x, y)\n",
    "plt.show()"
   ]
  }
 ],
 "metadata": {
  "kernelspec": {
   "display_name": "Python 3 (ipykernel)",
   "language": "python",
   "name": "python3"
  },
  "language_info": {
   "codemirror_mode": {
    "name": "ipython",
    "version": 3
   },
   "file_extension": ".py",
   "mimetype": "text/x-python",
   "name": "python",
   "nbconvert_exporter": "python",
   "pygments_lexer": "ipython3",
   "version": "3.12.9"
  },
  "widgets": {
   "application/vnd.jupyter.widget-state+json": {
    "state": {},
    "version_major": 2,
    "version_minor": 0
   }
  }
 },
 "nbformat": 4,
 "nbformat_minor": 4
}
