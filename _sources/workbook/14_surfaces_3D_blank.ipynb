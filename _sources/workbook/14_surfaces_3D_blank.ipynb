{
 "cells": [
  {
   "cell_type": "markdown",
   "metadata": {
    "editable": true,
    "slideshow": {
     "slide_type": ""
    },
    "tags": []
   },
   "source": [
    "# Surfaces in 3D - Your turn\n",
    "\n",
    "Plot the function\n",
    "\n",
    "$$ z(x,y) = \\left( \\dfrac{\\sin(\\pi x)}{\\pi x + 10^{-16}} \\right)^2 \\left( \\dfrac{\\sin(\\pi y)}{\\pi y + 10^{-16}} \\right)^2 $$\n",
    "\n",
    "for $x$ and $y$ both ranging between $-\\pi$ and $\\pi$. \n",
    "Use an increment of $0.1$.\n",
    "Add labels and a title.\n",
    "\n",
    "Note: The plot you obtain represents a diffraction pattern produced by a small rectangular aperture illuminated by a monochromatic light beam. \n",
    "The function $z$ represents the intensity of the light behind the aperture.\n",
    "\n",
    "Hint: Try to re-define the limits on $z$ to go from $0$ to $0.3$ to better resolve surface features, and/or choose an appropriate colormap!"
   ]
  },
  {
   "cell_type": "code",
   "execution_count": null,
   "metadata": {
    "editable": true,
    "slideshow": {
     "slide_type": ""
    },
    "tags": []
   },
   "outputs": [],
   "source": [
    "# TODO: Write your solution below\n"
   ]
  },
  {
   "cell_type": "markdown",
   "metadata": {},
   "source": [
    "## Exporting your work\n",
    "\n",
    "When you're ready, the easiest way to export the notebook is to `File > Print` it and save it as a PDF. \n",
    "Remove any excessively long, unrelated outputs first by clicking the arrow → next to the output box and then `Show/hide output`. \n",
    "Obviously don't obscure any necessary output or graphs!"
   ]
  }
 ],
 "metadata": {
  "kernelspec": {
   "display_name": "Python 3 (ipykernel)",
   "language": "python",
   "name": "python3"
  },
  "language_info": {
   "codemirror_mode": {
    "name": "ipython",
    "version": 3
   },
   "file_extension": ".py",
   "mimetype": "text/x-python",
   "name": "python",
   "nbconvert_exporter": "python",
   "pygments_lexer": "ipython3",
   "version": "3.12.9"
  },
  "widgets": {
   "application/vnd.jupyter.widget-state+json": {
    "state": {},
    "version_major": 2,
    "version_minor": 0
   }
  }
 },
 "nbformat": 4,
 "nbformat_minor": 4
}
