{
 "cells": [
  {
   "cell_type": "markdown",
   "metadata": {
    "editable": true,
    "slideshow": {
     "slide_type": ""
    },
    "tags": []
   },
   "source": [
    "# Plots in 1D - Your turn\n",
    "\n",
    "## Part 1\n",
    "\n",
    "Repeat the same exercise as in the demo but for Mercury.\n",
    "As a reminder, the displacement of an object falling under the force of gravity is given by\n",
    "\n",
    "$$ y = \\dfrac{1}{2} gt^2 $$\n",
    "\n",
    "where $g$ is the acceleration due to gravity [units: m s$^{-2}$], $y$ is the distance traveled [m], and $t$ is time [s].\n",
    "The following table gives the values of $g$ for three different planets:\n",
    "\n",
    "| Planet  | $g$ [m s$^{-2}$] |\n",
    "| ------  | ----: |\n",
    "| Earth   |  9.80 |\n",
    "| Jupiter | 24.79 |\n",
    "| Mercury |  3.72 |"
   ]
  },
  {
   "cell_type": "code",
   "execution_count": null,
   "metadata": {
    "editable": true,
    "slideshow": {
     "slide_type": ""
    },
    "tags": []
   },
   "outputs": [],
   "source": [
    "# TODO: Write your solution below\n"
   ]
  },
  {
   "cell_type": "markdown",
   "metadata": {},
   "source": [
    "## Part 2\n",
    "\n",
    "Plot all three curves for the three planets in the same figure. \n",
    "Use different styles for each of the planets and include a legend."
   ]
  },
  {
   "cell_type": "code",
   "execution_count": null,
   "metadata": {},
   "outputs": [],
   "source": [
    "# TODO: Write your solution below\n"
   ]
  },
  {
   "cell_type": "markdown",
   "metadata": {},
   "source": [
    "## Part 3\n",
    "\n",
    "Like in the demo, create three different displacement plots in the same window corresponding to each of the three planets.\n",
    "Note that as things get crowded, you will want to be judicious about where to add labels!\n",
    "\n",
    "Hint: This might be a good time to look into the [`sharey`](https://matplotlib.org/stable/api/_as_gen/matplotlib.pyplot.subplots.html) parameter..."
   ]
  },
  {
   "cell_type": "code",
   "execution_count": null,
   "metadata": {},
   "outputs": [],
   "source": [
    "# TODO: Write your solution below\n"
   ]
  },
  {
   "cell_type": "markdown",
   "metadata": {},
   "source": [
    "## Exporting your work\n",
    "\n",
    "When you're ready, the easiest way to export the notebook is to `File > Print` it and save it as a PDF. \n",
    "Remove any excessively long, unrelated outputs first by clicking the arrow → next to the output box and then `Show/hide output`. \n",
    "Obviously don't obscure any necessary output or graphs!"
   ]
  }
 ],
 "metadata": {
  "kernelspec": {
   "display_name": "Python 3 (ipykernel)",
   "language": "python",
   "name": "python3"
  },
  "language_info": {
   "codemirror_mode": {
    "name": "ipython",
    "version": 3
   },
   "file_extension": ".py",
   "mimetype": "text/x-python",
   "name": "python",
   "nbconvert_exporter": "python",
   "pygments_lexer": "ipython3",
   "version": "3.12.9"
  },
  "widgets": {
   "application/vnd.jupyter.widget-state+json": {
    "state": {},
    "version_major": 2,
    "version_minor": 0
   }
  }
 },
 "nbformat": 4,
 "nbformat_minor": 4
}
