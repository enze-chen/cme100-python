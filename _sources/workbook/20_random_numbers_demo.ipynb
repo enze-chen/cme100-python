{
 "cells": [
  {
   "cell_type": "markdown",
   "metadata": {
    "editable": true,
    "slideshow": {
     "slide_type": ""
    },
    "tags": []
   },
   "source": [
    "# Vectors of random numbers\n",
    "\n",
    "Randomness occurs all the time in engineering (chance, sampling, errors, etc.), so it's important that we are able to model it and visualize the results of random processes."
   ]
  },
  {
   "cell_type": "markdown",
   "metadata": {},
   "source": [
    "## Summary of commands\n",
    "\n",
    "In this exercise, we will demonstrate the following:\n",
    "\n",
    "- [`np.random.default_rng()`](https://numpy.org/doc/stable/reference/random/generator.html) - Object for generating random values.\n",
    "  This is the **preferred way** to generate random numbers in Python.\n",
    "  - Optional `seed` parameter for reproducibility.\n",
    "- [`rng.normal(loc, scale, size)`](https://numpy.org/doc/stable/reference/random/generated/numpy.random.Generator.normal.html) - Draw `size` random numbers from a normal distribution with mean `loc` and standard deviation `scale`.\n",
    "- [`ax.hist(x, bins)`](https://matplotlib.org/stable/api/_as_gen/matplotlib.axes.Axes.hist.html) - Create a frequency plot (histogram) of values in `x` using `bins` number of bins (optional)."
   ]
  },
  {
   "cell_type": "markdown",
   "metadata": {},
   "source": [
    "## Manufacturing uncertainty\n",
    "\n",
    "At the assembly line of a big aircraft company, bolts are stored in boxes containing $1000$ parts each. \n",
    "The bolts are supposed to have a nominal diameter of $5$ mm. \n",
    "But due to the uncertainty in the manufacturing process, some turn out to be larger and some turn out to be smaller than nominal.\n",
    "\n",
    "## Part (a) \n",
    "\n",
    "Create a random vector whose components are the diameters of each bolt in a box.\n",
    "\n",
    "Hints:\n",
    "- `rng.normal()` is centered at `loc` (default: $\\mu = 0$) and `scale` (default: $\\sigma = 1$).\n",
    "  You can scale both as needed.\n",
    "- It can draw $M \\times N$ random numbers, as specified by `size`.\n",
    "- $\\sigma$ is related to the uncertainty in the diameter of the bolts.\n",
    "  Here, $\\sigma = 0.25$ mm.\n",
    "  This means that about $67\\%$ of the bolts have diameters within $0.25$ mm of the nominal diameter.\n",
    "- $\\mu$ is the nominal diameter of the bolts.\n",
    "  Here, $\\mu = 5$ mm."
   ]
  },
  {
   "cell_type": "code",
   "execution_count": 1,
   "metadata": {
    "editable": true,
    "slideshow": {
     "slide_type": ""
    },
    "tags": []
   },
   "outputs": [],
   "source": [
    "import numpy as np\n",
    "\n",
    "# constants\n",
    "sigma = 0.25\n",
    "mu = 5\n",
    "N = 1000\n",
    "\n",
    "# sampling\n",
    "rng = np.random.default_rng(seed=1)    # construct an object to call; seed for consistency\n",
    "x = rng.normal(loc=mu, scale=sigma, size=N)"
   ]
  },
  {
   "cell_type": "markdown",
   "metadata": {},
   "source": [
    "## Part (b)\n",
    "\n",
    "Plot a histogram showing the number of bolts as a function of their diameter."
   ]
  },
  {
   "cell_type": "code",
   "execution_count": 2,
   "metadata": {},
   "outputs": [
    {
     "data": {
      "image/png": "[encoded data removed]",
      "text/plain": [
       "<Figure size 600x400 with 1 Axes>"
      ]
     },
     "metadata": {},
     "output_type": "display_data"
    }
   ],
   "source": [
    "import matplotlib.pyplot as plt\n",
    "fig, ax = plt.subplots()\n",
    "ax.hist(x, 30)\n",
    "ax.set(xlabel=\"Diameter (mm)\", ylabel=\"Number of bolts\")\n",
    "plt.show()"
   ]
  },
  {
   "cell_type": "markdown",
   "metadata": {},
   "source": [
    "```{hint}\n",
    "The `ax.hist()` command takes the vector generated by the `rng.normal()` command as input and counts the number of bolts having a diameter within a certain range (a bin). \n",
    "The number of bins is defined by the second parameter, and it is somewhat of an art to choose the \"correct\" bin size for the plot to look nice.\n",
    "```"
   ]
  }
 ],
 "metadata": {
  "kernelspec": {
   "display_name": "Python 3 (ipykernel)",
   "language": "python",
   "name": "python3"
  },
  "language_info": {
   "codemirror_mode": {
    "name": "ipython",
    "version": 3
   },
   "file_extension": ".py",
   "mimetype": "text/x-python",
   "name": "python",
   "nbconvert_exporter": "python",
   "pygments_lexer": "ipython3",
   "version": "3.12.9"
  },
  "widgets": {
   "application/vnd.jupyter.widget-state+json": {
    "state": {},
    "version_major": 2,
    "version_minor": 0
   }
  }
 },
 "nbformat": 4,
 "nbformat_minor": 4
}
