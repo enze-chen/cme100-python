{
 "cells": [
  {
   "attachments": {},
   "cell_type": "markdown",
   "metadata": {
    "editable": true,
    "slideshow": {
     "slide_type": ""
    },
    "tags": []
   },
   "source": [
    "# Basic matrix operations - Your turn\n",
    "\n",
    "Matrices $A$, $B$, and $C$ and vector $\\vec{b}$ are defined as:\n",
    "\n",
    "$$ A = \\begin{bmatrix} 1 & 4 & 5 \\\\ 4 & 3 & 2 \\\\ -1 & 2 & 5 \\end{bmatrix}, \\qquad B = \\begin{bmatrix} 2 & 3 & 6 \\\\ 2 & 2 & 1 \\\\ 4 & 5 & 7 \\end{bmatrix}, \\qquad C = \\begin{bmatrix} 2 & 1 & 4 \\\\ 5 & 8 & 7 \\\\ 1 & 3 & 2 \\\\ 0 & 7 & 8 \\end{bmatrix}, \\qquad \\vec{b} = \\begin{bmatrix} 6 \\\\ 3 \\\\ 4 \\end{bmatrix} $$\n",
    "\n",
    "Compute the following. \n",
    "If an operation is undefined, explain what Python does:      \n",
    "(a) $BA$   \n",
    "(b) $CA$    \n",
    "(c) $AC$   \n",
    "(d) $AC^T$   "
   ]
  },
  {
   "cell_type": "code",
   "execution_count": null,
   "metadata": {
    "editable": true,
    "slideshow": {
     "slide_type": ""
    },
    "tags": []
   },
   "outputs": [],
   "source": [
    "# TODO: Write your solution below\n"
   ]
  },
  {
   "cell_type": "code",
   "execution_count": null,
   "metadata": {
    "editable": true,
    "slideshow": {
     "slide_type": ""
    },
    "tags": []
   },
   "outputs": [],
   "source": []
  },
  {
   "cell_type": "markdown",
   "metadata": {},
   "source": [
    "## TODO: Write your explanation below, if applicable\n",
    "\n"
   ]
  },
  {
   "cell_type": "markdown",
   "metadata": {
    "editable": true,
    "slideshow": {
     "slide_type": ""
    },
    "tags": []
   },
   "source": [
    "Next, compute the following:    \n",
    "(e) Row reduce the augmented matrix $[A\\ |\\ \\vec{b}]$.    \n",
    "(f) Row reduce the augmented matrix $[B\\ |\\ \\vec{b}]$."
   ]
  },
  {
   "cell_type": "code",
   "execution_count": null,
   "metadata": {
    "editable": true,
    "slideshow": {
     "slide_type": ""
    },
    "tags": []
   },
   "outputs": [],
   "source": [
    "# TODO: Write your solution below\n"
   ]
  },
  {
   "cell_type": "markdown",
   "metadata": {},
   "source": [
    "## Exporting your work\n",
    "\n",
    "When you're ready, the easiest way to export the notebook is to `File > Print` it and save it as a PDF. \n",
    "Remove any excessively long, unrelated outputs first by clicking the arrow → next to the output box and then `Show/hide output`. \n",
    "Obviously don't obscure any necessary output or graphs!"
   ]
  }
 ],
 "metadata": {
  "kernelspec": {
   "display_name": "Python 3 (ipykernel)",
   "language": "python",
   "name": "python3"
  },
  "language_info": {
   "codemirror_mode": {
    "name": "ipython",
    "version": 3
   },
   "file_extension": ".py",
   "mimetype": "text/x-python",
   "name": "python",
   "nbconvert_exporter": "python",
   "pygments_lexer": "ipython3",
   "version": "3.12.9"
  },
  "widgets": {
   "application/vnd.jupyter.widget-state+json": {
    "state": {},
    "version_major": 2,
    "version_minor": 0
   }
  }
 },
 "nbformat": 4,
 "nbformat_minor": 4
}
