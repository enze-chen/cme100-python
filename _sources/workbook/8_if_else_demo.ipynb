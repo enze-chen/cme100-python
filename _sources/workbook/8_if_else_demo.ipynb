{
 "cells": [
  {
   "cell_type": "markdown",
   "metadata": {
    "editable": true,
    "slideshow": {
     "slide_type": ""
    },
    "tags": []
   },
   "source": [
    "# If—elif—else statements\n",
    "\n",
    "Sometimes you want greater control over the sequence of code execution, and that's where **control flow** comes in.\n",
    "Here we'll work with the `if`, `elif` (else if), and `else` constructs for **conditional statements**."
   ]
  },
  {
   "cell_type": "markdown",
   "metadata": {},
   "source": [
    "## Conditional statements\n",
    "\n",
    "In Python, the general structure is like this:\n",
    "\n",
    "```python\n",
    "if condition1:\n",
    "    <do something only when condition1 is True>\n",
    "elif condition2:\n",
    "    <otherwise, do something else if condition2 is True> (and condition1 was False)\n",
    "else:\n",
    "    <otherwise, do something else>\n",
    "```\n",
    "\n",
    "```{note}\n",
    "`if` is required, and the other two are _optional_.\n",
    "```\n",
    "\n",
    "```{note}\n",
    "In MATLAB, control flow blocks have an `end` to conclude. No need for that in Python!\n",
    "```"
   ]
  },
  {
   "cell_type": "markdown",
   "metadata": {},
   "source": [
    "## Part 1\n",
    "\n",
    "Suppose you are buying apples at a supermarket. \n",
    "If you buy more than $5$ apples, you get a $10\\%$ discount. \n",
    "Write a program computing the amount owed given the price per apple (assume it to be $\\$1$) and the number of apples purchased."
   ]
  },
  {
   "cell_type": "code",
   "execution_count": 2,
   "metadata": {
    "editable": true,
    "slideshow": {
     "slide_type": ""
    },
    "tags": []
   },
   "outputs": [
    {
     "name": "stdout",
     "output_type": "stream",
     "text": [
      "Amount owed for 6 apples: $5.40\n"
     ]
    }
   ],
   "source": [
    "n = 6       # number of apples purchased\n",
    "price = 1   # price of one apple\n",
    "\n",
    "if n > 5:\n",
    "    cost = 0.9 * price * n\n",
    "else:\n",
    "    cost = price * n\n",
    "\n",
    "\"\"\" this is a block comment, showing another solution\n",
    "cost = price * n\n",
    "if n > 5:\n",
    "    cost *= 0.9\n",
    "\"\"\"\n",
    "print(f\"Amount owed for {n} apples: ${cost:.2f}\")"
   ]
  },
  {
   "cell_type": "markdown",
   "metadata": {},
   "source": [
    "In the above, we used [**f-strings**](https://docs.python.org/3/tutorial/inputoutput.html#formatted-string-literals), which Enze thinks is one of the coolest things since sliced bread. 🍞"
   ]
  },
  {
   "cell_type": "markdown",
   "metadata": {},
   "source": [
    "## Part 2\n",
    "\n",
    "Suppose now the store offers a super discount of $40\\%$ if you buy more than $20$ apples. \n",
    "Modify the code in Part 1 to implement this new condition using the `elif` statement.\n",
    "\n",
    "```{tip}\n",
    "When programming conditional statements, we generally put equality conditions first, followed by bounded inequalities, and finally unbounded conditions.\n",
    "```"
   ]
  },
  {
   "cell_type": "code",
   "execution_count": 6,
   "metadata": {},
   "outputs": [
    {
     "name": "stdout",
     "output_type": "stream",
     "text": [
      "Amount owed for 21 apples: $12.60\n"
     ]
    }
   ],
   "source": [
    "n = 21       # number of apples purchased\n",
    "price = 1    # price of one apple\n",
    "\n",
    "if n > 5 and n <= 20:\n",
    "    cost = 0.9 * price * n\n",
    "elif n > 20:\n",
    "    cost = 0.6 * price * n\n",
    "else:\n",
    "    cost = price * n\n",
    "\n",
    "print(f\"Amount owed for {n} apples: ${cost:.2f}\")"
   ]
  },
  {
   "cell_type": "markdown",
   "metadata": {},
   "source": [
    "```{important}\n",
    "In Python, logical \"and\" uses the actual word `and` instead of the symbols `&&` as it's commonly done in other languages.\n",
    "Similarly, logical \"or\" uses the actual word `or`.\n",
    "Finally, please don't confuse these keywords (no quotes) with the literal strings `'and'` and `'or'`!\n",
    "```"
   ]
  }
 ],
 "metadata": {
  "kernelspec": {
   "display_name": "Python 3 (ipykernel)",
   "language": "python",
   "name": "python3"
  },
  "language_info": {
   "codemirror_mode": {
    "name": "ipython",
    "version": 3
   },
   "file_extension": ".py",
   "mimetype": "text/x-python",
   "name": "python",
   "nbconvert_exporter": "python",
   "pygments_lexer": "ipython3",
   "version": "3.12.9"
  },
  "widgets": {
   "application/vnd.jupyter.widget-state+json": {
    "state": {},
    "version_major": 2,
    "version_minor": 0
   }
  }
 },
 "nbformat": 4,
 "nbformat_minor": 4
}
