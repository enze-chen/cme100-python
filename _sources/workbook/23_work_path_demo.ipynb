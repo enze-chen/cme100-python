{
 "cells": [
  {
   "cell_type": "markdown",
   "metadata": {
    "editable": true,
    "slideshow": {
     "slide_type": ""
    },
    "tags": []
   },
   "source": [
    "# Computing work done by a force along a path\n",
    "\n",
    "Now that we know how to perform numerical differentiation and integration, we can begin applying the techniques to solve engineering problems.\n",
    "We start with a classic application: computing work."
   ]
  },
  {
   "cell_type": "markdown",
   "metadata": {},
   "source": [
    "## Solar pressure\n",
    "\n",
    "Our sun continuously radiates energy in the form of electromagnetic waves.\n",
    "When these waves are reflected off of or absorbed by a surface, pressure is applied. \n",
    "These infinitesimal forces cause a small acceleration, which, in the case of a satellite in orbit, modifies its path.\n",
    "\n",
    "In this example, we'll compute the work done by the force due to solar pressure acting on a satellite traveling in an elliptical orbit around the sun.\n",
    "\n",
    "The force due to solar radiation can be written as\n",
    "\n",
    "$$ \\vec{F} = -\\dfrac{1}{c} GA \\vec{s} $$\n",
    "\n",
    "where:\n",
    "- $c$ is the speed of light, $3 \\times 10^8$ m s$^{-1}$.\n",
    "- $G$ is the incident solar power flux, $G = 1350$ Watt m$^{-2}$.\n",
    "- $A$ is the area of the spacecraft normal to the sun.\n",
    "  The area is assumed to be constant $A = 8$ m$^2$.\n",
    "- $\\vec{s}$ is the unit vector directed from the spacecraft toward the sun."
   ]
  },
  {
   "cell_type": "markdown",
   "metadata": {},
   "source": [
    "The orbit is planar and is given parametrically by the following equation:\n",
    "\n",
    "$$ r(t) = 1.5 \\times 10^{11} \\cos(t)\\ \\vec{i} + 1.3 \\times 10^{11} \\sin(t)\\ \\vec{j} \\quad \\text{with}\\ 0 \\le t \\le 2\\pi $$\n",
    "\n",
    "Find the work done by the force of solar radiation on the spacecraft over the following interval: $0 \\le t \\le \\dfrac{\\pi}{2} $.\n",
    "Use the time step of $dt = 0.001$."
   ]
  },
  {
   "cell_type": "markdown",
   "metadata": {},
   "source": [
    "### Procedure\n",
    "\n",
    "To calcuate the work done, we apply the following formula:\n",
    "\n",
    "$$ W = \\int \\vec{F} \\cdot \\mathrm{d}\\vec{r} = \\int \\vec{F} \\cdot \\vec{v}\\ \\mathrm{d}t = \\int |\\vec{F}| |\\vec{v}| \\cos\\theta\\ \\mathrm{d}t, $$\n",
    "\n",
    "where $\\theta$ is the angle between the velocity vector and the force.\n",
    "Each component of the integrand is computed separately. \n",
    "Then the integral is computed using the `trapezoid()` command."
   ]
  },
  {
   "cell_type": "code",
   "execution_count": 21,
   "metadata": {
    "editable": true,
    "slideshow": {
     "slide_type": ""
    },
    "tags": []
   },
   "outputs": [
    {
     "name": "stdout",
     "output_type": "stream",
     "text": [
      "The work done is -720001.14 J\n"
     ]
    }
   ],
   "source": [
    "import numpy as np\n",
    "from scipy.integrate import trapezoid\n",
    "\n",
    "# constants\n",
    "G = 1350\n",
    "A = 8\n",
    "c = 3e8\n",
    "dt = 0.001\n",
    "\n",
    "# orbit\n",
    "t = np.arange(0, np.pi/2, dt)\n",
    "a = 1.5e11\n",
    "b = 1.3e11\n",
    "x = a * np.cos(t)\n",
    "y = b * np.sin(t)\n",
    "\n",
    "# velocity\n",
    "vx = np.gradient(x, dt)\n",
    "vy = np.gradient(y, dt)\n",
    "speed = np.sqrt(vx**2 + vy**2)\n",
    "\n",
    "# acceleration\n",
    "ax = np.gradient(vx, dt)\n",
    "ay = np.gradient(vy, dt)\n",
    "accel = np.sqrt(ax**2 + ay**2)\n",
    "\n",
    "# force mag and angle between v and F (use a as proxy)\n",
    "F = -1/c * G * A\n",
    "costheta = (vx * ax + vy * ay) / speed / accel\n",
    "\n",
    "# work done\n",
    "W = trapezoid(np.abs(F) * speed * costheta, t)\n",
    "print(f\"The work done is {W:.2f} J\")"
   ]
  },
  {
   "cell_type": "markdown",
   "metadata": {},
   "source": [
    "```{note}\n",
    "Due to slight differences in implementation, particularly with handling boundary values, the result from `trapezoid()` in Python will differ from the result obtained using `trapz()` in MATLAB. 🤷🏼‍♂️\n",
    "```"
   ]
  }
 ],
 "metadata": {
  "kernelspec": {
   "display_name": "Python 3 (ipykernel)",
   "language": "python",
   "name": "python3"
  },
  "language_info": {
   "codemirror_mode": {
    "name": "ipython",
    "version": 3
   },
   "file_extension": ".py",
   "mimetype": "text/x-python",
   "name": "python",
   "nbconvert_exporter": "python",
   "pygments_lexer": "ipython3",
   "version": "3.12.9"
  },
  "widgets": {
   "application/vnd.jupyter.widget-state+json": {
    "state": {},
    "version_major": 2,
    "version_minor": 0
   }
  }
 },
 "nbformat": 4,
 "nbformat_minor": 4
}
