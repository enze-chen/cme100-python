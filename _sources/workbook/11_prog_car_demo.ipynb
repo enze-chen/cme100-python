{
 "cells": [
  {
   "cell_type": "markdown",
   "metadata": {
    "editable": true,
    "slideshow": {
     "slide_type": ""
    },
    "tags": []
   },
   "source": [
    "# Car motion example\n",
    "\n",
    "The next few exercises in this workbook will give us a chance to practice what we've learned so far through engineering applications."
   ]
  },
  {
   "cell_type": "markdown",
   "metadata": {},
   "source": [
    "## Newton's laws of motion\n",
    "\n",
    "Starting from rest, a car (mass = $900$ kg) accelerates under the influence of a force of $2000$ N until it reaches $13.89$ m/s ($50$ km/h). \n",
    "What is the distance traveled?\n",
    "How long does it take to travel this distance?\n",
    "\n",
    "Recall that Newton's second law of motion says:\n",
    "\n",
    "$$ F = m \\dfrac{dv}{dt} \\tag{1} $$\n",
    "\n",
    "This equation determines the velocity of the car as a function of time. \n",
    "To obtain the position of the car, we use the following kinematic relation:\n",
    "\n",
    "$$ v = \\dfrac{dx}{dt} \\tag{2} $$"
   ]
  },
  {
   "cell_type": "markdown",
   "metadata": {},
   "source": [
    "Although this problem can be solved analytically, in this exercise we would like to come up with a numerical solution using Python. \n",
    "We first need to discretize the equations, i.e., evaluate the position and velocity at equally spaced discrete points in time, since Python\n",
    "doesn’t know how to interpret continuous functions. \n",
    "The solution for $v(t)$ and $x(t)$ will then be represented by vectors containing the values of the velocity and the position of the car\n",
    "respectively at these discrete points in time separated by $\\Delta t$.\n",
    "\n",
    "The time derivative for the velocity in Equation 1 can be approximated by:\n",
    "\n",
    "$$ \\dfrac{dv}{dt} \\approx \\dfrac{v(t + \\Delta t) - v(t)}{\\Delta t} $$\n",
    "\n",
    "Equation 1 then becomes:\n",
    "\n",
    "$$ \\frac{F}{m} = \\dfrac{v(t + \\Delta t) - v(t)}{\\Delta t} \\quad \\Leftrightarrow \\quad v(t + \\Delta t) = v(t) + \\Delta t \\frac{F}{m} $$\n",
    "\n",
    "or, if we solve for the velocity at step $n+1$:\n",
    "\n",
    "$$ v(n+1) = v(n) + \\Delta t \\dfrac{F}{m} $$\n",
    "\n",
    "where the unknown is $v(n + 1)$."
   ]
  },
  {
   "cell_type": "markdown",
   "metadata": {},
   "source": [
    "Similarly, Equation 2 becomes:\n",
    "\n",
    "$$ \\dfrac{x(t + \\Delta t) - x(t)}{\\Delta t} = v(t) \\quad \\Leftrightarrow \\quad x(t + \\Delta t) = x(t) + \\Delta t v(t) $$\n",
    "\n",
    "and the position at step $n + 1$ will be given by:\n",
    "\n",
    "$$ x(n+1) = x(n) + \\Delta t v(n) $$\n",
    "\n",
    "Solve the above equations for position and velocity and plot the position as a function of time. \n",
    "Take $\\Delta t = 0.1$ s.\n",
    "Display the distance traveled and the time it takes to reach $50$ km/h."
   ]
  },
  {
   "cell_type": "code",
   "execution_count": 2,
   "metadata": {
    "editable": true,
    "slideshow": {
     "slide_type": ""
    },
    "tags": []
   },
   "outputs": [
    {
     "name": "stdout",
     "output_type": "stream",
     "text": [
      "We traveled 43.4 m and it took 6.3 s!\n"
     ]
    },
    {
     "data": {
      "image/png": "[encoded data removed]",
      "text/plain": [
       "<Figure size 600x400 with 1 Axes>"
      ]
     },
     "metadata": {},
     "output_type": "display_data"
    }
   ],
   "source": [
    "import numpy as np\n",
    "import matplotlib.pyplot as plt\n",
    "\n",
    "F = 2000     # force in Newtons\n",
    "m = 900      # mass in kilograms\n",
    "dt = 0.1     # time step in seconds\n",
    "vf = 13.89   # final velocity\n",
    "\n",
    "t = [0]\n",
    "v = [0]\n",
    "x = [0]\n",
    "\n",
    "while v[-1] < vf:\n",
    "    t.append(t[-1] + dt)\n",
    "    v.append(v[-1] + F/m * dt)\n",
    "    x.append(x[-1] + v[-2] * dt)   # note the indexing since we already appended to v!\n",
    "\n",
    "print(f\"We traveled {x[-1]:.1f} m and it took {t[-1]:.1f} s!\")\n",
    "fig, ax = plt.subplots()\n",
    "ax.plot(t, x)\n",
    "ax.set(xlabel=\"Time [s]\", ylabel=\"Position [m]\", xlim=[0,t[-1]])   # set x-axis limits to look a bit nicer\n",
    "plt.show()"
   ]
  },
  {
   "cell_type": "markdown",
   "metadata": {},
   "source": [
    "```{note}\n",
    "Discretizing Newton's laws of motion for computational physics seems straightforward, but it's actually a great lesson in numerical schemes and error analysis.\n",
    "The above scheme, which may be called Euler's method, is easier to understand but not very precise, as the error scales as $\\Delta t$.\n",
    "In Enze's molecular dynamics simulations, for example, which propagate _hundreds of thousands_ of atoms colliding over _billions_ of time steps, these errors add up!\n",
    "There are other clever tricks scientists employ, and you'll learn about a class of Runge-Kutta methods in CME 102!\n",
    "```"
   ]
  }
 ],
 "metadata": {
  "kernelspec": {
   "display_name": "Python 3 (ipykernel)",
   "language": "python",
   "name": "python3"
  },
  "language_info": {
   "codemirror_mode": {
    "name": "ipython",
    "version": 3
   },
   "file_extension": ".py",
   "mimetype": "text/x-python",
   "name": "python",
   "nbconvert_exporter": "python",
   "pygments_lexer": "ipython3",
   "version": "3.12.9"
  },
  "widgets": {
   "application/vnd.jupyter.widget-state+json": {
    "state": {},
    "version_major": 2,
    "version_minor": 0
   }
  }
 },
 "nbformat": 4,
 "nbformat_minor": 4
}
