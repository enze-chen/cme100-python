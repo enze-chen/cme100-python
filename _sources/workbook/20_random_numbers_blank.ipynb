{
 "cells": [
  {
   "cell_type": "markdown",
   "metadata": {
    "editable": true,
    "slideshow": {
     "slide_type": ""
    },
    "tags": []
   },
   "source": [
    "# Vectors of random numbers - Your turn\n",
    "\n",
    "On the same assembly line, nuts are produced in boxes containing $5000$ parts each. \n",
    "All nuts have a nominal diameter of $5.5$ mm; however, the nuts in each box have been machined to different tolerances. \n",
    "Using `plt.subplots()`, plot the distributions of nuts as a function of their size for each of the four boxes for which the standard deviations are respectively $\\sigma=0.45$ mm, $0.50$ mm, $0.55$ mm, and $0.60$ mm.\n",
    "\n",
    "Hint: `sharex` and `sharey` in `plt.subplots()` may come in handy here!"
   ]
  },
  {
   "cell_type": "code",
   "execution_count": null,
   "metadata": {},
   "outputs": [],
   "source": [
    "# TODO: Write your solution below\n"
   ]
  },
  {
   "cell_type": "markdown",
   "metadata": {},
   "source": [
    "## Exporting your work\n",
    "\n",
    "When you're ready, the easiest way to export the notebook is to `File > Print` it and save it as a PDF. \n",
    "Remove any excessively long, unrelated outputs first by clicking the arrow → next to the output box and then `Show/hide output`. \n",
    "Obviously don't obscure any necessary output or graphs!"
   ]
  }
 ],
 "metadata": {
  "kernelspec": {
   "display_name": "Python 3 (ipykernel)",
   "language": "python",
   "name": "python3"
  },
  "language_info": {
   "codemirror_mode": {
    "name": "ipython",
    "version": 3
   },
   "file_extension": ".py",
   "mimetype": "text/x-python",
   "name": "python",
   "nbconvert_exporter": "python",
   "pygments_lexer": "ipython3",
   "version": "3.12.9"
  },
  "widgets": {
   "application/vnd.jupyter.widget-state+json": {
    "state": {},
    "version_major": 2,
    "version_minor": 0
   }
  }
 },
 "nbformat": 4,
 "nbformat_minor": 4
}
