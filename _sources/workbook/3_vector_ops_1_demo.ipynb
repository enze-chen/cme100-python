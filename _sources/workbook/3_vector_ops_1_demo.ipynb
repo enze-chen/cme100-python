{
 "cells": [
  {
   "cell_type": "markdown",
   "metadata": {
    "editable": true,
    "slideshow": {
     "slide_type": ""
    },
    "tags": []
   },
   "source": [
    "# Vector operations I\n",
    "\n",
    "In engineering mathematics, we often have to work with **vector** quantities, like force, position, electric field, etc.\n",
    "In scientific computing in Python, these vectors are encoded as one-dimensional **NumPy arrays**, and these exercises walk you through how to create them."
   ]
  },
  {
   "cell_type": "markdown",
   "metadata": {},
   "source": [
    "## Summary of commands\n",
    "\n",
    "In this exercise, we will demonstrate the following:\n",
    "- [`type(x)`](https://docs.python.org/3/library/functions.html#type) - Function to display the type of an object `x`.\n",
    "- The [NumPy](https://numpy.org/doc/stable/index.html) package for scientific computing, specifically\n",
    "  - [`np.array(list)`](https://numpy.org/doc/stable/reference/generated/numpy.array.html) - Constructor for NumPy arrays from a `list` object.\n",
    "  - [`np.linspace(start, stop, num)`](https://numpy.org/doc/stable/reference/generated/numpy.linspace.html) - Function for creating an array with `num` evenly spaced elements  between `start` and `stop`, inclusive.\n",
    "  - [`np.arange(start, stop, step)`](https://numpy.org/doc/stable/reference/generated/numpy.arange.html) - Function for creating an array from `start`, incrementing by `step`, up to and _not including_ `stop`."
   ]
  },
  {
   "cell_type": "markdown",
   "metadata": {},
   "source": [
    "## Manual enumeration\n",
    "\n",
    "One way to create a vector is to manually specify each element.\n",
    "We'll first construct a **list** data structure in Python using square brackets `[]` and use the `type()` function to confirm."
   ]
  },
  {
   "cell_type": "code",
   "execution_count": 1,
   "metadata": {
    "editable": true,
    "slideshow": {
     "slide_type": ""
    },
    "tags": []
   },
   "outputs": [
    {
     "name": "stdout",
     "output_type": "stream",
     "text": [
      "<class 'list'>\n",
      "[1, 2, 3]\n"
     ]
    }
   ],
   "source": [
    "my_list = [1, 2, 3]\n",
    "\n",
    "print(type(my_list))\n",
    "print(my_list)"
   ]
  },
  {
   "cell_type": "markdown",
   "metadata": {},
   "source": [
    "Now, the above looks like a vector, but we're not quite done yet.\n",
    "We have to convert it to an array using the canonical scientific computing library [NumPy](https://numpy.org/).\n",
    "\n",
    "Like other programming languages (including MATLAB), in Python we have to import any special packages we want to use, such as:\n",
    "\n",
    "```python\n",
    "import my_package_name\n",
    "\n",
    "my_package_name.special_function()\n",
    "```\n",
    "\n",
    "And then any functions we want to use from that package will have the package name prepended with a period.\n",
    "But, since NumPy is used _so_ frequently, the community has a special paradigm to abbreviate the package import (with an _alias_) as follows:\n",
    "\n",
    "```python\n",
    "import numpy as np\n",
    "\n",
    "np.special_function()\n",
    "```\n",
    "\n",
    "This saves your fingers a bit, and we will adopt this practice as well.\n",
    "We will import NumPy and then convert the list from above to a NumPy array using the [`np.array()`](https://numpy.org/doc/stable/reference/generated/numpy.array.html) constructor."
   ]
  },
  {
   "cell_type": "code",
   "execution_count": 2,
   "metadata": {
    "editable": true,
    "slideshow": {
     "slide_type": ""
    },
    "tags": []
   },
   "outputs": [
    {
     "name": "stdout",
     "output_type": "stream",
     "text": [
      "<class 'numpy.ndarray'>\n",
      "[1 2 3]\n"
     ]
    }
   ],
   "source": [
    "import numpy as np\n",
    "my_array = np.array(my_list)\n",
    "\n",
    "print(type(my_array))\n",
    "print(my_array)"
   ]
  },
  {
   "cell_type": "markdown",
   "metadata": {},
   "source": [
    "Note how the printed array looks the same as the list, but it is a different class.\n",
    "\n",
    "```{note}\n",
    "We should mention: Not only do you have to import special packages, but you also have to **install** them into your Python environment.\n",
    "Luckily, if you're using the Colab environment, all of the packages we're using are common enough to come pre-installed.\n",
    "```"
   ]
  },
  {
   "cell_type": "markdown",
   "metadata": {},
   "source": [
    "Now we'll do a series of tasks:\n",
    "- Display each element. We can select array elements by using the appropriate **index**, `array[ind]`.\n",
    "- Multiple the first and second elements. We use the standard `*` operator with the selected elements.\n",
    "- Change the third element to `4` and display the new vector on the screen.\n",
    "\n",
    "```{important}\n",
    "Python is **0-indexed** which means the first element of an `array` is `array[0]`, not `array[1]`! \n",
    "This is one of the _biggest differences_ between Python and MATLAB.\n",
    "```"
   ]
  },
  {
   "cell_type": "code",
   "execution_count": 3,
   "metadata": {
    "editable": true,
    "slideshow": {
     "slide_type": ""
    },
    "tags": []
   },
   "outputs": [
    {
     "name": "stdout",
     "output_type": "stream",
     "text": [
      "1\n",
      "2\n",
      "3\n",
      "\n",
      "2\n",
      "\n",
      "[1 2 4]\n"
     ]
    }
   ],
   "source": [
    "# Display each element\n",
    "print(my_array[0])\n",
    "print(my_array[1])\n",
    "print(my_array[2])\n",
    "print()\n",
    "\n",
    "# Multiply the first and second elements\n",
    "print(my_array[0] * my_array[1])\n",
    "print()\n",
    "\n",
    "# Change the third element to 4\n",
    "my_array[2] = 4\n",
    "print(my_array)"
   ]
  },
  {
   "cell_type": "markdown",
   "metadata": {},
   "source": [
    "## Helper functions\n",
    "\n",
    "Creating vectors manually isn't bad when there are only a few elements, but it would be quite annoying if you had dozens or hundreds of entries! 😵‍💫\n",
    "Luckily, there are some convenient functions that can be employed depending on your use case.\n",
    "\n",
    "### You want exactly $N$ equally spaced values\n",
    "\n",
    "Here you want to use the [`np.linspace(start, stop, num)`](https://numpy.org/doc/stable/reference/generated/numpy.linspace.html) function, which accepts as arguments:\n",
    "- `start`: The first value of your array. Required.\n",
    "- `stop`: The last value of your array. Required.\n",
    "- `num`: The total number of elements in your array, equally spaced between start and stop _inclusive_ (by default).\n",
    "  If you do not specify this parameter, the default is `50`."
   ]
  },
  {
   "cell_type": "code",
   "execution_count": 5,
   "metadata": {
    "editable": true,
    "slideshow": {
     "slide_type": ""
    },
    "tags": []
   },
   "outputs": [
    {
     "name": "stdout",
     "output_type": "stream",
     "text": [
      "[ 0.  3.  6.  9. 12.]\n"
     ]
    }
   ],
   "source": [
    "my_array2 = np.linspace(0, 12, 5)\n",
    "print(my_array2)"
   ]
  },
  {
   "cell_type": "markdown",
   "metadata": {},
   "source": [
    "Some notes:\n",
    "- In Python, functions can be called with explicit parameter names, if you want.\n",
    "  So `np.linspace(start=0, stop=10, num=6)` also would've worked.\n",
    "- You can use `array.shape` to check the dimensions of the vector you constructed.\n",
    "  `array.size` returns the total number of elements (essentially a product of all array dimensions).\n",
    "\n",
    "```{note}\n",
    "NumPy can be a little tricky when it comes to vectors (1-D arrays) and whether it's a row vector or column vector. \n",
    "You'll notice the shape below is abbreviated `(5,)`. \n",
    "We'll discuss this nuance later when we encounter it.\n",
    "```"
   ]
  },
  {
   "cell_type": "code",
   "execution_count": 7,
   "metadata": {
    "editable": true,
    "slideshow": {
     "slide_type": ""
    },
    "tags": []
   },
   "outputs": [
    {
     "name": "stdout",
     "output_type": "stream",
     "text": [
      "[ 0.  3.  6.  9. 12.]\n",
      "(5,)\n",
      "5\n"
     ]
    }
   ],
   "source": [
    "my_array2 = np.linspace(start=0, stop=12, num=5)\n",
    "print(my_array2)\n",
    "print(my_array2.shape)\n",
    "print(my_array2.size)"
   ]
  },
  {
   "cell_type": "markdown",
   "metadata": {},
   "source": [
    "### You want values equally spaced by $\\delta$\n",
    "\n",
    "Here you want to use the [`np.arange(start, stop, step)`](https://numpy.org/doc/stable/reference/generated/numpy.arange.html) function, which accepts as arguments:\n",
    "- `start`: The first value of your array. Default is `0`, but best to always specify.\n",
    "- `stop`: The last value of your array, **not inclusive**. Required.\n",
    "- `step`: The increment between values starting from `start` and going up to _but not including_ `stop`. Default is `1`."
   ]
  },
  {
   "cell_type": "code",
   "execution_count": 8,
   "metadata": {
    "editable": true,
    "slideshow": {
     "slide_type": ""
    },
    "tags": []
   },
   "outputs": [
    {
     "name": "stdout",
     "output_type": "stream",
     "text": [
      "[0 3 6 9]\n",
      "[ 0  3  6  9 12]\n"
     ]
    }
   ],
   "source": [
    "# not quite!\n",
    "my_array3 = np.arange(0, 12, 3)\n",
    "print(my_array3)\n",
    "\n",
    "# better\n",
    "my_array3_redo = np.arange(0, 13, 3)\n",
    "print(my_array3_redo)"
   ]
  }
 ],
 "metadata": {
  "kernelspec": {
   "display_name": "Python 3 (ipykernel)",
   "language": "python",
   "name": "python3"
  },
  "language_info": {
   "codemirror_mode": {
    "name": "ipython",
    "version": 3
   },
   "file_extension": ".py",
   "mimetype": "text/x-python",
   "name": "python",
   "nbconvert_exporter": "python",
   "pygments_lexer": "ipython3",
   "version": "3.12.9"
  },
  "widgets": {
   "application/vnd.jupyter.widget-state+json": {
    "state": {},
    "version_major": 2,
    "version_minor": 0
   }
  }
 },
 "nbformat": 4,
 "nbformat_minor": 4
}
