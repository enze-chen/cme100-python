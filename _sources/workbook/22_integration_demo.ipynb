{
 "cells": [
  {
   "cell_type": "markdown",
   "metadata": {
    "editable": true,
    "slideshow": {
     "slide_type": ""
    },
    "tags": []
   },
   "source": [
    "# Numerical integration\n",
    "\n",
    "Just as we demonstrated numerical differentiation (with `np.gradient()`) a few lessons ago, now we will work with numerical integration, specifically the trapezoidal method for its efficiency."
   ]
  },
  {
   "cell_type": "markdown",
   "metadata": {},
   "source": [
    "## Summary of commands\n",
    "\n",
    "In this exercise, we will demonstrate the following:\n",
    "\n",
    "- [`scipy.integrate.trapezoid()`](https://docs.scipy.org/doc/scipy/reference/generated/scipy.integrate.trapezoid.html) - Computes the integral of a function over a given domain using the trapezoidal method.\n",
    "\n",
    "This function comes from the [SciPy](https://docs.scipy.org/doc/scipy/index.html) package and has the signature `trapezoid(y, x)`, where:\n",
    "- `y` is an **array of $y$ values** corresponding to $f(x)$.\n",
    "  It is _not_ the analytical expression for $f(x)$ the way it was for `fmin()`.\n",
    "- `x` is an **array of $x$ values** corresponding to each of the values in the `y` array.\n",
    "  This argument is technically optional, but then the default assumes `x = [0, 1, 2, ...]` (or $\\Delta x = 1$) which probably will not result in the correct answer!"
   ]
  },
  {
   "cell_type": "markdown",
   "metadata": {},
   "source": [
    "## Integrating functions\n",
    "\n",
    "Compute the integral of the function $f(x) = x^2 + x + 1$ for $0 \\le x \\le 1$ using the trapezoidal method. \n",
    "Compare the result to the exact analytical solution."
   ]
  },
  {
   "cell_type": "code",
   "execution_count": 12,
   "metadata": {
    "editable": true,
    "slideshow": {
     "slide_type": ""
    },
    "tags": []
   },
   "outputs": [
    {
     "name": "stdout",
     "output_type": "stream",
     "text": [
      "1.833333500333834\n"
     ]
    }
   ],
   "source": [
    "import numpy as np\n",
    "from scipy.integrate import trapezoid\n",
    "\n",
    "# define domain and function\n",
    "x = np.linspace(0, 1, 1000)\n",
    "fx = x ** 2 + x + 1\n",
    "\n",
    "# integrate\n",
    "res = trapezoid(fx, x)\n",
    "print(res)"
   ]
  },
  {
   "cell_type": "markdown",
   "metadata": {},
   "source": [
    "The analytical result is \n",
    "\n",
    "$$ \\int_0^1 x^2 + x + 1\\ \\mathrm{d}x = \\dfrac{1}{3}x^3 + \\dfrac{1}{2}x^2 + x\\ \\bigg|_0^1 = \\dfrac{11}{6} \\approx 1.833 $$"
   ]
  }
 ],
 "metadata": {
  "kernelspec": {
   "display_name": "Python 3 (ipykernel)",
   "language": "python",
   "name": "python3"
  },
  "language_info": {
   "codemirror_mode": {
    "name": "ipython",
    "version": 3
   },
   "file_extension": ".py",
   "mimetype": "text/x-python",
   "name": "python",
   "nbconvert_exporter": "python",
   "pygments_lexer": "ipython3",
   "version": "3.12.9"
  },
  "widgets": {
   "application/vnd.jupyter.widget-state+json": {
    "state": {},
    "version_major": 2,
    "version_minor": 0
   }
  }
 },
 "nbformat": 4,
 "nbformat_minor": 4
}
