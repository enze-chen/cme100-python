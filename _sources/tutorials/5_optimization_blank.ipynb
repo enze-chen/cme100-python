{
 "cells": [
  {
   "cell_type": "markdown",
   "metadata": {},
   "source": [
    "# T5: Optimization\n",
    "\n",
    "```{note}\n",
    "Click the {fa}`rocket` and open this notebook in Colab to enable interactivity.\n",
    "```\n",
    "\n",
    "```{note}\n",
    "To save your progress, make a copy of this notebook in Colab `File > Save a copy in Drive` and you'll find it in `My Drive > Colab Notebooks`.\n",
    "```\n",
    "\n",
    "Optimization routines are used in many situations, both with and without constraints. \n",
    "Here we will demonstrate a few helpful functions that you can use to perform numerical optimization of functions."
   ]
  },
  {
   "cell_type": "markdown",
   "metadata": {},
   "source": [
    "## Simple domain constraints\n",
    "\n",
    "### Example 1\n",
    "\n",
    "Find the local extrema of $f(x) = \\sin(x^2)$ on the interval $\\left[ -2 \\sqrt{\\pi}, 2 \\sqrt{\\pi} \\right]$.\n",
    "Identify each point as a minimum or a maximum.\n",
    "\n",
    "Our first solution, which isn't exactly a solution, is to plot the function.\n",
    "Though it's slightly overkill for this problem, we'll demonstrate how to **write user-defined functions** in Python, which is a good skill for making your code more readable and efficient (what you learn in CS 106A as function _decomposition_).\n",
    "\n",
    "In Python, the syntax for defining your own function is:\n",
    "\n",
    "```python\n",
    "def my_func_name(arg1, arg2, ...):\n",
    "    \"\"\" optional docstring to explain purpose, arguments, etc. \"\"\"\n",
    "    do something\n",
    "    return something   # optional\n",
    "\n",
    "my_func_name(args)     # calling the function\n",
    "```\n",
    "\n",
    "- The `def` at the start is required, as is the colon at the end of the first line.\n",
    "- Just like variables, function names should be descriptive.\n",
    "- Arguments are optional, but you'll probably have some input variables.\n",
    "- Docstrings are optional but very nice to have (for others and future you). No need though if the function is very simple.\n",
    "- Variables defined in the function body (including arguments) have local scope, i.e., they don't exist outside the function.\n",
    "- Returning a value is generally optional, but you'll probably have something.\n",
    "- Calling the function works as with any other built-in function."
   ]
  },
  {
   "cell_type": "code",
   "execution_count": null,
   "metadata": {},
   "outputs": [],
   "source": [
    "import numpy as np\n",
    "import matplotlib.pyplot as plt\n",
    "\n",
    "def my_func(x):\n",
    "    return np.sin(x ** 2)\n",
    "\n",
    "x = np.linspace(-2, 2, 1000) * np.sqrt(np.pi)\n",
    "\n",
    "fig, ax = plt.subplots(figsize=(8,4))\n",
    "ax.plot(x, my_func(x))\n",
    "plt.show()"
   ]
  },
  {
   "cell_type": "markdown",
   "metadata": {},
   "source": [
    "The numerical solution will leverage the [`fmin(func, x0)`](https://docs.scipy.org/doc/scipy/reference/generated/scipy.optimize.fmin.html) function from the [`scipy.optimize`](https://docs.scipy.org/doc/scipy/tutorial/optimize.html) module.\n",
    "If NumPy is the library for constructing arrays, you can think of **SciPy** as the library that performs powerful **operations** on them.\n",
    "\n",
    "You'll notice the function signature is `fmin(func, x0)`, where:\n",
    "- `x0` is your initial guess. Note that because there are many minima, we can try different guesses.\n",
    "- `func` is _an actual function_ (\"callable\"), not simply an array of numbers!\n",
    "  This means we need a function that returns the appropriate computation on $x$, like what we wrote above."
   ]
  },
  {
   "cell_type": "code",
   "execution_count": null,
   "metadata": {},
   "outputs": [],
   "source": [
    "from scipy.optimize import fmin\n",
    "\n",
    "fmin(my_func, 2)   # try with some different values based on the plot"
   ]
  },
  {
   "cell_type": "markdown",
   "metadata": {},
   "source": [
    "### Example 2\n",
    "\n",
    "Determine the domain of $f(x,y) = (x - y + 2)^2 + \\sqrt{x + y}$ and find the global minimum.\n",
    "\n",
    "The domain of $f(x,y)$ is $\\{(x,y) \\mid x + y \\ge 0\\}$.\n",
    "If we want to be very careful, we could mask the arrays to exclude prohibited values; or we can be lazy (Enze is lazy) and let Python gracefully handle the errors.\n",
    "\n",
    "For this 3D function, we will use [`np.meshgrid(x, y)`](https://numpy.org/doc/stable/reference/generated/numpy.meshgrid.html) to construct a 2D grid for the domain.\n",
    "Then we will use [`ax.plot_surface(X, Y, Z)`](https://matplotlib.org/stable/api/_as_gen/mpl_toolkits.mplot3d.axes3d.Axes3D.plot_surface.html) to plot the surface of `Z` above the domain defined by `X` and `Y`.\n",
    "Pay attention to how we constructed the 3D axes!"
   ]
  },
  {
   "cell_type": "code",
   "execution_count": null,
   "metadata": {},
   "outputs": [],
   "source": [
    "x = np.linspace(-4, 4, 1000)\n",
    "X, Y = np.meshgrid(x, x)\n",
    "Z = (X - Y + 2) ** 2 + np.sqrt(X + Y)\n",
    "\n",
    "fig = plt.figure(figsize=(6,6))         # this is different! \n",
    "ax = fig.add_subplot(projection='3d')   # this is different!\n",
    "ax.plot_surface(X, Y, Z, cmap='viridis', antialiased=False)\n",
    "ax.set(xlabel='x', ylabel='y', zlabel='z')\n",
    "plt.show()"
   ]
  },
  {
   "cell_type": "markdown",
   "metadata": {},
   "source": [
    "### A few notes\n",
    "- We used the `cmap` parameter when making the surface plot to choose [an appropriate colormap](https://matplotlib.org/stable/users/explain/colors/colormaps.html).\n",
    "Otherwise the whole plot is a default blue and less helpful.\n",
    "- We also added `antialiased=False` which is somewhat similar to `shading('interp')` that you might be used to seeing in MATLAB."
   ]
  },
  {
   "cell_type": "markdown",
   "metadata": {},
   "source": [
    "### Numerical optimization\n",
    "\n",
    "Using `fmin()` may not produce an accurate result in this case because the minimum is on the boundary.\n",
    "But we can try! \n",
    "\n",
    "Note that `fmin()` can be quirky.\n",
    "If you have two variables `x` and `y`, instead of inputting them as separate arguments in the function, instead group them into a list, i.e., `u = [x, y]`.\n",
    "Then your `x0` will be a list as well for the initial guesses."
   ]
  },
  {
   "cell_type": "code",
   "execution_count": null,
   "metadata": {},
   "outputs": [],
   "source": [
    "def my_func_2D(u):\n",
    "    return (u[0] - u[1] + 2) ** 2 + np.sqrt(u[0] + u[1])\n",
    "\n",
    "fmin(my_func_2D, [1, 1])"
   ]
  },
  {
   "cell_type": "markdown",
   "metadata": {},
   "source": [
    "## More complicated equality constraints\n",
    "\n",
    "Find the minima of $f(x, y, z) = |x^3| + |y^3| + |z^3|$ with respect to the constraint $x^2 + y^2 + z^2 = 1$ using the method of Lagrange multipliers.\n",
    "\n",
    "Let's try to plot it first (once you've obtained the analytical solution).\n",
    "Note below we've employed the change of coordinates\n",
    "- $x = \\cos \\alpha \\cos \\theta$\n",
    "- $y = \\cos \\alpha \\sin \\theta$\n",
    "- $z = \\sin \\alpha$"
   ]
  },
  {
   "cell_type": "code",
   "execution_count": null,
   "metadata": {},
   "outputs": [],
   "source": [
    "import numpy as np\n",
    "import matplotlib.pyplot as plt\n",
    "\n",
    "alpha = np.linspace(-np.pi/2, np.pi/2, 1000)\n",
    "theta = np.linspace(-np.pi, np.pi, 1000)\n",
    "A, T = np.meshgrid(alpha, theta)\n",
    "X = np.cos(A) * np.cos(T)\n",
    "Y = np.cos(A) * np.sin(T)\n",
    "Z = np.sin(A)\n",
    "C = np.absolute(X**3) + np.absolute(Y**3) + np.absolute(Z**3)\n",
    "print(np.min(C))\n",
    "\n",
    "fig = plt.figure(figsize=(6,6))\n",
    "ax = fig.add_subplot(projection='3d')\n",
    "surf = ax.plot_surface(X, Y, Z, cmap='viridis', antialiased=False)\n",
    "fig.colorbar(surf, pad=0.15, shrink=0.7)\n",
    "ax.set(xlabel='x', ylabel='y', zlabel='z')\n",
    "plt.show()"
   ]
  },
  {
   "cell_type": "markdown",
   "metadata": {},
   "source": [
    "Fascinating! It's a ball!\n",
    "\n",
    "Let's now try to minimize this function using `fmin()` and a bit of creativity... 💭"
   ]
  },
  {
   "cell_type": "code",
   "execution_count": null,
   "metadata": {},
   "outputs": [],
   "source": [
    "def my_func(x):\n",
    "    return np.absolute(x[0]**3) + np.absolute(x[1]**3) + np.absolute(x[2]**3)\n",
    "\n",
    "def spherical(c):\n",
    "    return np.cos(c[0]) * np.cos(c[1]), np.cos(c[0]) * np.sin(c[1]), np.sin(c[0])\n",
    "\n",
    "def combo(c):\n",
    "    return my_func(spherical(c))   # nested functions!\n",
    "\n",
    "minimizer = fmin(combo, [0, 0])\n",
    "display(minimizer)\n",
    "\n",
    "print(combo(minimizer))       # this is the minimum value"
   ]
  }
 ],
 "metadata": {
  "kernelspec": {
   "display_name": "Python 3 (ipykernel)",
   "language": "python",
   "name": "python3"
  },
  "language_info": {
   "codemirror_mode": {
    "name": "ipython",
    "version": 3
   },
   "file_extension": ".py",
   "mimetype": "text/x-python",
   "name": "python",
   "nbconvert_exporter": "python",
   "pygments_lexer": "ipython3",
   "version": "3.12.9"
  },
  "widgets": {
   "application/vnd.jupyter.widget-state+json": {
    "state": {},
    "version_major": 2,
    "version_minor": 0
   }
  }
 },
 "nbformat": 4,
 "nbformat_minor": 4
}
