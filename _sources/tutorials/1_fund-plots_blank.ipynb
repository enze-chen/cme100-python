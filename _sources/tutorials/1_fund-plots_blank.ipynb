{
 "cells": [
  {
   "cell_type": "markdown",
   "metadata": {},
   "source": [
    "# T1: Fundamentals and plotting\n",
    "\n",
    "```{note}\n",
    "Click the {fa}`rocket` and open this notebook in Colab to enable interactivity.\n",
    "```\n",
    "\n",
    "```{note}\n",
    "To save your progress, make a copy of this notebook in Colab `File > Save a copy in Drive` and you'll find it in `My Drive > Colab Notebooks`.\n",
    "```\n",
    "\n",
    "Previously in this book we've already [motivated the use of Python](../workbook/0_usage.ipynb), so in this first tutorial we'll jump right into its functionality!"
   ]
  },
  {
   "cell_type": "markdown",
   "metadata": {},
   "source": [
    "## Performing calculations\n",
    "\n",
    "We can use Python as a calculator, with the following operators:\n",
    "- `+`: addition\n",
    "- `-`: subtraction\n",
    "- `*`: multiplication\n",
    "- `/`: division\n",
    "- `**`: exponentiation.\n",
    "\n",
    "Try computing $\\sqrt{3^2 + 4^2}$ below.\n",
    "Recall that $\\sqrt{x} = x^{1/2}$."
   ]
  },
  {
   "cell_type": "code",
   "execution_count": null,
   "metadata": {},
   "outputs": [],
   "source": [
    "# TODO: Write your solution below\n"
   ]
  },
  {
   "cell_type": "markdown",
   "metadata": {},
   "source": [
    "Decimals (the `float` type in Python) can be input like normal or as scientific notation."
   ]
  },
  {
   "cell_type": "code",
   "execution_count": null,
   "metadata": {},
   "outputs": [],
   "source": [
    "print(0.0041)\n",
    "print(4.1e-3)"
   ]
  },
  {
   "cell_type": "markdown",
   "metadata": {},
   "source": [
    "Since Python was not developed for scientific computing, it doesn't have built-in functions and constants. \n",
    "But it has many freely available packages that do, including the popular [NumPy](https://numpy.org/) library.\n",
    "To import the library, we use the \n",
    "```python\n",
    "import numpy as np\n",
    "```\n",
    "syntax to give it an alias, and then we can call functions and constants from the `np` namespace.\n",
    "Below we will compute \n",
    "\n",
    "$$ \\sqrt{1 - \\sin^2 \\left( \\frac{2}{3} \\pi \\right)} $$\n",
    "\n",
    "using the functions [`np.sqrt(x)`](https://numpy.org/doc/stable/reference/generated/numpy.sqrt.html), [`np.sin(x)`](https://numpy.org/doc/stable/reference/generated/numpy.sin.html), and the constant [`np.pi`](https://numpy.org/doc/stable/reference/constants.html#numpy.pi)."
   ]
  },
  {
   "cell_type": "code",
   "execution_count": null,
   "metadata": {},
   "outputs": [],
   "source": [
    "# TODO: Write your solution below\n"
   ]
  },
  {
   "cell_type": "markdown",
   "metadata": {},
   "source": [
    "Results of computation can be stored in **variables** by using the assignment operator, `=` (not for checking equality!).\n",
    "For example, `x = 5.2` would create a variable named `x` and store 5.2 in it.\n",
    "If `x` already exists, `x = 5.2` will replace the old value in `x` with 5.2, even if the old value wasn't a decimal!\n",
    "After a variable is made, it can be used in other expressions.\n",
    "\n",
    "In the cell below, define a variable that holds the value of $\\sqrt{2 \\pi e}$ and use it to compute \n",
    "\n",
    "$$ \\frac{1}{\\sqrt{2\\pi e}} e^{\\sqrt{\\frac{2}{\\pi e}}} + \\sqrt{2 \\pi e}, $$\n",
    "\n",
    "where $e$ is Euler's constant [`np.e`](https://numpy.org/doc/stable/reference/constants.html#numpy.e) and $e^x$ is encoded as [`np.exp()`](https://numpy.org/doc/stable/reference/generated/numpy.exp.html)."
   ]
  },
  {
   "cell_type": "code",
   "execution_count": null,
   "metadata": {},
   "outputs": [],
   "source": [
    "# TODO: Write your solution below\n"
   ]
  },
  {
   "cell_type": "markdown",
   "metadata": {},
   "source": [
    "Creating variables reduces the amount of calculation (and coding) at the cost of additional memory.\n",
    "This speed-memory trade-off is very common in programming.\n",
    "\n",
    "```{note}\n",
    "A variable name must start with an English alphabet and may only contain letters, numbers, and underscores (_).\n",
    "It is also Python style to write variable names in snake case, `lowercase_like_this`.\n",
    "```"
   ]
  },
  {
   "cell_type": "markdown",
   "metadata": {},
   "source": [
    "## Arrays and vectors\n",
    "\n",
    "To create a row vector in Python, we will use brackets and commas to first create a **list** data structure, and then use the [`np.array()`](https://numpy.org/doc/stable/reference/generated/numpy.array.html) constructor from NumPy.\n",
    "\n",
    "To read from an entry of a vector in a variable, we use square brackets and the index. \n",
    "For example: `x[1]` refers to the second entry of array `x`.\n",
    "\n",
    "```{important}\n",
    "Python is **0-indexed** which means the first element of an array is `array[0]`, not `1`! \n",
    "This is one of the biggest differences between Python and MATLAB.\n",
    "```\n",
    "\n",
    "Below we will assign $\\begin{bmatrix} 1 & 2 & 3 \\end{bmatrix}$ to `x` and then read out the second entry of `x`."
   ]
  },
  {
   "cell_type": "code",
   "execution_count": null,
   "metadata": {},
   "outputs": [],
   "source": [
    "# TODO: Write your solution below\n"
   ]
  },
  {
   "cell_type": "markdown",
   "metadata": {},
   "source": [
    "Assignment to an entry of a vector also works. \n",
    "If the referenced entry of a vector does not exist, Python will throw an error."
   ]
  },
  {
   "cell_type": "code",
   "execution_count": null,
   "metadata": {},
   "outputs": [],
   "source": [
    "import numpy as np\n",
    "x = np.array([1, 2, 3])\n",
    "x[2] = 5\n",
    "x[3] = 0"
   ]
  },
  {
   "cell_type": "markdown",
   "metadata": {},
   "source": [
    "There are some helper functions that make it easier to create vectors, depending on your need.\n",
    "A detailed exposition is provided [in the docs](https://numpy.org/doc/stable/user/basics.creation.html)."
   ]
  },
  {
   "cell_type": "markdown",
   "metadata": {},
   "source": [
    "### You want exactly $N$ equally spaced values\n",
    "\n",
    "Here you want to use the [`np.linspace(start, stop, num)`](https://numpy.org/doc/stable/reference/generated/numpy.linspace.html) function, which accepts as arguments:\n",
    "- `start`: The first value of your array. Required.\n",
    "- `stop`: The last value of your array. Required.\n",
    "- `num`: The total number of elements in your array, equally spaced between start and stop _inclusive_ (by default).\n",
    "  If you do not specify this parameter, the default is `50`."
   ]
  },
  {
   "cell_type": "markdown",
   "metadata": {},
   "source": [
    "### You want values equally spaced by $\\delta$\n",
    "\n",
    "Here you want to use the [`np.arange(start, stop, step)`](https://numpy.org/doc/stable/reference/generated/numpy.arange.html) function, which accepts as arguments:\n",
    "- `start`: The first value of your array. Default is `0`, but best to always specify.\n",
    "- `stop`: The last value of your array, **not inclusive**. Required.\n",
    "- `step`: The increment between values starting from `start` and going up to _but not including_ `stop`. Default is `1`."
   ]
  },
  {
   "cell_type": "markdown",
   "metadata": {},
   "source": [
    "Try it now with the following:\n",
    "- `np.linspace(1, 9, 4)`\n",
    "- `np.arange(1, 2.5, 9)`"
   ]
  },
  {
   "cell_type": "code",
   "execution_count": null,
   "metadata": {},
   "outputs": [],
   "source": [
    "# TODO: Write your solution below\n"
   ]
  },
  {
   "cell_type": "markdown",
   "metadata": {},
   "source": [
    "We can use the `len()` function to get the length of an array.\n",
    "We can also use the built-in `array.size` attribute.\n",
    "Notice, what does `array.shape` do?"
   ]
  },
  {
   "cell_type": "code",
   "execution_count": null,
   "metadata": {},
   "outputs": [],
   "source": [
    "arr = np.arange(7, 60, 7)    # [7, 14, ..., 56]\n",
    "print(len(arr))\n",
    "print(arr.size)\n",
    "print(arr.shape)"
   ]
  },
  {
   "cell_type": "markdown",
   "metadata": {},
   "source": [
    "### Operations on arrays\n",
    "\n",
    "NumPy arrays of the same dimension can be added and subtracted.\n",
    "Don't try this with basic lists!"
   ]
  },
  {
   "cell_type": "code",
   "execution_count": null,
   "metadata": {},
   "outputs": [],
   "source": [
    "a = np.array([1, 2])\n",
    "b = np.array([4, 5])\n",
    "c = np.array([4, 5, 6])\n",
    "print(a - b)\n",
    "print(a - c)"
   ]
  },
  {
   "cell_type": "markdown",
   "metadata": {},
   "source": [
    "Multiplication, division, and exponentiation between two vectors of the same dimension can be performed entrywise using the standard operators.\n",
    "Try it below for `[4, 3]` raised to the power of `[0.5, 2]`."
   ]
  },
  {
   "cell_type": "code",
   "execution_count": null,
   "metadata": {},
   "outputs": [],
   "source": [
    "# TODO: Write your solution below\n"
   ]
  },
  {
   "cell_type": "markdown",
   "metadata": {},
   "source": [
    "A vector with one element is considered a **scalar**.\n",
    "Entrywise operations between a scalar and a vector will cause **scalar expansion**, also known as **array broadcasting**.\n",
    "This can be a good thing, but often it isn't!"
   ]
  },
  {
   "cell_type": "code",
   "execution_count": null,
   "metadata": {},
   "outputs": [],
   "source": [
    "# first example - comparison\n",
    "print(1 + np.array([2, 3]))\n",
    "print(np.array([1, 1]) + np.array([2, 3]))\n",
    "\n",
    "# second example\n",
    "print(np.arange(11) ** 2)\n",
    "\n",
    "# third example\n",
    "print(((-1) ** np.arange(1, 7) + 1) / 2)"
   ]
  },
  {
   "cell_type": "markdown",
   "metadata": {},
   "source": [
    "Scalar functions (such as those mentioned above) can also be applied to a vector. \n",
    "They will be computed on each entry, giving the result in a vector with the same dimension as the input.\n",
    "Try it below with:\n",
    "- `np.sqrt([1, 4, 9, 16, 25])` (note it autoconverts the argument)\n",
    "- `np.sin(np.arange(0, 2.1, 0.5) * np.pi)`"
   ]
  },
  {
   "cell_type": "code",
   "execution_count": null,
   "metadata": {},
   "outputs": [],
   "source": [
    "# TODO: Write your solution below\n"
   ]
  },
  {
   "cell_type": "markdown",
   "metadata": {},
   "source": [
    "## Plotting\n",
    "\n",
    "There are many choices for plotting libraries, arguably the most popular one being [Matplotlib](https://matplotlib.org/).\n",
    "The name is actually a combination of \"MATLAB,\" \"plot,\" and \"library,\" so many things will look similar to MATLAB.\n",
    "Like NumPy, the documentation is quite good—and they have [cheat sheets](https://matplotlib.org/cheatsheets/)!"
   ]
  },
  {
   "cell_type": "markdown",
   "metadata": {},
   "source": [
    "The general recipe of making plots with Matplotlib has four (maybe five) parts.\n",
    "\n",
    "**1. Imports**\n",
    "```python\n",
    "import matplotlib.pyplot as plt\n",
    "```\n",
    "is the bare minimum, and it typically uses an alias (like NumPy).\n",
    "Other packages (like [colormaps](https://matplotlib.org/stable/users/explain/colors/colormaps.html)) are also possible.\n",
    "\n",
    "**2. Create objects**\n",
    "```python\n",
    "fig, ax = plt.subplots()\n",
    "```\n",
    "The `fig` Figure is the entire graph object and `ax` Axes is the coordinate axes.\n",
    "[`plt.subplots()`](https://matplotlib.org/stable/api/_as_gen/matplotlib.pyplot.subplots.html) is quite powerful.\n",
    "\n",
    "**3. Draw data**\n",
    "```python\n",
    "ax.plot(x, y)\n",
    "```\n",
    "for example, will create a standard line chart.\n",
    "There are many [plot types](https://matplotlib.org/stable/plot_types/index.html) available!\n",
    "\n",
    "**4. Styling (optional)**\n",
    "```python\n",
    "ax.set()\n",
    "```\n",
    "among other functions can add labels and customize axis features.\n",
    "\n",
    "**5. Display and save**\n",
    "```python\n",
    "plt.show()\n",
    "fig.savefig('filename.png')\n",
    "```\n",
    "These commands go at the very end.\n",
    "[`plt.show()`](https://matplotlib.org/stable/api/_as_gen/matplotlib.pyplot.show.html) displays the plot in the notebook while [`fig.savefig()`](https://matplotlib.org/stable/api/_as_gen/matplotlib.figure.Figure.savefig.html) saves it to disk."
   ]
  },
  {
   "cell_type": "markdown",
   "metadata": {},
   "source": [
    "We'll create some 2D plots in Python using [`ax.plot()`](https://matplotlib.org/stable/api/_as_gen/matplotlib.axes.Axes.plot.html). \n",
    "The first input is a vector of $x$-coordinates and the second input is a vector of $y$-coordinates. \n",
    "Both vectors must have the same length."
   ]
  },
  {
   "cell_type": "code",
   "execution_count": null,
   "metadata": {},
   "outputs": [],
   "source": [
    "import matplotlib.pyplot as plt\n",
    "fig, ax = plt.subplots()\n",
    "ax.plot([0, 1, 2, 0], [1, 0, 2, 1])\n",
    "ax.plot([0, 1, 2, 3, 4, 5], [0, 2, 0, 2, 0, 2])\n",
    "plt.show()"
   ]
  },
  {
   "cell_type": "markdown",
   "metadata": {},
   "source": [
    "Note that **unlike MATLAB**, the second call to `ax.plot()` does not erase the previous plot.\n",
    "In fact, it default cycles to a different color to differentiate the two.\n",
    "No need for `hold on`!\n",
    "\n",
    "Let's try another plot with some customization.\n",
    "Type the following code:\n",
    "```python\n",
    "x = np.arange(6)\n",
    "y = 1 - (-1) ** x\n",
    "fig, ax = plt.subplots()\n",
    "ax.plot(x, y)\n",
    "ax.set(xlim=[-1, 6], ylim=[-1, 3])\n",
    "plt.show()\n",
    "```"
   ]
  },
  {
   "cell_type": "code",
   "execution_count": null,
   "metadata": {},
   "outputs": [],
   "source": [
    "# TODO: Write your solution below\n"
   ]
  },
  {
   "cell_type": "markdown",
   "metadata": {},
   "source": [
    "### Plotting parametric curves\n",
    "\n",
    "Take the following problem: Draw a curve in the plane parametrized by $x(t) = t \\cos t$ and $y(t) = t \\sin t$ for $t \\in [0, 6\\pi]$.\n",
    "We could tackle the problem as follows:\n",
    "\n",
    "1. Identify the domain of the parameter and create a vector of parameter values.\n",
    "We _discretize_ the interval $[0, 6\\pi]$ into 100 (or any large number) of points using `t = np.linspace(0, 6*np.pi, 100)`.\n",
    "2. Define the coordinate vectors for `x` and `y` separately, such as `x = t * np.cos(t)`.\n",
    "3. Make the plot using `ax.plot(x, y)`.\n",
    "\n",
    "Now, in the space below, compute the following: Draw an ellipse with major and minor radii of 2 and 1, respectively.\n",
    "It is parametrized by $x(\\theta) = 2 \\cos \\theta$ and $y(\\theta) = \\sin \\theta$, where $\\theta$ is the parameter."
   ]
  },
  {
   "cell_type": "code",
   "execution_count": null,
   "metadata": {},
   "outputs": [],
   "source": [
    "# TODO: Write your solution below\n"
   ]
  },
  {
   "cell_type": "markdown",
   "metadata": {},
   "source": [
    "If the output above does not look like the ellipse you're expecting, it's likely because the aspect ratio of the plot is not 1:1, i.e., 1 unit on the $x$-axis doesn't have the same size as 1 unit on the $y$-axis. \n",
    "Use `ax.set(aspect='equal')` to fix this."
   ]
  },
  {
   "cell_type": "markdown",
   "metadata": {},
   "source": [
    "### Further customizing plots\n",
    "\n",
    "The [`ax.plot()`](https://matplotlib.org/stable/api/_as_gen/matplotlib.axes.Axes.plot.html) command can take additional arguments to control how the plot is drawn. \n",
    "For example, if we had `ax.plot(x, y, 'r--')`, then we would get a different ellipse.\n",
    "Check out the documentation to see all the features."
   ]
  },
  {
   "cell_type": "code",
   "execution_count": null,
   "metadata": {},
   "outputs": [],
   "source": [
    "fig, ax = plt.subplots()\n",
    "t = np.linspace(0, 2 * np.pi, 1000)\n",
    "x = 2 * np.cos(t)\n",
    "y = np.sin(t)\n",
    "ax.plot(x, y, 'r--')\n",
    "plt.show()"
   ]
  },
  {
   "cell_type": "markdown",
   "metadata": {},
   "source": [
    "Can you make an ellipse with a black dotted line instead?\n",
    "\n",
    "Below we give many more customization for you to explore."
   ]
  },
  {
   "cell_type": "code",
   "execution_count": null,
   "metadata": {},
   "outputs": [],
   "source": [
    "fig, ax = plt.subplots()\n",
    "ax.plot(x, y)\n",
    "ax.set(xlabel='x', ylabel='y', title='ellipse')\n",
    "ax.grid('on')\n",
    "plt.show()"
   ]
  },
  {
   "cell_type": "markdown",
   "metadata": {},
   "source": [
    "You can add legends in a couple of different ways.\n",
    "For now, we'll show the syntax where you add `label=` as a keyword argument to `ax.plot()`, and call `ax.legend()` at the end."
   ]
  },
  {
   "cell_type": "code",
   "execution_count": null,
   "metadata": {},
   "outputs": [],
   "source": [
    "x = np.linspace(0, 2* np.pi, 1000)\n",
    "fig, ax = plt.subplots()\n",
    "ax.plot(x, np.sin(x), label=\"sin(x)\")\n",
    "ax.plot(x, np.cos(x), label=\"cos(x)\")\n",
    "ax.legend()\n",
    "plt.show()"
   ]
  },
  {
   "cell_type": "markdown",
   "metadata": {},
   "source": [
    "### Subplots\n",
    "\n",
    "If you found it odd that we called `plt.subplots()` (plural) but only created one set of axes, well here's how we can get more.\n",
    "By specifying `nrows` and `ncols`, we can get a whole grid of axes to draw on.\n",
    "For example, below we'll plot on a specific subplot in a 3-by-2 grid of subplots.\n",
    "We'll also make them share an $x$- and $y$-axis (they don't have to and often won't, but it can make the labels cleaner)."
   ]
  },
  {
   "cell_type": "code",
   "execution_count": null,
   "metadata": {},
   "outputs": [],
   "source": [
    "fig, axs = plt.subplots(nrows=3, ncols=2, sharex=True, sharey=True)\n",
    "axs[1,1].plot(x, y, 'g--')\n",
    "plt.show()"
   ]
  },
  {
   "cell_type": "markdown",
   "metadata": {},
   "source": [
    "For you: Can you customize the above code to add a curve (in a different style) to another subplot?"
   ]
  },
  {
   "cell_type": "markdown",
   "metadata": {},
   "source": [
    "### Script files"
   ]
  },
  {
   "cell_type": "markdown",
   "metadata": {},
   "source": [
    "While our commands are nicely stored in this Jupyter notebook, maybe you actually want a Python file (`.py` extension) to run from the command line.\n",
    "For the most part, you can take all the commands we've written them here, save them into a `test.py` file, and then call `python test.py` from the command line in the same directory."
   ]
  }
 ],
 "metadata": {
  "kernelspec": {
   "display_name": "Python 3 (ipykernel)",
   "language": "python",
   "name": "python3"
  },
  "language_info": {
   "codemirror_mode": {
    "name": "ipython",
    "version": 3
   },
   "file_extension": ".py",
   "mimetype": "text/x-python",
   "name": "python",
   "nbconvert_exporter": "python",
   "pygments_lexer": "ipython3",
   "version": "3.12.9"
  },
  "widgets": {
   "application/vnd.jupyter.widget-state+json": {
    "state": {},
    "version_major": 2,
    "version_minor": 0
   }
  }
 },
 "nbformat": 4,
 "nbformat_minor": 4
}
