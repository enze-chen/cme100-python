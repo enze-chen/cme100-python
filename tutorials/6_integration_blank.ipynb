{
 "cells": [
  {
   "cell_type": "markdown",
   "metadata": {},
   "source": [
    "# T6: Integration\n",
    "\n",
    "```{note}\n",
    "Click the {fa}`rocket` and open this notebook in Colab to enable interactivity.\n",
    "```\n",
    "\n",
    "```{note}\n",
    "To save your progress, make a copy of this notebook in Colab `File > Save a copy in Drive` and you'll find it in `My Drive > Colab Notebooks`.\n",
    "```\n",
    "\n",
    "Integration is one of the fundamental concepts of calculus, so it's important that you can do it analytically and numerically.\n",
    "We will once again be relying on the powerful SciPy library, specifically the [`scipy.integrate`](https://docs.scipy.org/doc/scipy/tutorial/integrate.html) module."
   ]
  },
  {
   "cell_type": "markdown",
   "metadata": {},
   "source": [
    "## Example 1\n",
    "\n",
    "Find the centroid of the region bounded by the curve $ y = \\sin x$ and the parabola $y = x^2$.\n",
    "You are given that $\\sin x  = x^2$ has $0$ and $x_0 \\approx 0.8767$ as the only two solutions.\n",
    "\n",
    "In the workbook, you used the [`trapezoid(y, x)`](https://docs.scipy.org/doc/scipy/reference/generated/scipy.integrate.trapezoid.html) function for integrating fixed samples, i.e., `y` was an array of discrete values.\n",
    "Here, we will demonstrate a slightly more general approach to numerical integration, using the [`quad(func, a, b)`](https://docs.scipy.org/doc/scipy/reference/generated/scipy.integrate.quad.html) function (short for [quadrature](https://en.wikipedia.org/wiki/Numerical_integration#Methods_for_one-dimensional_integrals)) to integrate `func` between `a` and `b`.\n",
    "`func`is once again a callable that we will have to define ourselves.\n",
    "\n",
    "While that is doable for an integral in one dimension, we also need to compute an integral in two dimensions to get the moments and center of mass.\n",
    "For that, we will use the general [`dblquad(func, a, b, gfun, hfun)`](https://docs.scipy.org/doc/scipy/reference/generated/scipy.integrate.dblquad.html) function, which integrates:\n",
    "- the function `func(y, x)`, where `y` **must be first** and `x` is second;\n",
    "- from `x` between `a` and `b`;\n",
    "- from `y` between `gfun` and `hfun`, both callable functions that we have to write."
   ]
  },
  {
   "cell_type": "code",
   "execution_count": null,
   "metadata": {},
   "outputs": [],
   "source": [
    "import numpy as np\n",
    "from scipy.integrate import quad, dblquad\n",
    "\n",
    "x0 = 0.8767\n",
    "\n",
    "def ylower(x):\n",
    "    return x ** 2\n",
    "\n",
    "def yupper(x):\n",
    "    return np.sin(x)\n",
    "    \n",
    "def func(x):\n",
    "    return yupper(x) - ylower(x)\n",
    "\n",
    "A = quad(func, 0, x0)[0]\n",
    "print(f\"A = {A:.4f}\\n\")\n",
    "\n",
    "\n",
    "def func_xA(y, x):\n",
    "    return x\n",
    "\n",
    "def func_yA(y, x):\n",
    "    return y\n",
    "\n",
    "xA = dblquad(func_xA, 0, x0, ylower, yupper)[0]\n",
    "print(f\"xA = {xA:.4f}\")\n",
    "print(f\"xcom = {xA/A:.4f}\\n\")\n",
    "\n",
    "yA = dblquad(func_yA, 0, x0, ylower, yupper)[0]\n",
    "print(f\"yA = {yA:.4f}\")\n",
    "print(f\"ycom = {yA/A:.4f}\")"
   ]
  },
  {
   "cell_type": "markdown",
   "metadata": {},
   "source": [
    "## Example 2\n",
    "\n",
    "Evaluate $\\displaystyle\\int_{0}^{\\infty} e^{-x^2} dx$."
   ]
  },
  {
   "cell_type": "code",
   "execution_count": null,
   "metadata": {},
   "outputs": [],
   "source": [
    "def f(x):\n",
    "    return np.exp(-x**2)\n",
    "\n",
    "res = quad(f, 0, np.inf)[0]\n",
    "print(f\"Integral: {res:.4f}\")\n",
    "print(f\"Numerical √π/2: {np.sqrt(np.pi)/2:.4f}\")"
   ]
  },
  {
   "cell_type": "markdown",
   "metadata": {},
   "source": [
    "## Example 3\n",
    "\n",
    "Find the moment of inertia about the $z$-axis of the region bounded by parabolas $4 + y = \\dfrac{1}{2}(1 + x)^2$ and $4 - y = \\dfrac{1}{2} (1 - x)^2$ where the density function is $\\delta(x,y) = \\dfrac{xy}{x^2 + y^2}$.\n",
    "\n",
    "The first thing we need to do is to find the domain of integration, which means the points where the two parabolas intersect need to be determined. \n",
    "Straightforward equation solving gives $(\\sqrt{7}, \\sqrt{7})$ and $(-\\sqrt{7}, -\\sqrt{7})$ as the points of intersection.\n",
    "\n",
    "It is also much easier to integrate $y$ first, then $x$, as it gives us:\n",
    "\n",
    "$$ \\int_{-\\sqrt{7}}^{\\sqrt{7}} \\int_{\\frac{1}{2}(1+x)^2-4}^{4 - \\frac{1}{2}(1-x)^2} f(x,y)\\, \\mathrm{d}y\\, \\mathrm{d}x, $$\n",
    "\n",
    "where $f(x,y) = xy$."
   ]
  },
  {
   "cell_type": "code",
   "execution_count": null,
   "metadata": {},
   "outputs": [],
   "source": [
    "import numpy as np\n",
    "from scipy.integrate import dblquad\n",
    "\n",
    "def ylower(x):\n",
    "    return 1/2 * (1 + x)**2 - 4\n",
    "\n",
    "def yupper(x):\n",
    "    return 4 - 1/2 * (1 - x)**2\n",
    "\n",
    "def fxy(y, x):\n",
    "    return x * y\n",
    "\n",
    "I = dblquad(fxy, -np.sqrt(7), np.sqrt(7), ylower, yupper)[0]\n",
    "print(f\"Integral: {I:.4f}\")\n",
    "print(f\"Numerical: {196 / 15 * np.sqrt(7):.4f}\")"
   ]
  }
 ],
 "metadata": {
  "kernelspec": {
   "display_name": "Python 3 (ipykernel)",
   "language": "python",
   "name": "python3"
  },
  "language_info": {
   "codemirror_mode": {
    "name": "ipython",
    "version": 3
   },
   "file_extension": ".py",
   "mimetype": "text/x-python",
   "name": "python",
   "nbconvert_exporter": "python",
   "pygments_lexer": "ipython3",
   "version": "3.12.9"
  },
  "widgets": {
   "application/vnd.jupyter.widget-state+json": {
    "state": {},
    "version_major": 2,
    "version_minor": 0
   }
  }
 },
 "nbformat": 4,
 "nbformat_minor": 4
}
