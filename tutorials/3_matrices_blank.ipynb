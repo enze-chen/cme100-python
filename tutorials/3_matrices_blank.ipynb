{
 "cells": [
  {
   "cell_type": "markdown",
   "metadata": {},
   "source": [
    "# T3: Matrices\n",
    "\n",
    "```{note}\n",
    "Click the {fa}`rocket` and open this notebook in Colab to enable interactivity.\n",
    "```\n",
    "\n",
    "```{note}\n",
    "To save your progress, make a copy of this notebook in Colab `File > Save a copy in Drive` and you'll find it in `My Drive > Colab Notebooks`.\n",
    "```\n",
    "\n",
    "Now that we have experience with vectors (1D NumPy arrays), it's time to move onto matrices, or **2D NumPy arrays**!\n",
    "Matrices are the workhorse of linear algebra and are foundational to physics-based models, computer graphics, machine learning, and so much more!"
   ]
  },
  {
   "cell_type": "markdown",
   "metadata": {},
   "source": [
    "## Introduction\n",
    "\n",
    "A matrix can be defined in Python as row vectors stacked on top of each other. \n",
    "As such, we can use the same [`np.array(obj)`](https://numpy.org/doc/stable/reference/generated/numpy.array.html) constructor where `obj` is now a **list of lists**, one for each row of the matrix.\n",
    "\n"
   ]
  },
  {
   "cell_type": "code",
   "execution_count": null,
   "metadata": {},
   "outputs": [],
   "source": [
    "import numpy as np\n",
    "A = np.array([ [1, 2, 3], [4, 5, 6], [7, 8, 9], [10, 11, 12] ])\n",
    "print(A)\n",
    "print(A.shape)"
   ]
  },
  {
   "cell_type": "markdown",
   "metadata": {},
   "source": [
    "```{note}\n",
    "We will also try to be consistent with our variable names: lowercase for scalars/vectors, uppercase for matrices.\n",
    "```\n",
    "\n",
    "All rows must have the same length or NumPy will raise an error."
   ]
  },
  {
   "cell_type": "code",
   "execution_count": null,
   "metadata": {},
   "outputs": [],
   "source": [
    "np.array([ [1, 2, 3], [4, 5, 6, 7] ])"
   ]
  },
  {
   "cell_type": "markdown",
   "metadata": {},
   "source": [
    "If a matrix is assigned to a variable, its entries can be referred to by a 2-number subscript in square brackets `[_, _]`.\n",
    "The first number in the subscript is the row index. \n",
    "The second number in the subscript is the column index.\n",
    "Remember that Python is indexed starting from `0`!"
   ]
  },
  {
   "cell_type": "code",
   "execution_count": null,
   "metadata": {},
   "outputs": [],
   "source": [
    "A = np.array([ [1, 2, 3], [4, 5, 6] ])\n",
    "print(A)\n",
    "print(A[1, 1])\n",
    "A[0, 2] = -2\n",
    "print(A)\n",
    "A[2, 0] = 7"
   ]
  },
  {
   "cell_type": "markdown",
   "metadata": {},
   "source": [
    "```{note}\n",
    "Note that unlike MATLAB, NumPy arrays cannot be _dynamically resized_.\n",
    "That is, you cannot reference indices outside of the range of the allocated matrix.\n",
    "```"
   ]
  },
  {
   "cell_type": "markdown",
   "metadata": {},
   "source": [
    "To compute the transpose of a matrix, use the `A.T` operator on matrix `A`.\n",
    "To compute the conjugate transpose of a matrix, use the `A.conj().T`.\n",
    "When you matrix doesn't contain imaginary parts, the two types of transpose give the same result (fortunately, this is always the case in this class)."
   ]
  },
  {
   "cell_type": "code",
   "execution_count": null,
   "metadata": {},
   "outputs": [],
   "source": [
    "print(A.T)\n",
    "print(A.conj().T)"
   ]
  },
  {
   "cell_type": "markdown",
   "metadata": {},
   "source": [
    "A row vector can be thought of as a matrix with 1 row, though in NumPy there is some nuance.\n",
    "A column vector is a matrix with 1 column (again, some nuance in NumPy).\n",
    "A column vector can be made by transposing a row vector, generally speaking, although it doesn't always work.\n",
    "The following _does work_, but what happens if you remove the `ndmin` parameter?"
   ]
  },
  {
   "cell_type": "code",
   "execution_count": null,
   "metadata": {},
   "outputs": [],
   "source": [
    "x = np.array([1, 2, 3, 4, 5], ndmin=2)\n",
    "print(x)\n",
    "print(x.T)"
   ]
  },
  {
   "cell_type": "markdown",
   "metadata": {},
   "source": [
    "To create a zero matrix of a specified dimension (`shape`), use the [`np.zeros(shape)`](https://numpy.org/doc/stable/reference/generated/numpy.zeros.html) command."
   ]
  },
  {
   "cell_type": "code",
   "execution_count": null,
   "metadata": {},
   "outputs": [],
   "source": [
    "print(np.zeros([3, 5]))\n",
    "print(np.zeros(4))"
   ]
  },
  {
   "cell_type": "markdown",
   "metadata": {},
   "source": [
    "Analogously, to create a matrix whose entries are all `1`, use the [`np.ones(shape)`](https://numpy.org/doc/stable/reference/generated/numpy.ones.html) command."
   ]
  },
  {
   "cell_type": "code",
   "execution_count": null,
   "metadata": {},
   "outputs": [],
   "source": [
    "print(np.ones([3, 5]))\n",
    "print(np.ones(4))"
   ]
  },
  {
   "cell_type": "markdown",
   "metadata": {},
   "source": [
    "To create an identity matrix, use the [`np.eye(M, N)`](https://numpy.org/doc/stable/reference/generated/numpy.eye.html) command."
   ]
  },
  {
   "cell_type": "code",
   "execution_count": null,
   "metadata": {},
   "outputs": [],
   "source": [
    "print(np.eye(3, 5))\n",
    "print(np.eye(4))"
   ]
  },
  {
   "cell_type": "markdown",
   "metadata": {},
   "source": [
    "To obtain the dimensions of the matrix, use the `.shape` attribute.\n",
    "The `.size` attributes returns the total number of elements.\n",
    "\n",
    "```{warning}\n",
    "These are the opposite keywords of MATLAB!\n",
    "```"
   ]
  },
  {
   "cell_type": "code",
   "execution_count": null,
   "metadata": {},
   "outputs": [],
   "source": [
    "print(A.shape)\n",
    "print(A.shape[0])\n",
    "print(A.shape[1])\n",
    "print(A.size)"
   ]
  },
  {
   "cell_type": "markdown",
   "metadata": {},
   "source": [
    "Element-wise operations work on matrices of the same dimension.\n",
    "If one of the two operands is a scalar, **scalar expansion** will take place.\n",
    "Unary scalar functions can be applied to matrices, and they will operate element-wise."
   ]
  },
  {
   "cell_type": "code",
   "execution_count": null,
   "metadata": {},
   "outputs": [],
   "source": [
    "2 * np.eye(3) - np.ones(3)"
   ]
  },
  {
   "cell_type": "code",
   "execution_count": null,
   "metadata": {},
   "outputs": [],
   "source": [
    "A = np.array([ [np.pi/6, np.pi/4], [np.pi/3, np.pi/2] ])\n",
    "np.sin(A)"
   ]
  },
  {
   "cell_type": "code",
   "execution_count": null,
   "metadata": {},
   "outputs": [],
   "source": [
    "np.log(np.arange(1, 11)) > 2"
   ]
  },
  {
   "cell_type": "markdown",
   "metadata": {},
   "source": [
    "## Concatenation\n",
    "\n",
    "Matrices that have consistent dimensions can be concatenated, either vertically or horizontally, using the [`np.concatenate(arr_list, axis)`](https://numpy.org/doc/stable/reference/generated/numpy.concatenate.html) function.\n",
    "The first argument is a list of arrays, and the `axis` parameter specifies vertical (`axis=0`) or horizontal (`axis=1`) concatenation."
   ]
  },
  {
   "cell_type": "code",
   "execution_count": null,
   "metadata": {},
   "outputs": [],
   "source": [
    "# vertical\n",
    "A = np.array([ [1, 2], [3, 4] ])\n",
    "B = np.array([[5, 6]])\n",
    "print(A, B)\n",
    "print(np.concatenate([A, B], axis=0))\n",
    "\n",
    "# horizontal\n",
    "print(np.concatenate([A, B.T], axis=1))"
   ]
  },
  {
   "cell_type": "markdown",
   "metadata": {},
   "source": [
    "Obviously, matrices with mismatched dimensions cannot be concatenated."
   ]
  },
  {
   "cell_type": "code",
   "execution_count": null,
   "metadata": {},
   "outputs": [],
   "source": [
    "np.concatenate([np.ones((3,2)), np.ones((2,2))], axis=1)"
   ]
  },
  {
   "cell_type": "markdown",
   "metadata": {},
   "source": [
    "Nested concatenations are possible, if you so desire."
   ]
  },
  {
   "cell_type": "code",
   "execution_count": null,
   "metadata": {},
   "outputs": [],
   "source": [
    "A = np.eye(3)\n",
    "B = np.ones((3,2))\n",
    "C = np.zeros((4,5))\n",
    "np.concatenate([np.concatenate([A, B], axis=1), C], axis=0)"
   ]
  },
  {
   "cell_type": "markdown",
   "metadata": {},
   "source": [
    "## Multiplication and division\n",
    "\n",
    "The `@` operator in Python is **matrix-matrix multiplication**.\n",
    "The product `A @ B` will be defined only if `A.shape[1]` and `B.shape[0]` are equal."
   ]
  },
  {
   "cell_type": "code",
   "execution_count": null,
   "metadata": {},
   "outputs": [],
   "source": [
    "A = np.array([[1, 2], [3, 4]])\n",
    "B = np.array([[1, 2, 3], [4, 5, 6]])\n",
    "print(A @ B)\n",
    "print(B @ A)"
   ]
  },
  {
   "cell_type": "markdown",
   "metadata": {},
   "source": [
    "On the other hand, the `*` operator is **element-wise multiplication**, or scalar-matrix multiplication."
   ]
  },
  {
   "cell_type": "code",
   "execution_count": null,
   "metadata": {},
   "outputs": [],
   "source": [
    "print(2 * A)\n",
    "print(A * A)"
   ]
  },
  {
   "cell_type": "markdown",
   "metadata": {},
   "source": [
    "Matrices can also be divided element-wise by a scalar, or another matrix of the same dimensions, with the `/` operator."
   ]
  },
  {
   "cell_type": "code",
   "execution_count": null,
   "metadata": {},
   "outputs": [],
   "source": [
    "print(A / 2)\n",
    "print(A / A)"
   ]
  },
  {
   "cell_type": "markdown",
   "metadata": {},
   "source": [
    "Exponentiation can only be done on a square matrix using [`np.linalg.matrix_power(A, n)`](https://numpy.org/doc/stable/reference/generated/numpy.linalg.matrix_power.html), and the exponent `n` has to be an integer."
   ]
  },
  {
   "cell_type": "code",
   "execution_count": null,
   "metadata": {},
   "outputs": [],
   "source": [
    "print(np.linalg.matrix_power(A, 3))\n",
    "print(A @ A @ A)"
   ]
  },
  {
   "cell_type": "markdown",
   "metadata": {},
   "source": [
    "## System of linear equations\n",
    "\n",
    "### Example \n",
    "\n",
    "A system of linear equations can be solved by putting the augmented matrix into its reduced row echelon form.\n",
    "We will demonstrate this by solving the network flow problem in the picture below for the four unknown flows.\n",
    "\n",
    "![network_flow](../assets/fig/network_flow.png)"
   ]
  },
  {
   "cell_type": "markdown",
   "metadata": {},
   "source": [
    "#### Step 1\n",
    "\n",
    "Identify the system of equations to solve by matching inflow and outflow at each of the nodes:\n",
    "\n",
    "$$ \\begin{bmatrix} 1 & 1 & 0 & 0 \\\\ 1 & 0 & -1 & 0 \\\\ 0 & 1 & 0 & -1 \\\\ 0 & 0 & 1 & 1 \\end{bmatrix} \\begin{bmatrix} w \\\\ x \\\\ y \\\\ z \\end{bmatrix} = \\begin{bmatrix} 5 \\\\ 2 \\\\ 3 \\\\ 0 \\end{bmatrix} $$"
   ]
  },
  {
   "cell_type": "markdown",
   "metadata": {},
   "source": [
    "#### Step 2\n",
    "\n",
    "Construct the augmented matrix and reduce. \n",
    "After the sequence of operations, you should get\n",
    "\n",
    "$$ \\left(\\begin{array}{rrrr|r}  \n",
    "1 & 0 & 0 & 1 & 2 \\\\\n",
    "0 & 1 & 0 & -1 & 3 \\\\\n",
    "0 & 0 & 1 & 1 & 0 \\\\\n",
    "0 & 0 & 0 & 0 & 0\n",
    "\\end{array}\\right) $$"
   ]
  },
  {
   "cell_type": "markdown",
   "metadata": {},
   "source": [
    "#### Step 3\n",
    "\n",
    "Read off the solution(s), if any.\n",
    "\n",
    "Here, there are infinitely many solutions, as there's one degree of freedom.\n",
    "If we pick $z$ as the free parameter, other variables are defined by $w = 2-z$, $x = 3+z$, and $y=-z$."
   ]
  },
  {
   "cell_type": "markdown",
   "metadata": {},
   "source": [
    "#### Python verification\n",
    "\n",
    "We can produce the reduced row echelon form of a matrix using the [`rref()`](https://docs.sympy.org/latest/tutorials/intro-tutorial/matrices.html#rref) method from the [SymPy](https://www.sympy.org/en/index.html) library.\n",
    "Unfortunately there's no built-in method in NumPy, but the SymPy library has its own advantages (look at that $\\LaTeX$-ified output!).\n",
    "\n",
    "```{note}\n",
    "Depending on your Python environment, you may have to install SymPy before you can import it, i.e., `pip install sympy`. \n",
    "Luckily, Colab comes with it pre-installed!\n",
    "```"
   ]
  },
  {
   "cell_type": "code",
   "execution_count": null,
   "metadata": {},
   "outputs": [],
   "source": [
    "# Python verification\n",
    "import numpy as np\n",
    "from sympy import Matrix\n",
    "\n",
    "A = np.array([[1, 1, 0, 0], [1, 0, -1, 0], [0, 1, 0, -1], [0, 0, 1, 1]])\n",
    "b = np.array([[5], [2], [3], [0]])\n",
    "\n",
    "aug = Matrix(np.concatenate([A, b], axis=1))\n",
    "display(aug.rref()[0])\n",
    "\n",
    "print(A @ np.array([[2], [3], [0], [0]]) - b)\n",
    "print(A @ np.array([[1], [4], [-1], [1]]) - b)"
   ]
  },
  {
   "cell_type": "markdown",
   "metadata": {},
   "source": [
    "### Your turn\n",
    "\n",
    "Repeat the previous problem, but with number $3$ (left flow on the top) replaced by $4$."
   ]
  },
  {
   "cell_type": "markdown",
   "metadata": {},
   "source": [
    "#### TODO: Write your solution below\n",
    "\n",
    "What is augmented matrix and reduced augmented matrix?\n",
    "\n"
   ]
  },
  {
   "cell_type": "markdown",
   "metadata": {},
   "source": [
    "## Range indexing (optional)\n",
    "\n",
    "You can take certain elements of a vector and put them together into a new vector by supplying a vector of indices as the subscript. "
   ]
  },
  {
   "cell_type": "code",
   "execution_count": null,
   "metadata": {},
   "outputs": [],
   "source": [
    "u = np.arange(100, 54, -5)\n",
    "print(u[[1, 4, 2, -1, 5]])\n",
    "print(u[np.arange(3, 10, 2)])\n",
    "print(u[np.arange(4, -1, -1)])"
   ]
  },
  {
   "cell_type": "markdown",
   "metadata": {},
   "source": [
    "This works with matrices too, as we'll show below with a fancy [Kronecker product](https://numpy.org/doc/stable/reference/generated/numpy.kron.html) and a [Vandermonde matrix](https://numpy.org/doc/stable/reference/generated/numpy.vander.html)."
   ]
  },
  {
   "cell_type": "code",
   "execution_count": null,
   "metadata": {},
   "outputs": [],
   "source": [
    "A = np.kron(np.array([[1], [2]]), np.vander(np.arange(1, 6)))\n",
    "A[[1, 3, -1], 1:4]"
   ]
  },
  {
   "cell_type": "markdown",
   "metadata": {},
   "source": [
    "To refer to a whole column or a whole row, use `:` as the corresponding index."
   ]
  },
  {
   "cell_type": "code",
   "execution_count": null,
   "metadata": {},
   "outputs": [],
   "source": [
    "print(A[-1, :])\n",
    "print(A[:, [3, 1]])"
   ]
  },
  {
   "cell_type": "markdown",
   "metadata": {},
   "source": [
    "Assignment to a block in a matrix can be done if the right-hand side is a matrix of the same dimension."
   ]
  },
  {
   "cell_type": "code",
   "execution_count": null,
   "metadata": {},
   "outputs": [],
   "source": [
    "A[1:5, 2:4] = np.eye(4, 2)\n",
    "print(A)\n",
    "A[1:5, 2:4] = np.ones((3, 3))"
   ]
  },
  {
   "cell_type": "markdown",
   "metadata": {},
   "source": [
    "The right-hand side of a block assignment can also be a scalar, in which case all entries in the block will be set to the same scalar. \n",
    "This is another instance of scalar expansion."
   ]
  },
  {
   "cell_type": "code",
   "execution_count": null,
   "metadata": {},
   "outputs": [],
   "source": [
    "A = np.kron(np.array([[1], [2]]), np.vander(np.arange(1, 6)))\n",
    "A[[2, 4, 6], [0, 2, 4]] = 9\n",
    "print(A)\n",
    "A[:, :] = 0\n",
    "print(A)\n",
    "A = 0\n",
    "print(A)   # note the difference!"
   ]
  },
  {
   "cell_type": "markdown",
   "metadata": {},
   "source": [
    "## Elementary row operations (optional)\n",
    "\n",
    "SymPy can put a matrix into the reduced row echelon form for you, but you may not see each step\n",
    "of the reduction. \n",
    "If you want to perform row operations manually, you can do so using range indexing as follows."
   ]
  },
  {
   "cell_type": "code",
   "execution_count": null,
   "metadata": {},
   "outputs": [],
   "source": [
    "import numpy as np\n",
    "A = np.array([[1, 2, 3], [2, 5, 8], [3, 4, 5]])\n",
    "print(A)\n",
    "\n",
    "# subtract 2 * Row1 from Row2\n",
    "A[1, :] = A[1, :] - 2 * A[0, :]\n",
    "\n",
    "# subtract 3 * Row1 from Row3\n",
    "A[2, :] = A[2, :] - 3 * A[0, :]\n",
    "\n",
    "# TODO: Try more on your own and compare with the sympy solution\n"
   ]
  }
 ],
 "metadata": {
  "kernelspec": {
   "display_name": "Python 3 (ipykernel)",
   "language": "python",
   "name": "python3"
  },
  "language_info": {
   "codemirror_mode": {
    "name": "ipython",
    "version": 3
   },
   "file_extension": ".py",
   "mimetype": "text/x-python",
   "name": "python",
   "nbconvert_exporter": "python",
   "pygments_lexer": "ipython3",
   "version": "3.12.9"
  },
  "widgets": {
   "application/vnd.jupyter.widget-state+json": {
    "state": {},
    "version_major": 2,
    "version_minor": 0
   }
  }
 },
 "nbformat": 4,
 "nbformat_minor": 4
}
