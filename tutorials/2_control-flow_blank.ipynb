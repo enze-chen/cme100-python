{
 "cells": [
  {
   "cell_type": "markdown",
   "metadata": {},
   "source": [
    "# T2: Control flow\n",
    "\n",
    "```{note}\n",
    "Click the {fa}`rocket` and open this notebook in Colab to enable interactivity.\n",
    "```\n",
    "\n",
    "```{note}\n",
    "To save your progress, make a copy of this notebook in Colab `File > Save a copy in Drive` and you'll find it in `My Drive > Colab Notebooks`.\n",
    "```\n",
    "\n",
    "This week we are covering _control flow_, which is a broad term that describes statements that determine the order of code execution and the direction your program will take based on certain conditions being met (or not).\n",
    "Mastering control flow will make your code more efficient and effective!"
   ]
  },
  {
   "cell_type": "markdown",
   "metadata": {},
   "source": [
    "## Conditional statements\n",
    "\n",
    "We use this to describe `if`, `elif` (short for \"else if\"), and `else` statements.\n",
    "The general structure is like this:\n",
    "\n",
    "```python\n",
    "if condition1:\n",
    "    <do something only when condition1 is True>\n",
    "elif condition2:\n",
    "    <otherwise, do something else if condition2 is True> (and condition1 was False)\n",
    "else:\n",
    "    <otherwise, do something else>\n",
    "```\n",
    "\n",
    "```{note}\n",
    "`if` is required, and the other two are _optional_.\n",
    "```\n",
    "\n",
    "```{note}\n",
    "In MATLAB, control flow blocks have an `end` to conclude. No need for that in Python!\n",
    "```\n",
    "\n",
    "Here is an example:"
   ]
  },
  {
   "cell_type": "code",
   "execution_count": null,
   "metadata": {},
   "outputs": [],
   "source": [
    "x = 5\n",
    "y = 0\n",
    "if x > 0:\n",
    "    y = 1\n",
    "y"
   ]
  },
  {
   "cell_type": "markdown",
   "metadata": {},
   "source": [
    "**Check**: If you change the first line to `x = 0`, what will appear when you run it again?\n",
    "\n",
    "The statement `y = 1` will be executed if `x > 0` evaluates to `True`.\n",
    "We can tell Python to do something else when `x > 0` evaluates to `False` by using `elif` and `else`."
   ]
  },
  {
   "cell_type": "code",
   "execution_count": null,
   "metadata": {},
   "outputs": [],
   "source": [
    "x = 5\n",
    "y = 0\n",
    "if x > 0:\n",
    "    y = 1\n",
    "elif x < 0:\n",
    "    y = -1\n",
    "else:\n",
    "    y = 0\n",
    "\n",
    "y"
   ]
  },
  {
   "cell_type": "markdown",
   "metadata": {},
   "source": [
    "**Check**: Change the value of `x` several times with positive, negative, and zero values and run the previous cell again.\n",
    "\n",
    "Finally, take a look at this:"
   ]
  },
  {
   "cell_type": "code",
   "execution_count": null,
   "metadata": {},
   "outputs": [],
   "source": [
    "a = 2\n",
    "b = 4\n",
    "if a == 2 and b == 4:\n",
    "    print(\"wow!\")"
   ]
  },
  {
   "cell_type": "markdown",
   "metadata": {},
   "source": [
    "```{important}\n",
    "In Python, logical \"and\" uses the actual word `and` instead of the symbols `&&` as it's commonly done in other languages.\n",
    "Similarly, logical \"or\" uses the actual word `or`.\n",
    "Finally, please don't confuse these keywords (no quotes) with the literal strings `'and'` and `'or'`!\n",
    "```"
   ]
  },
  {
   "cell_type": "markdown",
   "metadata": {},
   "source": [
    "### Self-referencing assignments (optional)\n",
    "\n",
    "Self-referencing assignment is the idea of _updating_ a variable to a new value using its current (old) value.\n",
    "Try to do the following:\n",
    "1. Create variable `x` with value `0`. Then type `x = x + 1`.\n",
    "2. Type `x = x + 1` again.\n",
    "3. Type `x = x + 1` again.\n",
    "4. Print `x`. What do you expect to see?\n",
    "5. Create variable `y` with value `1`. Then type `y = y * x`.\n",
    "6. Type `y = y * x` again.\n",
    "7. Type `y = y * x` again.\n",
    "8. Print `y`. What do you expect to see?"
   ]
  },
  {
   "cell_type": "code",
   "execution_count": null,
   "metadata": {},
   "outputs": [],
   "source": [
    "# TODO: Write your solution below\n"
   ]
  },
  {
   "cell_type": "markdown",
   "metadata": {},
   "source": [
    "## Loops\n",
    "\n",
    "Loops are one of the main advantages of a programmatic solution, as they enable you to **automate repetitive tasks**."
   ]
  },
  {
   "cell_type": "markdown",
   "metadata": {},
   "source": [
    "### For loops\n",
    "\n",
    "A `for` loop is used to repeat execution of a chunk of code when you know how many times you will repeat. \n",
    "In many applications, `for` loops are used in combination with self-referencing assignments.\n",
    "\n",
    "The `for` loop syntax in Python is:\n",
    "```python\n",
    "for i in collection:\n",
    "    <do something repeatedly, where each iteration, the variable i takes on a different value in the collection>\n",
    "```\n",
    "where `collection` is usually a list-like object of values.\n",
    "The `for` loop stops when all the items in the collection are used once.\n",
    "A very common expression you'll see for `collection` is [`range(N)`](https://docs.python.org/3/library/functions.html#func-range), which is a built-in function that enumerates numbers from `0` up to `N` (_not_ inclusive).\n",
    "\n",
    "The full function signature is `range(start, stop, step)`, going from `start` to `stop` (not inclusive) in steps of size `step`."
   ]
  },
  {
   "cell_type": "code",
   "execution_count": null,
   "metadata": {},
   "outputs": [],
   "source": [
    "s = 0\n",
    "for i in range(1, 11):\n",
    "    s = s + i\n",
    "s"
   ]
  },
  {
   "cell_type": "code",
   "execution_count": null,
   "metadata": {},
   "outputs": [],
   "source": [
    "# change s to a list and grow it\n",
    "s = [0]\n",
    "for i in range(1, 11):\n",
    "    s.append(s[-1] + i)\n",
    "s"
   ]
  },
  {
   "cell_type": "code",
   "execution_count": null,
   "metadata": {},
   "outputs": [],
   "source": [
    "# change the step size\n",
    "s = 0\n",
    "for i in range(1, 20, 2):\n",
    "    s = s + i\n",
    "s"
   ]
  },
  {
   "cell_type": "markdown",
   "metadata": {},
   "source": [
    "There are numerous applications of `for` loops. \n",
    "For now, we will discuss how to plot a function that has different definitions on different pieces of the domain. \n",
    "This example demonstrates the use of `if` and `for` together.\n",
    "\n",
    "#### Example\n",
    "\n",
    "Plot the function $f(x)$ defined by\n",
    "\n",
    "$$ f(x) = \\begin{cases} x & 0 \\le x \\le 1 \\\\ \\dfrac{3}{2} - \\dfrac{1}{2} (x - 2)^2 & 1 \\le x \\le 3 \\\\ 4 - x & 3 \\le x \\end{cases}, $$\n",
    "\n",
    "over the domain $x \\in [0, 4]$ with step size $\\Delta x = 0.1$.\n",
    "\n",
    "Consider:\n",
    "- Should you use [`np.arange()`](https://numpy.org/doc/stable/reference/generated/numpy.arange.html) or [`np.linspace()`](https://numpy.org/doc/stable/reference/generated/numpy.linspace.html) to create `x`?\n",
    "- You should first _preallocate_ `y` (the array for $f(x)$) by using [`np.zeros(shape)`](https://numpy.org/doc/stable/reference/generated/numpy.zeros.html) to create a $\\vec{0}$-vector of the same shape as `x`."
   ]
  },
  {
   "cell_type": "code",
   "execution_count": null,
   "metadata": {},
   "outputs": [],
   "source": [
    "# import libraries\n",
    "import numpy as np\n",
    "import matplotlib.pyplot as plt\n",
    "\n",
    "# discretize the domain in equal steps\n",
    "x = np.arange(0, 4.1, 0.1)\n",
    "\n",
    "# initialize y\n",
    "y = np.zeros(x.shape)\n",
    "\n",
    "# using a for loop to compute y at each value of x\n",
    "for i in range(len(x)):\n",
    "    if x[i] <= 1:\n",
    "        y[i] = x[i]\n",
    "    elif x[i] <= 3:   # we don't need the \"other side\" because it's already handled\n",
    "        y[i] = 3/2 - 1/2 * (x[i] - 2)**2\n",
    "    else:\n",
    "        y[i] = 4 - x[i]\n",
    "\n",
    "# we plot the result\n",
    "fig, ax = plt.subplots()\n",
    "ax.plot(x, y)\n",
    "plt.show()"
   ]
  },
  {
   "cell_type": "markdown",
   "metadata": {},
   "source": [
    "### While loops\n",
    "\n",
    "A `while` loop is, in a sense, similar to an `if` statement, but the execution will be repeated until the condition no longer holds.\n",
    "In other words, it's a loop where you know the stop condition, but you don't know (or don't care) how many iterations it will take to get there.\n",
    "\n",
    "The `while` loop syntax in Python is:\n",
    "```python\n",
    "while condition:\n",
    "    <do something repeatedly until condition becomes False>\n",
    "    # Try not to get stuck in an infinite loop!\n",
    "```\n",
    "\n",
    "#### Example\n",
    "\n",
    "Find a solution to the equation $x = \\cos x$ with error not greater than $0.01$.\n",
    "\n",
    "Idea: If $x$ is a solution to the equation, then applying $\\cos$ to $x$ would not change the value.\n",
    "We hope that if we start with an arbitrary number and repeatedly apply $\\cos$, we will eventually get (very close) to the solution of $x = \\cos x$.\n",
    "(The reason why this works, known as [fixed-point iteration](https://en.wikipedia.org/wiki/Fixed-point_iteration), is beyond the scope of this class.)"
   ]
  },
  {
   "cell_type": "code",
   "execution_count": null,
   "metadata": {},
   "outputs": [],
   "source": [
    "# pick an abitrary number to start from, say 1\n",
    "x = 1\n",
    "\n",
    "# repeat until |x - cos(x)| < 0.01\n",
    "while np.absolute(x - np.cos(x)) >= 0.01:\n",
    "    x = np.cos(x)\n",
    "print(x)\n",
    "print(np.absolute(x - np.cos(x)))"
   ]
  },
  {
   "cell_type": "markdown",
   "metadata": {},
   "source": [
    "```{note}\n",
    "Look carefully at the condition following the keyword `while`. \n",
    "It is the _negation_ of the terminating condition.\n",
    "```"
   ]
  },
  {
   "cell_type": "markdown",
   "metadata": {},
   "source": [
    "### For vs. While\n",
    "\n",
    "If you know the number of iterations in advance, it is a good practice to use `for`.\n",
    "\n",
    "#### Example\n",
    "\n",
    "Compute the first $25$ Fibonacci numbers."
   ]
  },
  {
   "cell_type": "code",
   "execution_count": null,
   "metadata": {},
   "outputs": [],
   "source": [
    "# initialize\n",
    "fibo = [1, 1]\n",
    "for i in range(2, 25):\n",
    "    fibo.append(fibo[i - 1] + fibo[i - 2])\n",
    "fibo"
   ]
  },
  {
   "cell_type": "markdown",
   "metadata": {},
   "source": [
    "When the number of iterations is not known in advance, we can only use `while`.\n",
    "\n",
    "#### Example\n",
    "\n",
    "Compute all Fibonacci numbers that are not greater than $10,000,000$."
   ]
  },
  {
   "cell_type": "code",
   "execution_count": null,
   "metadata": {},
   "outputs": [],
   "source": [
    "fibo = [1, 1]\n",
    "while fibo[-1] <= 1e7:\n",
    "    fibo.append(fibo[-1] + fibo[-2])\n",
    "fibo   # overcounts one, but we'll ignore it"
   ]
  },
  {
   "cell_type": "markdown",
   "metadata": {},
   "source": [
    "## Logical operations (optional)\n",
    "\n",
    "The \"conditions\" used in `for` and `while` statements are **logical expressions**. \n",
    "Here's how they work in more detail.\n",
    "\n",
    "Two vectors of the same dimension can be _compared_. \n",
    "The result is a vector of truth values (`0` and `1`) of the same dimension. \n",
    "Available comparison operators are \n",
    "- `==` (equal to) \n",
    "- `!=` (not equal to) \n",
    "- `>` (greater than) \n",
    "- `>=` (not smaller than) \n",
    "- `<` (smaller than)\n",
    "- `<=` (not greater than).\n",
    "\n",
    "Try the following commands:"
   ]
  },
  {
   "cell_type": "code",
   "execution_count": null,
   "metadata": {},
   "outputs": [],
   "source": [
    "print(4 > 2)\n",
    "print(4 < 2)\n",
    "\n",
    "a = np.array([1, 2, 3, 4, 5])   # would not work with pure lists!\n",
    "b = np.array([2, 2, 2, 4, 4])\n",
    "print(a == b)\n",
    "\n",
    "print(np.arange(10, 0, -1) >= np.arange(10))"
   ]
  },
  {
   "cell_type": "markdown",
   "metadata": {},
   "source": [
    "These comparison operators work entrywise, so scalar expansion will happen when one of the two operands is a scalar."
   ]
  },
  {
   "cell_type": "code",
   "execution_count": null,
   "metadata": {},
   "outputs": [],
   "source": [
    "print(np.arange(-3, 3) < 0)\n",
    "print(np.arange(10) != 5)"
   ]
  },
  {
   "cell_type": "markdown",
   "metadata": {},
   "source": [
    "The above comparison are often used to create **masks** of logical indices for selecting a subset of an array.\n",
    "\n",
    "There are also _element-wise logical connectives_ in Python, such as `np.logical_and(x, y)` and `np.logical_or(x, y)`.\n",
    "`0` is considered `False` while all non-zero numbers are considered `True`."
   ]
  },
  {
   "cell_type": "code",
   "execution_count": null,
   "metadata": {},
   "outputs": [],
   "source": [
    "a = np.array([0, 0, 1, 1])\n",
    "b = np.array([0, 1, 0, 1])\n",
    "\n",
    "print(np.logical_and(a, b))\n",
    "print(np.logical_or(a, b))"
   ]
  }
 ],
 "metadata": {
  "kernelspec": {
   "display_name": "Python 3 (ipykernel)",
   "language": "python",
   "name": "python3"
  },
  "language_info": {
   "codemirror_mode": {
    "name": "ipython",
    "version": 3
   },
   "file_extension": ".py",
   "mimetype": "text/x-python",
   "name": "python",
   "nbconvert_exporter": "python",
   "pygments_lexer": "ipython3",
   "version": "3.12.9"
  },
  "widgets": {
   "application/vnd.jupyter.widget-state+json": {
    "state": {},
    "version_major": 2,
    "version_minor": 0
   }
  }
 },
 "nbformat": 4,
 "nbformat_minor": 4
}
