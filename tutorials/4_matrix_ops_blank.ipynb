{
 "cells": [
  {
   "cell_type": "markdown",
   "metadata": {},
   "source": [
    "# T4: Matrix operations\n",
    "\n",
    "```{note}\n",
    "Click the {fa}`rocket` and open this notebook in Colab to enable interactivity.\n",
    "```\n",
    "\n",
    "```{note}\n",
    "To save your progress, make a copy of this notebook in Colab `File > Save a copy in Drive` and you'll find it in `My Drive > Colab Notebooks`.\n",
    "```\n",
    "\n",
    "From this point in the course onward, the tutorials are mostly theoretical, but we'll demonstrate a few numerical solutions here to verify the results."
   ]
  },
  {
   "cell_type": "markdown",
   "metadata": {},
   "source": [
    "## Determinants\n",
    "\n",
    "Determinants of a matrix can be computed using the [`np.linalg.det(A)`](https://numpy.org/doc/stable/reference/generated/numpy.linalg.det.html) function.\n",
    "\n",
    "We'll demonstrate this by computing the determinant of $A = \\begin{bmatrix} 1 & 1 & 1 & 1 \\\\ 1 & 1 & 1 & 2 \\\\ 1 & 1 & 2 & 3 \\\\ 1 & 2 & 3 & 4 \\end{bmatrix}$."
   ]
  },
  {
   "cell_type": "code",
   "execution_count": null,
   "metadata": {},
   "outputs": [],
   "source": [
    "import numpy as np\n",
    "A = np.array([[1, 1, 1, 1], [1, 1, 1, 2], [1, 1, 2, 3], [1, 2, 3, 4]])\n",
    "np.linalg.det(A)"
   ]
  },
  {
   "cell_type": "markdown",
   "metadata": {},
   "source": [
    "## Matrix inversion\n",
    "\n",
    "If $A$ is a square matrix with $\\det(A) \\neq 0$, its inverse $A^{-1}$ exists. \n",
    "A system of linear equation $A \\vec{x} = \\vec{b}$ can be solved by multiplying $A^{-1}$ on the left.\n",
    "$A^{-1}$ can be computed using Gaussian elimination.\n",
    "\n",
    "We'll demonstrate this by computing the inverse of $A = \\begin{bmatrix} 1 & 1 & 1 & 1 \\\\ 1 & 1 & 1 & 2 \\\\ 1 & 1 & 2 & 3 \\\\ 1 & 2 & 3 & 4 \\end{bmatrix}$, and then solve for $A \\vec{x} = \\begin{bmatrix} 1 \\\\ 1 \\\\ 2 \\\\ 2 \\end{bmatrix}$.\n",
    "We will rely on several functions here:\n",
    "- [`np.linalg.inv(A)`](https://numpy.org/doc/stable/reference/generated/numpy.linalg.inv.html) - Calculate the inverse of matrix `A`.\n",
    "- [`np.linalg.solve(A, b)`](https://numpy.org/doc/stable/reference/generated/numpy.linalg.solve.html) - Solve the equation $A \\vec{x} = \\vec{b}$ for $\\vec{x}$.\n",
    "- [`sympy.Matrix.rref()`](https://docs.sympy.org/latest/tutorials/intro-tutorial/matrices.html#rref) - Calculate the reduced row echelon form."
   ]
  },
  {
   "cell_type": "code",
   "execution_count": null,
   "metadata": {},
   "outputs": [],
   "source": [
    "A = np.array([[1, 1, 1, 1], [1, 1, 1, 2], [1, 1, 2, 3], [1, 2, 3, 4]])\n",
    "b = np.array([[1], [1], [2], [2]])\n",
    "\n",
    "# use rref\n",
    "from sympy import Matrix\n",
    "aug = Matrix(np.concatenate([A, np.eye(4)], axis=1))\n",
    "rref = aug.rref()[0]\n",
    "Ainv = rref[:, 4:]   # stays as sympy Matrix, can convert with sympy.matrix2numpy(Ainv)\n",
    "display(Ainv @ A)   # verify\n",
    "\n",
    "# Multiply by b to get the solution\n",
    "x = Ainv @ b\n",
    "display(x)\n",
    "print()\n",
    "\n",
    "# Directly reduce [A, b]\n",
    "aug = Matrix(np.concatenate([A, b], axis=1))\n",
    "rref = aug.rref()[0]\n",
    "x = rref[:, -1]\n",
    "display(x)\n",
    "print()\n",
    "\n",
    "# Direct solve with NumPy inverse\n",
    "Ainv = np.linalg.inv(A)\n",
    "x = Ainv @ b\n",
    "print(x)\n",
    "print()\n",
    "\n",
    "# Direct solve with NumPy\n",
    "x = np.linalg.solve(A, b)\n",
    "print(x)\n",
    "print(A @ x - b)   # verify"
   ]
  }
 ],
 "metadata": {
  "kernelspec": {
   "display_name": "Python 3 (ipykernel)",
   "language": "python",
   "name": "python3"
  },
  "language_info": {
   "codemirror_mode": {
    "name": "ipython",
    "version": 3
   },
   "file_extension": ".py",
   "mimetype": "text/x-python",
   "name": "python",
   "nbconvert_exporter": "python",
   "pygments_lexer": "ipython3",
   "version": "3.12.9"
  },
  "widgets": {
   "application/vnd.jupyter.widget-state+json": {
    "state": {},
    "version_major": 2,
    "version_minor": 0
   }
  }
 },
 "nbformat": 4,
 "nbformat_minor": 4
}
