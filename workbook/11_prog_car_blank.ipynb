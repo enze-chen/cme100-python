{
 "cells": [
  {
   "cell_type": "markdown",
   "metadata": {
    "editable": true,
    "slideshow": {
     "slide_type": ""
    },
    "tags": []
   },
   "source": [
    "# Car motion example - Your turn\n",
    "\n",
    "When the speed of the car reaches $50$ km/h, it stops accelerating and begins to slow down. \n",
    "At the beginning, the brakes are applied slowly, and as the time increases, the braking force increases. \n",
    "The breaking force exerted on the car can be modeled as follows: $F_{\\mathrm{break}} = -100 tv^2$ in Newtons, with $t$ in seconds. \n",
    "The equations of motion become:\n",
    "\n",
    "$$ F_{\\mathrm{break}} = m \\dfrac{dv}{dt} = -100 tv^2 \\quad \\text{and} \\quad v = \\dfrac{dx}{dt} $$\n",
    "\n",
    "The discretized equations are then written as follows:\n",
    "\n",
    "$$ v(n+1) = v(n) -\\Delta t \\dfrac{100}{m} t(n) v^2(n) \\quad \\text{and} \\quad x(n+1) = x(n) + \\Delta t v(n) $$\n",
    "\n",
    "The goal of this exercise is to compute the distance driven and the time needed for the car to slow down from $50$ km/h to $10$ km/h."
   ]
  },
  {
   "cell_type": "markdown",
   "metadata": {},
   "source": [
    "## Part 1\n",
    "\n",
    "Write a script to solve these equations numerically. \n",
    "Choose $0$ for both the initial position and time and $13.89$ m/s for the initial velocity. \n",
    "Use the same time step as in the example. \n",
    "Stop the iteration when the velocity reaches $2.78$ m/s ($10$ km/h)."
   ]
  },
  {
   "cell_type": "code",
   "execution_count": null,
   "metadata": {
    "editable": true,
    "slideshow": {
     "slide_type": ""
    },
    "tags": []
   },
   "outputs": [],
   "source": [
    "# TODO: Write your solution below\n"
   ]
  },
  {
   "cell_type": "markdown",
   "metadata": {},
   "source": [
    "## Part 2\n",
    "\n",
    "Plot the position and velocity as a function of time in the same figure using subplots. \n",
    "Add a title and axes labels."
   ]
  },
  {
   "cell_type": "code",
   "execution_count": null,
   "metadata": {},
   "outputs": [],
   "source": [
    "# TODO: Write your solution below\n"
   ]
  },
  {
   "cell_type": "markdown",
   "metadata": {},
   "source": [
    "## Part 3\n",
    "\n",
    "Determine the time and the distance traveled to slow down to $10$ km/h."
   ]
  },
  {
   "cell_type": "code",
   "execution_count": null,
   "metadata": {},
   "outputs": [],
   "source": [
    "# TODO: Write your solution below\n"
   ]
  },
  {
   "cell_type": "markdown",
   "metadata": {},
   "source": [
    "## Exporting your work\n",
    "\n",
    "When you're ready, the easiest way to export the notebook is to `File > Print` it and save it as a PDF. \n",
    "Remove any excessively long, unrelated outputs first by clicking the arrow → next to the output box and then `Show/hide output`. \n",
    "Obviously don't obscure any necessary output or graphs!"
   ]
  }
 ],
 "metadata": {
  "kernelspec": {
   "display_name": "Python 3 (ipykernel)",
   "language": "python",
   "name": "python3"
  },
  "language_info": {
   "codemirror_mode": {
    "name": "ipython",
    "version": 3
   },
   "file_extension": ".py",
   "mimetype": "text/x-python",
   "name": "python",
   "nbconvert_exporter": "python",
   "pygments_lexer": "ipython3",
   "version": "3.12.9"
  },
  "widgets": {
   "application/vnd.jupyter.widget-state+json": {
    "state": {},
    "version_major": 2,
    "version_minor": 0
   }
  }
 },
 "nbformat": 4,
 "nbformat_minor": 4
}
