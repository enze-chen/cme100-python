{
 "cells": [
  {
   "cell_type": "markdown",
   "metadata": {
    "editable": true,
    "slideshow": {
     "slide_type": ""
    },
    "tags": []
   },
   "source": [
    "# For loops - Your turn\n",
    "\n",
    "## Part 1\n",
    "\n",
    "Write a script to compute the sum of all components of a vector. \n",
    "Your script should work regardless of the size of the vector. \n",
    "Test your script with using the following vector: $\\vec{v} = \\begin{bmatrix} 2 & 1.1 & -3 & 5.2 & 4.7 \\end{bmatrix} $\n",
    "\n",
    "Note: Using built-in functions like [`np.sum()`](https://numpy.org/doc/stable/reference/generated/numpy.sum.html) will not earn credit!"
   ]
  },
  {
   "cell_type": "code",
   "execution_count": null,
   "metadata": {
    "editable": true,
    "slideshow": {
     "slide_type": ""
    },
    "tags": []
   },
   "outputs": [],
   "source": [
    "# TODO: Write your solution below\n"
   ]
  },
  {
   "cell_type": "markdown",
   "metadata": {},
   "source": [
    "## Part 2\n",
    "\n",
    "Define and plot the function $y(x) = |x|$ for $x$ ranging between $-1$ and $1$, with $x$ coordinates spaced by $0.05$.\n",
    "\n",
    "Note: Using built-in functions like [`np.absolute()`](https://numpy.org/doc/stable/reference/generated/numpy.absolute.html) will not earn credit!"
   ]
  },
  {
   "cell_type": "code",
   "execution_count": null,
   "metadata": {},
   "outputs": [],
   "source": [
    "# TODO: Write your solution below\n"
   ]
  },
  {
   "cell_type": "markdown",
   "metadata": {},
   "source": [
    "## Exporting your work\n",
    "\n",
    "When you're ready, the easiest way to export the notebook is to `File > Print` it and save it as a PDF. \n",
    "Remove any excessively long, unrelated outputs first by clicking the arrow → next to the output box and then `Show/hide output`. \n",
    "Obviously don't obscure any necessary output or graphs!"
   ]
  }
 ],
 "metadata": {
  "kernelspec": {
   "display_name": "Python 3 (ipykernel)",
   "language": "python",
   "name": "python3"
  },
  "language_info": {
   "codemirror_mode": {
    "name": "ipython",
    "version": 3
   },
   "file_extension": ".py",
   "mimetype": "text/x-python",
   "name": "python",
   "nbconvert_exporter": "python",
   "pygments_lexer": "ipython3",
   "version": "3.12.9"
  },
  "widgets": {
   "application/vnd.jupyter.widget-state+json": {
    "state": {},
    "version_major": 2,
    "version_minor": 0
   }
  }
 },
 "nbformat": 4,
 "nbformat_minor": 4
}
