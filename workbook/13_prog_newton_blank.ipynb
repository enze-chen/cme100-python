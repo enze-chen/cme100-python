{
 "cells": [
  {
   "cell_type": "markdown",
   "metadata": {
    "editable": true,
    "slideshow": {
     "slide_type": ""
    },
    "tags": []
   },
   "source": [
    "# Newton's method - Your turn\n",
    "\n",
    "A `for` loop was used in the example script to perform the Newton’s iteration. \n",
    "The iteration was terminated after a specified number of loops. \n",
    "In this case, we have performed a certain number of iterations without concerning ourselves with the accuracy of the computed solution. \n",
    "A more accurate (and possibly more efficient) approach would be to **test for convergence** and stop the iteration when the required level of accuracy has been achieved. \n",
    "This is the perfect case for a `while` loop!\n",
    "The convergence criterion often used is the difference between the solutions obtained in two successive iterations. \n",
    "The loop is terminated when the difference is below a specified threshold value."
   ]
  },
  {
   "cell_type": "markdown",
   "metadata": {},
   "source": [
    "1. Rewrite the example script using a `while` loop.\n",
    "   Terminate the iteration when the absolute value of the difference between any two successive iterates for $V_{\\mathrm{diode}}$ is less than $10^{-6}$.\n",
    "   Note: You'll have to store the old value of $V_{\\mathrm{diode}}$ before computing the new one.\n",
    "2. How many iterations were required to achieve the specified accuracy?"
   ]
  },
  {
   "cell_type": "code",
   "execution_count": null,
   "metadata": {
    "editable": true,
    "slideshow": {
     "slide_type": ""
    },
    "tags": []
   },
   "outputs": [],
   "source": [
    "# TODO: Write your solution below\n"
   ]
  },
  {
   "cell_type": "markdown",
   "metadata": {},
   "source": [
    "## Exporting your work\n",
    "\n",
    "When you're ready, the easiest way to export the notebook is to `File > Print` it and save it as a PDF. \n",
    "Remove any excessively long, unrelated outputs first by clicking the arrow → next to the output box and then `Show/hide output`. \n",
    "Obviously don't obscure any necessary output or graphs!"
   ]
  }
 ],
 "metadata": {
  "kernelspec": {
   "display_name": "Python 3 (ipykernel)",
   "language": "python",
   "name": "python3"
  },
  "language_info": {
   "codemirror_mode": {
    "name": "ipython",
    "version": 3
   },
   "file_extension": ".py",
   "mimetype": "text/x-python",
   "name": "python",
   "nbconvert_exporter": "python",
   "pygments_lexer": "ipython3",
   "version": "3.12.9"
  },
  "widgets": {
   "application/vnd.jupyter.widget-state+json": {
    "state": {},
    "version_major": 2,
    "version_minor": 0
   }
  }
 },
 "nbformat": 4,
 "nbformat_minor": 4
}
