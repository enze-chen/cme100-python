{
 "cells": [
  {
   "cell_type": "markdown",
   "metadata": {
    "editable": true,
    "slideshow": {
     "slide_type": ""
    },
    "tags": []
   },
   "source": [
    "# Vector operations III\n",
    "\n",
    "In addition to applying operations on vectors, we can apply functions to them.\n",
    "Let's see how this works."
   ]
  },
  {
   "cell_type": "markdown",
   "metadata": {},
   "source": [
    "## Summary of commands\n",
    "\n",
    "In this exercise, we will demonstrate the following:\n",
    "- [NumPy functions](https://numpy.org/doc/stable/reference/routines.math.html) such as exponentials ([`np.exp(x)`](https://numpy.org/doc/stable/reference/generated/numpy.exp.html#numpy.exp)) and sine ([`np.sin(x)`](https://numpy.org/doc/stable/reference/generated/numpy.sin.html#numpy.sin)).\n",
    "- [NumPy constants](https://numpy.org/doc/stable/reference/constants.html) such as $\\pi$."
   ]
  },
  {
   "cell_type": "markdown",
   "metadata": {
    "editable": true,
    "slideshow": {
     "slide_type": ""
    },
    "tags": []
   },
   "source": [
    "## Applying functions\n",
    "\n",
    "Evaluate the function $y$ given below between $x = 0$ and $x = \\pi$.\n",
    "\n",
    "$$ y = e^{x} \\sin (2x) + \\dfrac{x^2}{3} $$\n",
    "\n",
    "To do so, first create a vector $\\vec{x}$ containing equally spaced elements in the domain of the function. \n",
    "Then compute the corresponding vector $\\vec{y}$. \n",
    "Each element of $\\vec{y}$ will be equal to the value of the function evaluated at the corresponding element of $\\vec{x}$."
   ]
  },
  {
   "cell_type": "code",
   "execution_count": 3,
   "metadata": {
    "editable": true,
    "slideshow": {
     "slide_type": ""
    },
    "tags": []
   },
   "outputs": [
    {
     "data": {
      "text/plain": [
       "array([ 0.        ,  0.13771464,  0.29383853,  0.46718755,  0.65609852,\n",
       "        0.85839999,  1.07139032,  1.29182422,  1.51590945,  1.73931503,\n",
       "        1.95719228,  2.1642102 ,  2.35460615,  2.52225297,  2.66074322,\n",
       "        2.76349114,  2.82385236,  2.83526142,  2.79138623,  2.68629865,\n",
       "        2.5146595 ,  2.27191606,  1.95450931,  1.56008778,  1.08772428,\n",
       "        0.538131  , -0.08613175, -0.78045877, -1.53802098, -2.34961072,\n",
       "       -3.20351786, -4.0854438 , -4.97846034, -5.8630205 , -6.71702818,\n",
       "       -7.51597311, -8.23313709, -8.83987689, -9.30598788, -9.60015163,\n",
       "       -9.69046916, -9.54507982, -9.13286404, -8.42422589, -7.39194955,\n",
       "       -6.01212063, -4.26510143, -2.13654593,  0.38156221,  3.28986813])"
      ]
     },
     "execution_count": 3,
     "metadata": {},
     "output_type": "execute_result"
    }
   ],
   "source": [
    "import numpy as np\n",
    "\n",
    "x = np.linspace(0, np.pi)   # default is 50 elements, you may want more sometimes\n",
    "y = np.exp(x) * np.sin(2*x) + x ** 2 / 3\n",
    "y"
   ]
  }
 ],
 "metadata": {
  "kernelspec": {
   "display_name": "Python 3 (ipykernel)",
   "language": "python",
   "name": "python3"
  },
  "language_info": {
   "codemirror_mode": {
    "name": "ipython",
    "version": 3
   },
   "file_extension": ".py",
   "mimetype": "text/x-python",
   "name": "python",
   "nbconvert_exporter": "python",
   "pygments_lexer": "ipython3",
   "version": "3.12.9"
  },
  "widgets": {
   "application/vnd.jupyter.widget-state+json": {
    "state": {},
    "version_major": 2,
    "version_minor": 0
   }
  }
 },
 "nbformat": 4,
 "nbformat_minor": 4
}
