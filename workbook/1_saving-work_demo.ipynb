{
 "cells": [
  {
   "cell_type": "markdown",
   "metadata": {},
   "source": [
    "# Saving your work\n",
    "\n",
    "```{note}\n",
    "This is an interactive exercise, so you will want to click the {fa}`rocket` and open the notebook in Colab if you want to run things yourself.\n",
    "```\n",
    "\n",
    "In MATLAB, you can save your work in a couple of ways:\n",
    "- Creating a script (`.m` file) or live script (`.mlx` file).\n",
    "- Using the [`diary`](https://www.mathworks.com/help/matlab/ref/diary.html) command to log text inputs and outputs (no graphics).\n",
    "\n",
    "Much like a live script, Jupyter notebooks are nice for **reproducible science** (and your homework) because all of the text, code, inputs, and outputs (_including graphs_) are in one place!\n",
    "We will demonstrate this by introducing some of the capabilities of Python."
   ]
  },
  {
   "cell_type": "markdown",
   "metadata": {},
   "source": [
    "## Python as a calculator\n",
    "\n",
    "You can directly type numerical expressions into a code cell and execute it to run the computation.\n",
    "In the example below, the asterisk `*` symbolizes scalar multiplication."
   ]
  },
  {
   "cell_type": "code",
   "execution_count": 1,
   "metadata": {},
   "outputs": [
    {
     "data": {
      "text/plain": [
       "31536000"
      ]
     },
     "execution_count": 1,
     "metadata": {},
     "output_type": "execute_result"
    }
   ],
   "source": [
    "60 * 60 * 24 * 365"
   ]
  },
  {
   "cell_type": "markdown",
   "metadata": {},
   "source": [
    "In addition to **integers** (`int`) and **floats** (`float`, decimals), another data type you will often encounter is **strings** (`str`), which are literal expressions for text.\n",
    "They can be enclosed in double `\"` or single `'` quotes, but you have to be consistent."
   ]
  },
  {
   "cell_type": "code",
   "execution_count": 2,
   "metadata": {},
   "outputs": [
    {
     "data": {
      "text/plain": [
       "'Hello, World!'"
      ]
     },
     "execution_count": 2,
     "metadata": {},
     "output_type": "execute_result"
    }
   ],
   "source": [
    "\"Hello, World!\""
   ]
  },
  {
   "cell_type": "markdown",
   "metadata": {},
   "source": [
    "Note that in the above two examples, the output automatically appeared when the cell was executed. \n",
    "This will occur for the _last line only_ and is sometimes nice, often unintentional.\n",
    "To force display, you can use the `print()` function, like so:"
   ]
  },
  {
   "cell_type": "code",
   "execution_count": 3,
   "metadata": {},
   "outputs": [
    {
     "name": "stdout",
     "output_type": "stream",
     "text": [
      "3.1415\n",
      "CME 100\n"
     ]
    }
   ],
   "source": [
    "# comments start with a pound sign and aren't printed\n",
    "print(3.1415)\n",
    "print('CME 100')"
   ]
  },
  {
   "cell_type": "markdown",
   "metadata": {},
   "source": [
    "`print()` is very helpful for _debugging_! \n",
    "Feel free to experiment on your own."
   ]
  }
 ],
 "metadata": {
  "kernelspec": {
   "display_name": "Python 3 (ipykernel)",
   "language": "python",
   "name": "python3"
  },
  "language_info": {
   "codemirror_mode": {
    "name": "ipython",
    "version": 3
   },
   "file_extension": ".py",
   "mimetype": "text/x-python",
   "name": "python",
   "nbconvert_exporter": "python",
   "pygments_lexer": "ipython3",
   "version": "3.12.9"
  },
  "widgets": {
   "application/vnd.jupyter.widget-state+json": {
    "state": {},
    "version_major": 2,
    "version_minor": 0
   }
  }
 },
 "nbformat": 4,
 "nbformat_minor": 4
}
