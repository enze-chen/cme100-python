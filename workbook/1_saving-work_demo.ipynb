{
 "cells": [
  {
   "cell_type": "markdown",
   "metadata": {},
   "source": [
    "# Saving your work\n",
    "\n",
    "In MATLAB, you can save your work in a couple of ways:\n",
    "- Creating a script (`.m` file) or live script (`.mlx` file).\n",
    "- Using the [`diary`](https://www.mathworks.com/help/matlab/ref/diary.html) command to log text inputs and outputs (no graphics).\n",
    "\n",
    "But this is a Python notebook, so we're not going to worry about any of that.\n",
    "Much like a live script, Jupyter notebooks are nice for **reproducible science** (and your homework) because all of the text, code, inputs, and outputs (_including graphs_) are in one place!\n",
    "We will demonstrate this by introducing some of the capabilities of Python."
   ]
  },
  {
   "cell_type": "markdown",
   "metadata": {},
   "source": [
    "## Summary of commands\n",
    "\n",
    "In this exercise, we will demonstrate the following:\n",
    "- [`print(...)`](https://docs.python.org/3/library/functions.html#print) - Function to display values.\n",
    "- [Primitive **data types**](https://docs.python.org/3/library/stdtypes.html) - Including `int`, `float`, and `str`."
   ]
  },
  {
   "cell_type": "markdown",
   "metadata": {},
   "source": [
    "## Python as a calculator\n",
    "\n",
    "You can directly type numerical expressions into a code cell and execute it to run the computation.\n",
    "In the example below, the asterisk `*` symbolizes scalar multiplication.\n",
    "You might hear `*` be called an **operator**."
   ]
  },
  {
   "cell_type": "code",
   "execution_count": 1,
   "metadata": {},
   "outputs": [
    {
     "data": {
      "text/plain": [
       "31536000"
      ]
     },
     "execution_count": 1,
     "metadata": {},
     "output_type": "execute_result"
    }
   ],
   "source": [
    "60 * 60 * 24 * 365"
   ]
  },
  {
   "cell_type": "markdown",
   "metadata": {},
   "source": [
    "Many other operations are also possible, some have intuitive syntax, others less so."
   ]
  },
  {
   "cell_type": "code",
   "execution_count": 1,
   "metadata": {},
   "outputs": [
    {
     "data": {
      "text/plain": [
       "2"
      ]
     },
     "execution_count": 1,
     "metadata": {},
     "output_type": "execute_result"
    }
   ],
   "source": [
    "1 + 1"
   ]
  },
  {
   "cell_type": "code",
   "execution_count": 2,
   "metadata": {},
   "outputs": [
    {
     "data": {
      "text/plain": [
       "1.6666666666666667"
      ]
     },
     "execution_count": 2,
     "metadata": {},
     "output_type": "execute_result"
    }
   ],
   "source": [
    "5 / (1 + 2)"
   ]
  },
  {
   "cell_type": "code",
   "execution_count": 3,
   "metadata": {},
   "outputs": [
    {
     "data": {
      "text/plain": [
       "1"
      ]
     },
     "execution_count": 3,
     "metadata": {},
     "output_type": "execute_result"
    }
   ],
   "source": [
    "5 // 3"
   ]
  },
  {
   "cell_type": "markdown",
   "metadata": {},
   "source": [
    "Python even understands scientific notation using the `_e_` notation, where the two blanks are the decimal and exponent."
   ]
  },
  {
   "cell_type": "code",
   "execution_count": 1,
   "metadata": {},
   "outputs": [
    {
     "data": {
      "text/plain": [
       "130000.0"
      ]
     },
     "execution_count": 1,
     "metadata": {},
     "output_type": "execute_result"
    }
   ],
   "source": [
    "1.3e5"
   ]
  },
  {
   "cell_type": "markdown",
   "metadata": {},
   "source": [
    "In addition to **integers** (`int`) and **floats** (`float`, decimals), another data type you will often encounter is **strings** (`str`), which are literal expressions for text.\n",
    "They can be enclosed in double `\"` or single `'` quotes, but you have to be consistent."
   ]
  },
  {
   "cell_type": "code",
   "execution_count": 2,
   "metadata": {},
   "outputs": [
    {
     "data": {
      "text/plain": [
       "'Hello, World!'"
      ]
     },
     "execution_count": 2,
     "metadata": {},
     "output_type": "execute_result"
    }
   ],
   "source": [
    "\"Hello, World!\""
   ]
  },
  {
   "cell_type": "markdown",
   "metadata": {},
   "source": [
    "Note that in the above examples, the output automatically appeared when the cell was executed. \n",
    "This will occur for the _last line only_, and can be suppressed with a trailing semicolon `;` if so desired.\n",
    "To force display of any quantity from any line, you can always use the `print()` function, like so:"
   ]
  },
  {
   "cell_type": "code",
   "execution_count": 3,
   "metadata": {
    "editable": true,
    "slideshow": {
     "slide_type": ""
    },
    "tags": []
   },
   "outputs": [
    {
     "name": "stdout",
     "output_type": "stream",
     "text": [
      "3.1415\n",
      "CME 100\n"
     ]
    }
   ],
   "source": [
    "# comments start with a pound sign and aren't printed\n",
    "print(3.1415)\n",
    "print('CME 100')"
   ]
  },
  {
   "cell_type": "markdown",
   "metadata": {},
   "source": [
    "`print()` is very helpful for _debugging_! \n",
    "Feel free to experiment on your own."
   ]
  }
 ],
 "metadata": {
  "kernelspec": {
   "display_name": "Python 3 (ipykernel)",
   "language": "python",
   "name": "python3"
  },
  "language_info": {
   "codemirror_mode": {
    "name": "ipython",
    "version": 3
   },
   "file_extension": ".py",
   "mimetype": "text/x-python",
   "name": "python",
   "nbconvert_exporter": "python",
   "pygments_lexer": "ipython3",
   "version": "3.12.9"
  },
  "widgets": {
   "application/vnd.jupyter.widget-state+json": {
    "state": {},
    "version_major": 2,
    "version_minor": 0
   }
  }
 },
 "nbformat": 4,
 "nbformat_minor": 4
}
