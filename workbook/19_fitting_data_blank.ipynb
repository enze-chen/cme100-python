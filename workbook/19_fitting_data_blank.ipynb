{
 "cells": [
  {
   "cell_type": "markdown",
   "metadata": {
    "editable": true,
    "slideshow": {
     "slide_type": ""
    },
    "tags": []
   },
   "source": [
    "# Fitting data - Your turn\n",
    "\n",
    "The same students have repeated their experiments at Reynolds numbers between $10^4$ and $10^5$ and have found a constant drag coefficient of $C_{\\mathrm{D}} = 0.4775$. \n",
    "Assume the density of air $\\rho$ is 1.25 kg/m$^3$.\n",
    "The following table gives the drag force on the sphere as a function of the air speed.\n",
    "\n",
    "| $F_{\\mathrm{D}}$ (N) | $V$ (m/s) | \n",
    "| :-- | --- |\n",
    "| 0.036 | 4 |\n",
    "| 0.09298 | 6 | \n",
    "| 0.10682 | 7 |\n",
    "| 0.1568  | 8 |\n",
    "| 0.193   | 9 | \n",
    "\n",
    "Find the radius of the sphere used in the experiments by following these steps."
   ]
  },
  {
   "cell_type": "markdown",
   "metadata": {},
   "source": [
    "## Part (a)\n",
    "\n",
    "In the definition of the drag force:\n",
    "\n",
    "$$ F_{\\mathrm{D}} = \\dfrac{1}{2} C_{\\mathrm{D}} \\rho V^2 \\pi r^2 $$\n",
    "\n",
    "the group $\\dfrac{1}{2} C_{\\mathrm{D}} \\rho \\pi r^2$ is now a constant, since the drag coefficient is assumed to be constant. \n",
    "That means that the plot of $F_{\\mathrm{D}}$ vs. $V^2$ should be close to a straight line. \n",
    "Using `polyfit()`, find an equation of a line that best fits the data given in the table."
   ]
  },
  {
   "cell_type": "code",
   "execution_count": null,
   "metadata": {},
   "outputs": [],
   "source": [
    "# TODO: Write your solution below\n"
   ]
  },
  {
   "cell_type": "markdown",
   "metadata": {},
   "source": [
    "## Part (b)\n",
    "\n",
    "Using the results in part (a) extract the value of $\\dfrac{1}{2} C_{\\mathrm{D}} \\rho \\pi r^2$."
   ]
  },
  {
   "cell_type": "code",
   "execution_count": null,
   "metadata": {},
   "outputs": [],
   "source": [
    "# TODO: Write your solution below\n"
   ]
  },
  {
   "cell_type": "markdown",
   "metadata": {},
   "source": [
    "## Part (c)\n",
    "\n",
    "Using the numerical values provided, estimate the radius of the sphere."
   ]
  },
  {
   "cell_type": "code",
   "execution_count": null,
   "metadata": {
    "editable": true,
    "slideshow": {
     "slide_type": ""
    },
    "tags": []
   },
   "outputs": [],
   "source": [
    "# TODO: Write your solution below\n"
   ]
  },
  {
   "cell_type": "markdown",
   "metadata": {},
   "source": [
    "## Exporting your work\n",
    "\n",
    "When you're ready, the easiest way to export the notebook is to `File > Print` it and save it as a PDF. \n",
    "Remove any excessively long, unrelated outputs first by clicking the arrow → next to the output box and then `Show/hide output`. \n",
    "Obviously don't obscure any necessary output or graphs!"
   ]
  }
 ],
 "metadata": {
  "kernelspec": {
   "display_name": "Python 3 (ipykernel)",
   "language": "python",
   "name": "python3"
  },
  "language_info": {
   "codemirror_mode": {
    "name": "ipython",
    "version": 3
   },
   "file_extension": ".py",
   "mimetype": "text/x-python",
   "name": "python",
   "nbconvert_exporter": "python",
   "pygments_lexer": "ipython3",
   "version": "3.12.9"
  },
  "widgets": {
   "application/vnd.jupyter.widget-state+json": {
    "state": {},
    "version_major": 2,
    "version_minor": 0
   }
  }
 },
 "nbformat": 4,
 "nbformat_minor": 4
}
