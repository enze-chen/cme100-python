{
 "cells": [
  {
   "cell_type": "markdown",
   "metadata": {
    "editable": true,
    "slideshow": {
     "slide_type": ""
    },
    "tags": []
   },
   "source": [
    "# Additional matrix operations\n",
    "\n",
    "There are many other linear algebra operations that are convenient to do in Python, and we will demonstrate them below."
   ]
  },
  {
   "cell_type": "markdown",
   "metadata": {},
   "source": [
    "## Summary of commands\n",
    "\n",
    "In this exercise, we will use:\n",
    "- [`np.linalg.inv(A)`](https://numpy.org/doc/stable/reference/generated/numpy.linalg.inv.html) - Compute the inverse of matrix $A$.\n",
    "- [`np.linalg.det(A)`](https://numpy.org/doc/stable/reference/generated/numpy.linalg.det.html) - Compute the determinant of matrix $A$.\n",
    "- [`np.linalg.solve(A, b)`](https://numpy.org/doc/stable/reference/generated/numpy.linalg.solve.html) - Compute the solution $\\vec{x}$ in the equation $A\\vec{x} = \\vec{b}$.\n",
    "\n",
    "As before, these are all part of the [linear algebra subroutine](https://numpy.org/doc/stable/reference/routines.linalg.html) in NumPy."
   ]
  },
  {
   "cell_type": "markdown",
   "metadata": {},
   "source": [
    "## Demo\n",
    "\n",
    "Consider the following matrices and vectors:\n",
    "\n",
    "$$ A = \\begin{bmatrix} 1 & 3 & 5 \\\\ 2 & 5 & 10 \\\\ 3 & 3 & 15 \\end{bmatrix}, \\qquad B = \\begin{bmatrix} 2 & 4 & 5 \\\\ 2 & 5 & 10 \\\\ 3 & 6 & 9 \\end{bmatrix}, \\qquad \\vec{b} = \\begin{bmatrix} 1 \\\\ 4 \\\\ 5 \\end{bmatrix} $$\n",
    "\n",
    "and compute the following:\n",
    "\n",
    "(a) $A^{-1}$         \n",
    "(b) $B^{-1}$            \n",
    "(c) $\\mathrm{det}(A)$           \n",
    "(d) $\\mathrm{det}(B)$        \n",
    "(e) Solve the system $A \\vec{x} = \\vec{b}$ for $\\vec{x}$.       \n",
    "(f) Solve the system $B \\vec{x} = \\vec{b}$ for $\\vec{x}$."
   ]
  },
  {
   "cell_type": "code",
   "execution_count": 10,
   "metadata": {
    "editable": true,
    "slideshow": {
     "slide_type": ""
    },
    "tags": []
   },
   "outputs": [
    {
     "name": "stdout",
     "output_type": "stream",
     "text": [
      "Part (a)\n",
      "[[ 5.40431955e+16 -3.60287970e+16  6.00479950e+15]\n",
      " [ 2.00000000e+00 -1.00000000e+00  9.25185854e-18]\n",
      " [-1.08086391e+16  7.20575940e+15 -1.20095990e+15]]\n",
      "\n",
      "Part (b)\n",
      "[[-5.00000000e+00 -2.00000000e+00  5.00000000e+00]\n",
      " [ 4.00000000e+00  1.00000000e+00 -3.33333333e+00]\n",
      " [-1.00000000e+00  2.22044605e-16  6.66666667e-01]]\n",
      "\n",
      "Part (c)\n",
      "8.326672684688668e-16\n",
      "\n",
      "Part (d)\n",
      "3.000000000000002\n",
      "\n",
      "Part (e)\n",
      "[[-6.0047995e+16]\n",
      " [-2.0000000e+00]\n",
      " [ 1.2009599e+16]]\n",
      "\n",
      "Part (f)\n",
      "[[12.        ]\n",
      " [-8.66666667]\n",
      " [ 2.33333333]]\n",
      "\n"
     ]
    }
   ],
   "source": [
    "import numpy as np\n",
    "\n",
    "A = np.array([ [1, 3, 5], [2, 5, 10], [3, 3, 15] ])\n",
    "B = np.array([ [2, 4, 5], [2, 5, 10], [3, 6, 9] ])\n",
    "b = np.array([ [1], [4], [5] ])\n",
    "\n",
    "print(\"Part (a)\")\n",
    "print(np.linalg.inv(A))\n",
    "print()\n",
    "\n",
    "print(\"Part (b)\")\n",
    "print(np.linalg.inv(B))\n",
    "print()\n",
    "\n",
    "print(\"Part (c)\")\n",
    "print(np.linalg.det(A))\n",
    "print()\n",
    "\n",
    "print(\"Part (d)\")\n",
    "print(np.linalg.det(B))\n",
    "print()\n",
    "\n",
    "print(\"Part (e)\")\n",
    "print(np.linalg.solve(A, b))\n",
    "print()\n",
    "\n",
    "print(\"Part (f)\")\n",
    "print(np.linalg.solve(B, b))\n",
    "print()"
   ]
  },
  {
   "cell_type": "markdown",
   "metadata": {},
   "source": [
    "```{warning}\n",
    "**Beware!**\n",
    "Matrix $A$ is singular, but NumPy still gave a numerical value.\n",
    "If you look closely, you can see the values are all really big, i.e., $\\infty$, or really small, i.e., $0$.\n",
    "Your spidey senses should be tingling, and this is a good example of **floating-point errors**.\n",
    "```"
   ]
  }
 ],
 "metadata": {
  "kernelspec": {
   "display_name": "Python 3 (ipykernel)",
   "language": "python",
   "name": "python3"
  },
  "language_info": {
   "codemirror_mode": {
    "name": "ipython",
    "version": 3
   },
   "file_extension": ".py",
   "mimetype": "text/x-python",
   "name": "python",
   "nbconvert_exporter": "python",
   "pygments_lexer": "ipython3",
   "version": "3.12.9"
  },
  "widgets": {
   "application/vnd.jupyter.widget-state+json": {
    "state": {},
    "version_major": 2,
    "version_minor": 0
   }
  }
 },
 "nbformat": 4,
 "nbformat_minor": 4
}
