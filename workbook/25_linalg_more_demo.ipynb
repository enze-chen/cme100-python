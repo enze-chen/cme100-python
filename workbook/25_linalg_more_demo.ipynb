{
 "cells": [
  {
   "cell_type": "markdown",
   "metadata": {
    "editable": true,
    "slideshow": {
     "slide_type": ""
    },
    "tags": []
   },
   "source": [
    "# Additional matrix operations\n",
    "\n",
    "There are many other linear algebra operations that are convenient to do in Python, and we will demonstrate them below."
   ]
  },
  {
   "cell_type": "markdown",
   "metadata": {},
   "source": [
    "## Summary of commands\n",
    "\n",
    "In this exercise, we will use:\n",
    "- [`np.linalg.inv(A)`](https://numpy.org/doc/stable/reference/generated/numpy.linalg.inv.html) - Compute the inverse of matrix $A$.\n",
    "- [`np.linalg.det(A)`](https://numpy.org/doc/stable/reference/generated/numpy.linalg.det.html) - Compute the determinant of matrix $A$.\n",
    "- [`np.linalg.solve(A, b)`](https://numpy.org/doc/stable/reference/generated/numpy.linalg.solve.html) - Compute the solution $\\vec{x}$ in the equation $A\\vec{x} = \\vec{b}$.\n",
    "\n",
    "As before, these are all part of the [linear algebra subroutine](https://numpy.org/doc/stable/reference/routines.linalg.html) in NumPy."
   ]
  },
  {
   "cell_type": "markdown",
   "metadata": {},
   "source": [
    "## Demo\n",
    "\n",
    "Consider the following matrices and vectors:\n",
    "\n",
    "$$ A = \\begin{bmatrix} 1 & 3 & 5 \\\\ 2 & 5 & 10 \\\\ 3 & 3 & 15 \\end{bmatrix}, \\qquad B = \\begin{bmatrix} 2 & 4 & 5 \\\\ 2 & 5 & 10 \\\\ 3 & 6 & 9 \\end{bmatrix}, \\qquad \\vec{b} = \\begin{bmatrix} 1 \\\\ 4 \\\\ 5 \\end{bmatrix} $$\n",
    "\n",
    "and compute the following:\n",
    "\n",
    "(a) $A^{-1}$         \n",
    "(b) $B^{-1}$            \n",
    "(c) $\\mathrm{det}(A)$           \n",
    "(d) $\\mathrm{det}(B)$        \n",
    "(e) Solve the system $A \\vec{x} = \\vec{b}$ for $\\vec{x}$.       \n",
    "(f) Solve the system $B \\vec{x} = \\vec{b}$ for $\\vec{x}$."
   ]
  },
  {
   "cell_type": "code",
   "execution_count": 1,
   "metadata": {
    "editable": true,
    "slideshow": {
     "slide_type": ""
    },
    "tags": []
   },
   "outputs": [
    {
     "name": "stdout",
     "output_type": "stream",
     "text": [
      "Part (a)\n"
     ]
    },
    {
     "ename": "LinAlgError",
     "evalue": "Singular matrix",
     "output_type": "error",
     "traceback": [
      "\u001b[31m---------------------------------------------------------------------------\u001b[39m",
      "\u001b[31mLinAlgError\u001b[39m                               Traceback (most recent call last)",
      "\u001b[36mCell\u001b[39m\u001b[36m \u001b[39m\u001b[32mIn[1]\u001b[39m\u001b[32m, line 8\u001b[39m\n\u001b[32m      5\u001b[39m b = np.array([ [\u001b[32m1\u001b[39m], [\u001b[32m4\u001b[39m], [\u001b[32m5\u001b[39m] ])\n\u001b[32m      7\u001b[39m \u001b[38;5;28mprint\u001b[39m(\u001b[33m\"\u001b[39m\u001b[33mPart (a)\u001b[39m\u001b[33m\"\u001b[39m)\n\u001b[32m----> \u001b[39m\u001b[32m8\u001b[39m \u001b[38;5;28mprint\u001b[39m(np.linalg.inv(A))\n\u001b[32m      9\u001b[39m \u001b[38;5;28mprint\u001b[39m()\n",
      "\u001b[36mFile \u001b[39m\u001b[32m~\\anaconda3\\envs\\jbook1\\Lib\\site-packages\\numpy\\linalg\\_linalg.py:609\u001b[39m, in \u001b[36minv\u001b[39m\u001b[34m(a)\u001b[39m\n\u001b[32m    606\u001b[39m signature = \u001b[33m'\u001b[39m\u001b[33mD->D\u001b[39m\u001b[33m'\u001b[39m \u001b[38;5;28;01mif\u001b[39;00m isComplexType(t) \u001b[38;5;28;01melse\u001b[39;00m \u001b[33m'\u001b[39m\u001b[33md->d\u001b[39m\u001b[33m'\u001b[39m\n\u001b[32m    607\u001b[39m \u001b[38;5;28;01mwith\u001b[39;00m errstate(call=_raise_linalgerror_singular, invalid=\u001b[33m'\u001b[39m\u001b[33mcall\u001b[39m\u001b[33m'\u001b[39m,\n\u001b[32m    608\u001b[39m               over=\u001b[33m'\u001b[39m\u001b[33mignore\u001b[39m\u001b[33m'\u001b[39m, divide=\u001b[33m'\u001b[39m\u001b[33mignore\u001b[39m\u001b[33m'\u001b[39m, under=\u001b[33m'\u001b[39m\u001b[33mignore\u001b[39m\u001b[33m'\u001b[39m):\n\u001b[32m--> \u001b[39m\u001b[32m609\u001b[39m     ainv = _umath_linalg.inv(a, signature=signature)\n\u001b[32m    610\u001b[39m \u001b[38;5;28;01mreturn\u001b[39;00m wrap(ainv.astype(result_t, copy=\u001b[38;5;28;01mFalse\u001b[39;00m))\n",
      "\u001b[36mFile \u001b[39m\u001b[32m~\\anaconda3\\envs\\jbook1\\Lib\\site-packages\\numpy\\linalg\\_linalg.py:104\u001b[39m, in \u001b[36m_raise_linalgerror_singular\u001b[39m\u001b[34m(err, flag)\u001b[39m\n\u001b[32m    103\u001b[39m \u001b[38;5;28;01mdef\u001b[39;00m\u001b[38;5;250m \u001b[39m\u001b[34m_raise_linalgerror_singular\u001b[39m(err, flag):\n\u001b[32m--> \u001b[39m\u001b[32m104\u001b[39m     \u001b[38;5;28;01mraise\u001b[39;00m LinAlgError(\u001b[33m\"\u001b[39m\u001b[33mSingular matrix\u001b[39m\u001b[33m\"\u001b[39m)\n",
      "\u001b[31mLinAlgError\u001b[39m: Singular matrix"
     ]
    }
   ],
   "source": [
    "import numpy as np\n",
    "\n",
    "A = np.array([ [1, 3, 5], [2, 5, 10], [3, 3, 15] ])\n",
    "B = np.array([ [2, 4, 5], [2, 5, 10], [3, 6, 9] ])\n",
    "b = np.array([ [1], [4], [5] ])\n",
    "\n",
    "print(\"Part (a)\")\n",
    "print(np.linalg.inv(A))\n",
    "print()"
   ]
  },
  {
   "cell_type": "markdown",
   "metadata": {},
   "source": [
    "```{admonition} Beware!!\n",
    ":class: warning\n",
    "Matrix $A$ is singular, and if you're lucky, NumPy will spit out a `LinAlgError`.\n",
    "Sometimes, however, it will still give a numerical result, where the array has values that are really big, i.e., $\\infty$, or really small, i.e., all $0$.\n",
    "Whenever it comes to numerical linear algebra, you should always be wary of **floating-point errors**.\n",
    "```"
   ]
  },
  {
   "cell_type": "code",
   "execution_count": 2,
   "metadata": {},
   "outputs": [
    {
     "name": "stdout",
     "output_type": "stream",
     "text": [
      "Part (b)\n",
      "[[-5.         -2.          5.        ]\n",
      " [ 4.          1.         -3.33333333]\n",
      " [-1.         -0.          0.66666667]]\n",
      "\n",
      "Part (c)\n",
      "0.0\n",
      "\n",
      "Part (d)\n",
      "3.0000000000000004\n",
      "\n",
      "Part (e)\n"
     ]
    },
    {
     "ename": "LinAlgError",
     "evalue": "Singular matrix",
     "output_type": "error",
     "traceback": [
      "\u001b[31m---------------------------------------------------------------------------\u001b[39m",
      "\u001b[31mLinAlgError\u001b[39m                               Traceback (most recent call last)",
      "\u001b[36mCell\u001b[39m\u001b[36m \u001b[39m\u001b[32mIn[2]\u001b[39m\u001b[32m, line 14\u001b[39m\n\u001b[32m     11\u001b[39m \u001b[38;5;28mprint\u001b[39m()\n\u001b[32m     13\u001b[39m \u001b[38;5;28mprint\u001b[39m(\u001b[33m\"\u001b[39m\u001b[33mPart (e)\u001b[39m\u001b[33m\"\u001b[39m)\n\u001b[32m---> \u001b[39m\u001b[32m14\u001b[39m \u001b[38;5;28mprint\u001b[39m(np.linalg.solve(A, b))\n\u001b[32m     15\u001b[39m \u001b[38;5;28mprint\u001b[39m()\n",
      "\u001b[36mFile \u001b[39m\u001b[32m~\\anaconda3\\envs\\jbook1\\Lib\\site-packages\\numpy\\linalg\\_linalg.py:410\u001b[39m, in \u001b[36msolve\u001b[39m\u001b[34m(a, b)\u001b[39m\n\u001b[32m    407\u001b[39m signature = \u001b[33m'\u001b[39m\u001b[33mDD->D\u001b[39m\u001b[33m'\u001b[39m \u001b[38;5;28;01mif\u001b[39;00m isComplexType(t) \u001b[38;5;28;01melse\u001b[39;00m \u001b[33m'\u001b[39m\u001b[33mdd->d\u001b[39m\u001b[33m'\u001b[39m\n\u001b[32m    408\u001b[39m \u001b[38;5;28;01mwith\u001b[39;00m errstate(call=_raise_linalgerror_singular, invalid=\u001b[33m'\u001b[39m\u001b[33mcall\u001b[39m\u001b[33m'\u001b[39m,\n\u001b[32m    409\u001b[39m               over=\u001b[33m'\u001b[39m\u001b[33mignore\u001b[39m\u001b[33m'\u001b[39m, divide=\u001b[33m'\u001b[39m\u001b[33mignore\u001b[39m\u001b[33m'\u001b[39m, under=\u001b[33m'\u001b[39m\u001b[33mignore\u001b[39m\u001b[33m'\u001b[39m):\n\u001b[32m--> \u001b[39m\u001b[32m410\u001b[39m     r = gufunc(a, b, signature=signature)\n\u001b[32m    412\u001b[39m \u001b[38;5;28;01mreturn\u001b[39;00m wrap(r.astype(result_t, copy=\u001b[38;5;28;01mFalse\u001b[39;00m))\n",
      "\u001b[36mFile \u001b[39m\u001b[32m~\\anaconda3\\envs\\jbook1\\Lib\\site-packages\\numpy\\linalg\\_linalg.py:104\u001b[39m, in \u001b[36m_raise_linalgerror_singular\u001b[39m\u001b[34m(err, flag)\u001b[39m\n\u001b[32m    103\u001b[39m \u001b[38;5;28;01mdef\u001b[39;00m\u001b[38;5;250m \u001b[39m\u001b[34m_raise_linalgerror_singular\u001b[39m(err, flag):\n\u001b[32m--> \u001b[39m\u001b[32m104\u001b[39m     \u001b[38;5;28;01mraise\u001b[39;00m LinAlgError(\u001b[33m\"\u001b[39m\u001b[33mSingular matrix\u001b[39m\u001b[33m\"\u001b[39m)\n",
      "\u001b[31mLinAlgError\u001b[39m: Singular matrix"
     ]
    }
   ],
   "source": [
    "print(\"Part (b)\")\n",
    "print(np.linalg.inv(B))\n",
    "print()\n",
    "\n",
    "print(\"Part (c)\")\n",
    "print(np.linalg.det(A))\n",
    "print()\n",
    "\n",
    "print(\"Part (d)\")\n",
    "print(np.linalg.det(B))\n",
    "print()\n",
    "\n",
    "print(\"Part (e)\")\n",
    "print(np.linalg.solve(A, b))\n",
    "print()"
   ]
  },
  {
   "cell_type": "code",
   "execution_count": 3,
   "metadata": {},
   "outputs": [
    {
     "name": "stdout",
     "output_type": "stream",
     "text": [
      "Part (f)\n",
      "[[12.        ]\n",
      " [-8.66666667]\n",
      " [ 2.33333333]]\n",
      "\n"
     ]
    }
   ],
   "source": [
    "print(\"Part (f)\")\n",
    "print(np.linalg.solve(B, b))\n",
    "print()"
   ]
  }
 ],
 "metadata": {
  "kernelspec": {
   "display_name": "Python 3 (ipykernel)",
   "language": "python",
   "name": "python3"
  },
  "language_info": {
   "codemirror_mode": {
    "name": "ipython",
    "version": 3
   },
   "file_extension": ".py",
   "mimetype": "text/x-python",
   "name": "python",
   "nbconvert_exporter": "python",
   "pygments_lexer": "ipython3",
   "version": "3.12.9"
  },
  "widgets": {
   "application/vnd.jupyter.widget-state+json": {
    "state": {},
    "version_major": 2,
    "version_minor": 0
   }
  }
 },
 "nbformat": 4,
 "nbformat_minor": 4
}
