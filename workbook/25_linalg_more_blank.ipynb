{
 "cells": [
  {
   "attachments": {},
   "cell_type": "markdown",
   "metadata": {
    "editable": true,
    "slideshow": {
     "slide_type": ""
    },
    "tags": []
   },
   "source": [
    "# Additional matrix operations - Your turn\n",
    "\n",
    "Consider the following matrices and vectors:\n",
    "\n",
    "$$ A = \\begin{bmatrix} 3 & 2 & 3 \\\\ 3 & 1 & 5 \\\\ -4 & 6 & 1 \\end{bmatrix}, \\qquad B = \\begin{bmatrix} 4 & 1 & -5 \\\\ 4 & 1 & 0 \\\\ -2 & 3 & 8 \\end{bmatrix}, \\qquad \\vec{b} = \\begin{bmatrix} 2 \\\\ 4 \\\\ 9 \\end{bmatrix} $$\n",
    "\n",
    "Compute the following.  \n",
    "(a) $A^{-1}$   \n",
    "(b) $B^{-1}$    \n",
    "(c) $\\mathrm{det}(A)$   \n",
    "(d) $\\mathrm{det}(B)$    \n",
    "(e) Solve the system $A \\vec{x} = \\vec{b}$ for $\\vec{x}$.       \n",
    "(f) Solve the system $B \\vec{x} = \\vec{b}$ for $\\vec{x}$."
   ]
  },
  {
   "cell_type": "code",
   "execution_count": null,
   "metadata": {
    "editable": true,
    "slideshow": {
     "slide_type": ""
    },
    "tags": []
   },
   "outputs": [],
   "source": [
    "# TODO: Write your solution below\n"
   ]
  },
  {
   "cell_type": "markdown",
   "metadata": {},
   "source": [
    "## Exporting your work\n",
    "\n",
    "When you're ready, the easiest way to export the notebook is to `File > Print` it and save it as a PDF. \n",
    "Remove any excessively long, unrelated outputs first by clicking the arrow → next to the output box and then `Show/hide output`. \n",
    "Obviously don't obscure any necessary output or graphs!"
   ]
  }
 ],
 "metadata": {
  "kernelspec": {
   "display_name": "Python 3 (ipykernel)",
   "language": "python",
   "name": "python3"
  },
  "language_info": {
   "codemirror_mode": {
    "name": "ipython",
    "version": 3
   },
   "file_extension": ".py",
   "mimetype": "text/x-python",
   "name": "python",
   "nbconvert_exporter": "python",
   "pygments_lexer": "ipython3",
   "version": "3.12.9"
  },
  "widgets": {
   "application/vnd.jupyter.widget-state+json": {
    "state": {},
    "version_major": 2,
    "version_minor": 0
   }
  }
 },
 "nbformat": 4,
 "nbformat_minor": 4
}
