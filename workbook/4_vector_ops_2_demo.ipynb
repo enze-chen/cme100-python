{
 "cells": [
  {
   "cell_type": "markdown",
   "metadata": {
    "editable": true,
    "slideshow": {
     "slide_type": ""
    },
    "tags": []
   },
   "source": [
    "# Vector operations II\n",
    "\n",
    "Now that you have your vectors encoded in NumPy arrays, we can apply operations to them!\n",
    "As you'll see below, NumPy arrays offer much more flexibility than built-in lists in Python."
   ]
  },
  {
   "cell_type": "markdown",
   "metadata": {
    "editable": true,
    "slideshow": {
     "slide_type": ""
    },
    "tags": []
   },
   "source": [
    "## Element-wise operations\n",
    "\n",
    "We'll define two vectors, $x = \\begin{bmatrix} 1 & -2 & 5 & 3 \\end{bmatrix}$ and $y = \\begin{bmatrix} 4 & 1 & 0 & -1 \\end{bmatrix}$.\n",
    "We'll multiply $x$ and $y$ element by element, and then compute the squares of the elements of $x$.\n",
    "In Python/NumPy, this is done in the ways you'd expect."
   ]
  },
  {
   "cell_type": "code",
   "execution_count": 4,
   "metadata": {
    "editable": true,
    "slideshow": {
     "slide_type": ""
    },
    "tags": []
   },
   "outputs": [
    {
     "name": "stdout",
     "output_type": "stream",
     "text": [
      "Multiplication:\n",
      "[ 4 -2  0 -3]\n",
      "Squaring x:\n",
      "[ 1  4 25  9]\n"
     ]
    }
   ],
   "source": [
    "import numpy as np    # we do this every time\n",
    "x = np.array([1, -2, 5, 3])\n",
    "y = np.array([4, 1, 0, -1])\n",
    "\n",
    "print(\"Multiplication:\")\n",
    "z = x * y\n",
    "print(z)\n",
    "\n",
    "print(\"Squaring x:\")\n",
    "print(x ** 2)"
   ]
  },
  {
   "cell_type": "markdown",
   "metadata": {
    "editable": true,
    "slideshow": {
     "slide_type": ""
    },
    "tags": []
   },
   "source": [
    "```{note}\n",
    "In MATLAB, you may be used to `.*` and `./` to perform element-wise multiplication and division.\n",
    "In NumPy, this is the default behavior.\n",
    "```\n",
    "\n",
    "```{important}\n",
    "This is not what happens with lists in Python! \n",
    "Using the same operators could generate errors or incorrect behavior.\n",
    "```"
   ]
  },
  {
   "cell_type": "code",
   "execution_count": 5,
   "metadata": {
    "editable": true,
    "slideshow": {
     "slide_type": ""
    },
    "tags": []
   },
   "outputs": [
    {
     "name": "stdout",
     "output_type": "stream",
     "text": [
      "<class 'list'> [1, -2, 5, 3]\n",
      "[1, -2, 5, 3, 4, 1, 0, -1]\n"
     ]
    },
    {
     "ename": "TypeError",
     "evalue": "can't multiply sequence by non-int of type 'list'",
     "output_type": "error",
     "traceback": [
      "\u001b[31m---------------------------------------------------------------------------\u001b[39m",
      "\u001b[31mTypeError\u001b[39m                                 Traceback (most recent call last)",
      "\u001b[36mCell\u001b[39m\u001b[36m \u001b[39m\u001b[32mIn[5]\u001b[39m\u001b[32m, line 11\u001b[39m\n\u001b[32m      8\u001b[39m \u001b[38;5;28mprint\u001b[39m(zl)\n\u001b[32m     10\u001b[39m \u001b[38;5;66;03m# try multiplying them\u001b[39;00m\n\u001b[32m---> \u001b[39m\u001b[32m11\u001b[39m \u001b[38;5;28mprint\u001b[39m(xl * yl)\n",
      "\u001b[31mTypeError\u001b[39m: can't multiply sequence by non-int of type 'list'"
     ]
    }
   ],
   "source": [
    "# create two lists\n",
    "xl = [1, -2, 5, 3]\n",
    "yl = [4, 1, 0, -1]\n",
    "print(type(xl), xl)\n",
    "\n",
    "# try adding them\n",
    "zl = xl + yl\n",
    "print(zl)\n",
    "\n",
    "# try multiplying them\n",
    "print(xl * yl)"
   ]
  },
  {
   "cell_type": "markdown",
   "metadata": {},
   "source": [
    "Yikes."
   ]
  }
 ],
 "metadata": {
  "kernelspec": {
   "display_name": "Python 3 (ipykernel)",
   "language": "python",
   "name": "python3"
  },
  "language_info": {
   "codemirror_mode": {
    "name": "ipython",
    "version": 3
   },
   "file_extension": ".py",
   "mimetype": "text/x-python",
   "name": "python",
   "nbconvert_exporter": "python",
   "pygments_lexer": "ipython3",
   "version": "3.12.9"
  },
  "widgets": {
   "application/vnd.jupyter.widget-state+json": {
    "state": {},
    "version_major": 2,
    "version_minor": 0
   }
  }
 },
 "nbformat": 4,
 "nbformat_minor": 4
}
