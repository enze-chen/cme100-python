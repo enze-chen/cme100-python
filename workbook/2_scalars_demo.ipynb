{
 "cells": [
  {
   "cell_type": "markdown",
   "metadata": {},
   "source": [
    "# Defining scalar variables\n",
    "\n",
    "In addition to being used as a calculator, Python can store inputs or outputs into **variables**.\n",
    "If a semicolon `;` is placed at the end of a statement, the value of that expression is calculated but not displayed on the screen."
   ]
  },
  {
   "cell_type": "code",
   "execution_count": 7,
   "metadata": {},
   "outputs": [
    {
     "name": "stdout",
     "output_type": "stream",
     "text": [
      "2\n"
     ]
    }
   ],
   "source": [
    "# Define a\n",
    "a = 2\n",
    "print(a)\n",
    "a;"
   ]
  },
  {
   "cell_type": "code",
   "execution_count": 2,
   "metadata": {
    "editable": true,
    "slideshow": {
     "slide_type": ""
    },
    "tags": []
   },
   "outputs": [
    {
     "data": {
      "text/plain": [
       "5"
      ]
     },
     "execution_count": 2,
     "metadata": {},
     "output_type": "execute_result"
    }
   ],
   "source": [
    "# Define b\n",
    "b = 5\n",
    "b"
   ]
  },
  {
   "cell_type": "code",
   "execution_count": 3,
   "metadata": {},
   "outputs": [
    {
     "name": "stdout",
     "output_type": "stream",
     "text": [
      "27\n"
     ]
    }
   ],
   "source": [
    "# Compute c\n",
    "c = a + b ** 2   # exponentiation is two asterisks (not carat!)\n",
    "print(c)"
   ]
  },
  {
   "cell_type": "code",
   "execution_count": 4,
   "metadata": {
    "editable": true,
    "slideshow": {
     "slide_type": ""
    },
    "tags": []
   },
   "outputs": [
    {
     "name": "stdout",
     "output_type": "stream",
     "text": [
      "12\n"
     ]
    }
   ],
   "source": [
    "# Compute a different value for c\n",
    "c = a + 2 * b\n",
    "print(c)"
   ]
  },
  {
   "cell_type": "markdown",
   "metadata": {
    "editable": true,
    "slideshow": {
     "slide_type": ""
    },
    "tags": []
   },
   "source": [
    "## \"Restart and run all\" or it didn't happen\n",
    "\n",
    "With Jupyter notebooks, you have the power to run cells in any order you want.\n",
    "And with great power comes great responsibility.\n",
    "It's easy to get variables mixed up and then your notebook starts giving you errors;\n",
    "or worse someone might intentionally use this to conceal duplicitly (e.g., their notebook appears functional based on cell outputs, but actually isn't when executed from top to bottom). \n",
    "\n",
    "So if you ever need to reset anything, the easiest way is to go to `Runtime > Restart session and run all` on Colab or `Run > Restart Kernel and Run All Cells...` on Jupyter Lab.\n",
    "This clears all variables and outputs from the workspace and runs your notebook from top to bottom.\n",
    "\n",
    "```{note}\n",
    "If you're coming from MATLAB, you may be familiar with putting `clear; close all; clc;` at the top of your script. \n",
    "This is essentially equivalent.\n",
    "```\n",
    "\n",
    "Without rerunning all the cells, you can always just restart the kernel (equivalent to `clear` in MATLAB).\n",
    "Try that now by clicking `Runtime > Restart session` or `Kernel > Restart Kernel...` and then try running the next cell, which shows the variable you computed before clearing the runtime."
   ]
  },
  {
   "cell_type": "code",
   "execution_count": 1,
   "metadata": {
    "editable": true,
    "slideshow": {
     "slide_type": ""
    },
    "tags": [
     "remove-output"
    ]
   },
   "outputs": [
    {
     "ename": "NameError",
     "evalue": "name 'c' is not defined",
     "output_type": "error",
     "traceback": [
      "\u001b[31m-----------------------------------------------\u001b[39m",
      "\u001b[31mNameError\u001b[39m     Traceback (most recent call last)",
      "\u001b[36mCell\u001b[39m\u001b[36m \u001b[39m\u001b[32mIn[1]\u001b[39m\u001b[32m, line 1\u001b[39m\n\u001b[32m----> \u001b[39m\u001b[32m1\u001b[39m c\n",
      "\u001b[31mNameError\u001b[39m: name 'c' is not defined"
     ]
    }
   ],
   "source": [
    "c"
   ]
  }
 ],
 "metadata": {
  "kernelspec": {
   "display_name": "Python 3 (ipykernel)",
   "language": "python",
   "name": "python3"
  },
  "language_info": {
   "codemirror_mode": {
    "name": "ipython",
    "version": 3
   },
   "file_extension": ".py",
   "mimetype": "text/x-python",
   "name": "python",
   "nbconvert_exporter": "python",
   "pygments_lexer": "ipython3",
   "version": "3.12.9"
  },
  "widgets": {
   "application/vnd.jupyter.widget-state+json": {
    "state": {},
    "version_major": 2,
    "version_minor": 0
   }
  }
 },
 "nbformat": 4,
 "nbformat_minor": 4
}
