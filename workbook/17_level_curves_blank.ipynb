{
 "cells": [
  {
   "cell_type": "markdown",
   "metadata": {
    "editable": true,
    "slideshow": {
     "slide_type": ""
    },
    "tags": []
   },
   "source": [
    "# Level curves - Your turn\n",
    "\n",
    "The temperature in the interior of a rectangular plate is given by the following function of $x$ and $y$:\n",
    "\n",
    "$$ T(x,y) = \\dfrac{\\sin(\\pi x) \\sinh(\\pi y) + \\sin(\\pi(x - 2)) \\sinh(\\pi (y - 2))}{\\sinh(2 \\pi)} \\quad \\text{for}\\ 0 \\le x,y \\le 2 $$\n",
    "\n",
    "Plot the temperature as a function of $x$ and $y$ in both 3D (surface + contour) and 2D (contour only), as we did in the demo.\n",
    "Use an increment of $0.05$ and display $30$ level curves.\n",
    "In both figures, add a colorbar and labels."
   ]
  },
  {
   "cell_type": "code",
   "execution_count": null,
   "metadata": {
    "editable": true,
    "slideshow": {
     "slide_type": ""
    },
    "tags": []
   },
   "outputs": [],
   "source": [
    "# TODO: Write your solution below\n"
   ]
  },
  {
   "cell_type": "markdown",
   "metadata": {},
   "source": [
    "## Exporting your work\n",
    "\n",
    "When you're ready, the easiest way to export the notebook is to `File > Print` it and save it as a PDF. \n",
    "Remove any excessively long, unrelated outputs first by clicking the arrow → next to the output box and then `Show/hide output`. \n",
    "Obviously don't obscure any necessary output or graphs!"
   ]
  }
 ],
 "metadata": {
  "kernelspec": {
   "display_name": "Python 3 (ipykernel)",
   "language": "python",
   "name": "python3"
  },
  "language_info": {
   "codemirror_mode": {
    "name": "ipython",
    "version": 3
   },
   "file_extension": ".py",
   "mimetype": "text/x-python",
   "name": "python",
   "nbconvert_exporter": "python",
   "pygments_lexer": "ipython3",
   "version": "3.12.9"
  },
  "widgets": {
   "application/vnd.jupyter.widget-state+json": {
    "state": {},
    "version_major": 2,
    "version_minor": 0
   }
  }
 },
 "nbformat": 4,
 "nbformat_minor": 4
}
