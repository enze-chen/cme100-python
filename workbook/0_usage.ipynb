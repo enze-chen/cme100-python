{
 "cells": [
  {
   "cell_type": "markdown",
   "metadata": {},
   "source": [
    "# Usage tips\n",
    "\n",
    "This document/website that you're reading right now is created using [Jupyter Book](https://jupyterbook.org/en/stable/intro.html). \n",
    "Here, we will take a moment to explain the UI to help you get the most out of the experience."
   ]
  },
  {
   "cell_type": "markdown",
   "metadata": {},
   "source": [
    "## Navigating the book\n",
    "\n",
    "For the most part, you can use the navigation panel on the left to jump quickly to the exercise you're interested in. \n",
    "Each top-level header contains some explanations and a code demo, and nested underneath (click the down chevron (`⌄`)), is a \"Your turn\" notebook for you to complete and submit.\n",
    "\n",
    "<!-- ````{margin}\n",
    "```{tip}\n",
    "Even though there's no Jupyter Book for your homework, you can always create a new Colab notebook (from Google Drive) and write Python code there to solve your problems!\n",
    "```\n",
    "```` -->\n",
    "\n",
    "Note that ordinarily, to run Python on your computer requires installing a Python interpreter, a bunch of extra packages, and a text editor or an integrated development environment (IDE) to work in.\n",
    "This can be complicated, so instead we're going to run everything in the cloud using [Google Colaboratory (Colab)](https://colab.google/)!"
   ]
  },
  {
   "cell_type": "markdown",
   "metadata": {},
   "source": [
    "````{sidebar} The wonders of Python\n",
    "```{figure} ../assets/fig/python_xkcd.png\n",
    ":alt: python_xkcd\n",
    ":width: 100%\n",
    ":align: center\n",
    "[xkcd 353](https://xkcd.com/353/).\n",
    "```\n",
    "````"
   ]
  },
  {
   "cell_type": "markdown",
   "metadata": {},
   "source": [
    "## Interactivity\n",
    "\n",
    "Several of the pages of this book are actually **Jupyter notebooks**, which provide interactive programming environments that interleave text, code, and graphics to provide hands-on learning experiences for students. \n",
    "On these pages, you will be able to **run Python code in real time**, both for the tutorials to learn the commands and for your actual homework exercises.\n",
    "\n",
    "```{note}\n",
    "If you've ever used [MATLAB Live Scripts](https://www.mathworks.com/products/matlab/live-editor.html), this is basically the Python equivalent (not sure which came first).\n",
    "```"
   ]
  },
  {
   "cell_type": "markdown",
   "metadata": {},
   "source": [
    "### Why Python? 🐍\n",
    "\n",
    "There are many programming languages one can choose from, and we eventually settled on Python as it has [skyrocketed in popularity](https://stackoverflow.blog/2017/09/06/incredible-growth-python/) in recent years.\n",
    "This growth is in part due to:\n",
    "\n",
    "1. Its _readability_. Python is designed to be simple and reads like English.\n",
    "1. Its _extensibility_. Python makes it easy for developers to write _modules_ that extend its functionalities for applications in [data science](https://wesmckinney.com/book/), [scientific computing](https://www.nature.com/articles/s41586-020-2649-2), and [flying drones on Mars](https://twitter.com/ThePSF/status/1362516507918483458?s=20).\n",
    "1. Its _open-source_ properties. This means anyone can contribute to Python development and anyone can use it—for free!"
   ]
  },
  {
   "cell_type": "markdown",
   "metadata": {},
   "source": [
    "### Launching Colab \n",
    "\n",
    "To launch any notebook in Google Colab, hover over the {fa}`rocket` icon in the top-right corner, then <kbd>Ctrl</kbd>+click the button {guilabel}`∞ Colab` (open in new tab), and wait for the environment to load. \n",
    "Note that _not all pages are interactive_, and thus not all pages will have the rocket symbol.\n",
    "\n",
    "```{tip}\n",
    "All of the top-level pages for each chapter, like {doc}`1_saving-work_demo`, are interactive, so if you want to run and modify the example code yourself, you can!\n",
    "```\n",
    "\n",
    "```{attention}\n",
    "**Try it now** by clicking on the {fa}`rocket` for this page and read the rest of the page in Colab!\n",
    "```"
   ]
  },
  {
   "cell_type": "markdown",
   "metadata": {},
   "source": [
    "### Running a Jupyter notebook \n",
    "\n",
    "The information in Jupyter notebooks is organized into **cells**, which come in many forms."
   ]
  },
  {
   "cell_type": "markdown",
   "metadata": {},
   "source": [
    "#### Markdown cells\n",
    "This cell is called a **Markdown cell**, which is used for text/media that can be formatted with the [Markdown](https://www.markdownguide.org/) markup language.\n",
    "You know this is a Markdown cell because there is a white background and no ▶️ on the left side when you've selected the cell.\n",
    "If you double-click a Markdown cell, you can edit it; press <kbd>Shift</kbd>+<kbd>Enter</kbd> to save your edits and exit the cell."
   ]
  },
  {
   "cell_type": "markdown",
   "metadata": {},
   "source": [
    "#### Code cells\n",
    "\n",
    "Notice how the next cell looks a little different. \n",
    "It is a **code cell**, which allows you to write Python code and then **execute the code** with <kbd>Shift</kbd>+<kbd>Enter</kbd>.\n",
    "Or you can click the <kbd>▶ Run</kbd> button on the left side to execute the code.\n",
    "\n",
    "**Quick exercise:** In the space below, enter your name between the quotation marks and then run the code cell by pressing <kbd>Shift</kbd>+<kbd>Enter</kbd>."
   ]
  },
  {
   "cell_type": "code",
   "execution_count": null,
   "metadata": {
    "tags": [
     "remove-output"
    ]
   },
   "outputs": [],
   "source": [
    "# inline comments in Python start with \"#\"\n",
    "name = \"\"          # enter your name here as a string, enclosed by quotes\n",
    "print(f'Hello, {name}!')  "
   ]
  },
  {
   "cell_type": "markdown",
   "metadata": {},
   "source": [
    "You should see some output and a number appear between the square brackets!\n",
    "(e.g., `In [1]:`)\n",
    "This number indicates the sequence of code cell execution, which can be handy for a few reasons:\n",
    "\n",
    "- You can clearly tell which cells have been executed and which cells have not.\n",
    "- You can split code among several code blocks and run them in whatever order you want.\n",
    "- You can easily change an earlier code cell and rerun it.\n",
    "\n",
    "```{important}\n",
    "We hope you caught that! \n",
    "Use `Shift`+`Enter` to execute the cells! \n",
    "Either to run code or save any Markdown text that you've edited.\n",
    "```"
   ]
  },
  {
   "cell_type": "markdown",
   "metadata": {},
   "source": [
    "### Saving your work\n",
    "\n",
    "Unfortunately, if you close Colab (or even disconnect from the runtime environment), your work won't be saved. \n",
    "To save your own copy of this page, you should **make a copy of this notebook** by going to `File > Save a copy in Drive`.\n",
    "You'll find it in the folder `My Drive > Colab Notebooks`, and you're welcome to move it elsewhere.\n",
    "This allows you to save and return to the notebook with your edits preserved."
   ]
  },
  {
   "cell_type": "markdown",
   "metadata": {},
   "source": [
    "### Uploading and downloading data\n",
    "\n",
    "After you've copied the notebook, you can upload any files to your Colab workspace by dragging it into the empty space in the Files tab (📁) on the left side ([YouTube tutorial](https://youtu.be/WrOBVktG1Fs)).\n",
    "It will warn you that the file will disappear if the runtime disconnects. \n",
    "That's OK, you can always upload it again.\n",
    "\n",
    "If your code generates any files (like a saved PNG image), it will also appear in the sidebar where you can download it to your computer."
   ]
  },
  {
   "cell_type": "markdown",
   "metadata": {},
   "source": [
    "### Getting help\n",
    "\n",
    "We would be remiss not to mention that, in addition to your instructors and peers, generative AI is a great tool to help with generating code, learning its structure/syntax, and debugging!\n",
    "You can ask questions about parts that are unclear or directly copy-paste any error messages to help you resolve it.\n",
    "Try it for free on the [Stanford AI Playground](https://aiplayground-prod.stanford.edu/)!"
   ]
  },
  {
   "cell_type": "markdown",
   "metadata": {},
   "source": [
    "## Exporting your work\n",
    "\n",
    "When you're ready, the easiest way to export the notebook is to `File > Print` it and save it as a PDF. \n",
    "Remove any excessively long, unrelated outputs first by clicking the arrow → next to the output box and then `Show/hide output`. \n",
    "Obviously don't obscure any necessary output or graphs!"
   ]
  },
  {
   "cell_type": "markdown",
   "metadata": {},
   "source": [
    "## Conclusion\n",
    "\n",
    "This completes our introduction to the Jupyter Book interface.\n",
    "You're ready to start with [Exercise 1](1_saving-work_demo)!"
   ]
  }
 ],
 "metadata": {
  "kernelspec": {
   "display_name": "Python 3 (ipykernel)",
   "language": "python",
   "name": "python3"
  },
  "language_info": {
   "codemirror_mode": {
    "name": "ipython",
    "version": 3
   },
   "file_extension": ".py",
   "mimetype": "text/x-python",
   "name": "python",
   "nbconvert_exporter": "python",
   "pygments_lexer": "ipython3",
   "version": "3.12.9"
  },
  "widgets": {
   "application/vnd.jupyter.widget-state+json": {
    "state": {},
    "version_major": 2,
    "version_minor": 0
   }
  }
 },
 "nbformat": 4,
 "nbformat_minor": 4
}
