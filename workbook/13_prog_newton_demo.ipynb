{
 "cells": [
  {
   "cell_type": "markdown",
   "metadata": {
    "editable": true,
    "slideshow": {
     "slide_type": ""
    },
    "tags": []
   },
   "source": [
    "# Newton's method example\n",
    "\n",
    "Here is another engineering application using [Newton's method](https://tutorial.math.lamar.edu/Classes/CalcI/NewtonsMethod.aspx) applied to a diode."
   ]
  },
  {
   "cell_type": "markdown",
   "metadata": {},
   "source": [
    "A diode is a semiconductor component whose property is its tendency to conduct electric current in one direction only. \n",
    "When the voltage reaches a threshold value (typically around $700$ mV), the diode conducts current in the forward direction.\n",
    "\n",
    "The current-voltage ($I-V$) characteristic of the diode used in this exmple is given by:\n",
    "\n",
    "$$ I_{\\mathrm{diode}} = I_{\\mathrm{s}} \\left( e^{\\dfrac{q V_{\\mathrm{diode}}}{k_{\\mathrm{B}}T}} - 1 \\right) $$\n",
    "\n",
    "where $I_{\\mathrm{s}} = 0.07\\,\\text{pA} = 7 \\times 10^{-14}\\,\\text{A}$ and $\\dfrac{k_{\\mathrm{B}}T}{q} = 26\\,\\text{mA}$ at $300\\,\\text{K}$.\n",
    "\n",
    "Compute the current in the following circuit:\n",
    "\n",
    "![circuit2](../assets/fig/electric_circuit2.png)"
   ]
  },
  {
   "cell_type": "markdown",
   "metadata": {},
   "source": [
    "We know from Kirchhoff's voltage law: $E_0 = V_{\\mathrm{diode}} + IR$\n",
    "\n",
    "We can substitute the current $I$ by its expression as a function of $V_{\\mathrm{diode}}$ using the given $I-V$ characteristic:\n",
    "\n",
    "$$ E_0 = V_{\\mathrm{diode}} + R I_{\\mathrm{s}} \\left( e^{\\dfrac{q V_{\\mathrm{diode}}}{k_{\\mathrm{B}}T}} - 1 \\right) $$\n",
    "\n",
    "or\n",
    "\n",
    "$$ E_0 - V_{\\mathrm{diode}} - R I_{\\mathrm{s}} \\left( e^{\\dfrac{q V_{\\mathrm{diode}}}{k_{\\mathrm{B}}T}} - 1 \\right) = 0$$\n",
    "\n",
    "This gives us an equation for $V_{\\mathrm{diode}}$ of the form $f(V_{\\mathrm{diode}}) = 0$, which can be solved using Newton's method.\n",
    "The current is then obtained using the diode $I-V$ characteristic as a function of $V_{\\mathrm{diode}}$.\n",
    "\n",
    "The algorithm for Newton's method has only a few steps: Starting from an initial guess $V_0$, a better approximation of $V$ is obtained from the following expression:\n",
    "\n",
    "$$ V_1 = V_0 - \\dfrac{f(V_0)}{f'(V_0)} $$\n",
    "\n",
    "where $f'(V_0)$ is the derivative of $f()$ evaluated at $V_0$.\n",
    "Or, more generally, the iterative algorithm is:\n",
    "\n",
    "$$ V_{n+1} = V_n - \\dfrac{f(V_n)}{f'(V_n)} $$\n",
    "\n",
    "In our case, the derivative of $f$ follows from a straightforward power rule and chain rule:\n",
    "\n",
    "$$ f'(V) = -1 - RI_{\\mathrm{s}} \\dfrac{q}{k_{\\mathrm{B}}T} e^{\\dfrac{q V}{k_{\\mathrm{B}}T}} $$\n",
    "\n",
    "Perform several iterations of Newton's method using the `for` loop.\n",
    "Find the diode voltage and the current in the circuit using $20$ iterations."
   ]
  },
  {
   "cell_type": "code",
   "execution_count": 2,
   "metadata": {
    "editable": true,
    "slideshow": {
     "slide_type": ""
    },
    "tags": []
   },
   "outputs": [
    {
     "name": "stdout",
     "output_type": "stream",
     "text": [
      "The diode voltage is 0.6718 V and the current is 0.0116 A.\n"
     ]
    }
   ],
   "source": [
    "import numpy as np\n",
    "import matplotlib.pyplot as plt\n",
    "\n",
    "# constants\n",
    "E0 = 3\n",
    "Is = 7e-14\n",
    "R = 200\n",
    "C = 0.026    # kT/q\n",
    "\n",
    "Vd = 1   # init guess\n",
    "\n",
    "for i in range(20):\n",
    "    fp = -1 - Is * R / C * np.exp(Vd/C)\n",
    "    f = E0 - Vd - Is * R * (np.exp(Vd / C) - 1)\n",
    "    Vd = Vd - f/fp\n",
    "\n",
    "I = Is * (np.exp(Vd/C) - 1)\n",
    "print(f\"The diode voltage is {Vd:.4f} V and the current is {I:.4f} A.\")"
   ]
  }
 ],
 "metadata": {
  "kernelspec": {
   "display_name": "Python 3 (ipykernel)",
   "language": "python",
   "name": "python3"
  },
  "language_info": {
   "codemirror_mode": {
    "name": "ipython",
    "version": 3
   },
   "file_extension": ".py",
   "mimetype": "text/x-python",
   "name": "python",
   "nbconvert_exporter": "python",
   "pygments_lexer": "ipython3",
   "version": "3.12.9"
  },
  "widgets": {
   "application/vnd.jupyter.widget-state+json": {
    "state": {},
    "version_major": 2,
    "version_minor": 0
   }
  }
 },
 "nbformat": 4,
 "nbformat_minor": 4
}
