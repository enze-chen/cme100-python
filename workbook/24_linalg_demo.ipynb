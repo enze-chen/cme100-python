{
 "cells": [
  {
   "cell_type": "markdown",
   "metadata": {},
   "source": [
    "# Basic matrix operations\n",
    "\n",
    "```{note}\n",
    "This is an interactive exercise, so you will want to click the {fa}`rocket` and open the notebook in Colab if you want to run things yourself.\n",
    "```"
   ]
  },
  {
   "cell_type": "markdown",
   "metadata": {},
   "source": [
    "There are many matrix operations in Python (NumPy) that make finding solutions to systems equations much easier than doing so by hand. \n",
    "In order to use these operations, the matrices and vectors must first be stored in memory. \n",
    "Consider the following matrices and vectors:\n",
    "\n",
    "$$ A = \\begin{bmatrix} 3 & 5 & 2 \\\\ 0 & 1 & 2 \\\\ 3 & 6 & 1 \\end{bmatrix}, \\qquad B = \\begin{bmatrix} 2 & 5 & 4 \\\\ 4 & 6 & 3 \\\\ 4 & 10 & 8 \\end{bmatrix}, \\qquad C = \\begin{bmatrix} 1 & 3 \\\\ 3 & 2 \\\\ 4 & 5 \\end{bmatrix}, \\qquad \\vec{x} = \\begin{bmatrix} 3 \\\\ 2 \\\\ 1 \\end{bmatrix} $$\n",
    "\n",
    "Enter the matrices into Python and perform the following operations:     \n",
    "(a) $AB$   \n",
    "(b) $AC$    \n",
    "(c) $CA$   \n",
    "(d) $B\\vec{x}$   \n",
    "(e) $B\\vec{x}^T$   "
   ]
  },
  {
   "cell_type": "code",
   "execution_count": 1,
   "metadata": {},
   "outputs": [],
   "source": [
    "# import packages\n",
    "import numpy as np\n",
    "import matplotlib.pyplot as plt\n",
    "\n",
    "# define matrices and vectors\n",
    "A = np.array([ [3, 5, 2], [0, 1, 2], [3, 6, 1] ])\n",
    "B = np.array([ [2, 5, 4], [4, 6, 3], [4, 10, 8] ])\n",
    "C = np.array([ [1, 3], [3, 2], [4, 5] ])\n",
    "x = np.array([ [3], [2], [1] ])"
   ]
  },
  {
   "cell_type": "markdown",
   "metadata": {},
   "source": [
    "We can print out these variables to see if we did it correctly."
   ]
  },
  {
   "cell_type": "code",
   "execution_count": 2,
   "metadata": {},
   "outputs": [
    {
     "name": "stdout",
     "output_type": "stream",
     "text": [
      "[[3 5 2]\n",
      " [0 1 2]\n",
      " [3 6 1]]\n",
      "\n",
      "[[3]\n",
      " [2]\n",
      " [1]] (3, 1)\n"
     ]
    }
   ],
   "source": [
    "print(A)\n",
    "print()\n",
    "print(x, x.shape)"
   ]
  },
  {
   "cell_type": "markdown",
   "metadata": {},
   "source": [
    "If it all looks good, we can proceed with the computation.\n",
    "In NumPy, matrix multiplication (successive row-column products) is performed with the `@` operator. \n",
    "If you use the `*` operator, _it might still work, but it will likely be **wrong**_, as this will perform element-wise multiplication"
   ]
  },
  {
   "cell_type": "code",
   "execution_count": 14,
   "metadata": {},
   "outputs": [
    {
     "name": "stdout",
     "output_type": "stream",
     "text": [
      "AB:\n",
      "[[34 65 43]\n",
      " [12 26 19]\n",
      " [34 61 38]]\n",
      "\n",
      "AC:\n",
      "[[26 29]\n",
      " [11 12]\n",
      " [25 26]]\n",
      "\n",
      "CA:\n"
     ]
    },
    {
     "ename": "ValueError",
     "evalue": "matmul: Input operand 1 has a mismatch in its core dimension 0, with gufunc signature (n?,k),(k,m?)->(n?,m?) (size 3 is different from 2)",
     "output_type": "error",
     "traceback": [
      "\u001b[31m---------------------------------------------------------------------------\u001b[39m",
      "\u001b[31mValueError\u001b[39m                                Traceback (most recent call last)",
      "\u001b[36mCell\u001b[39m\u001b[36m \u001b[39m\u001b[32mIn[14]\u001b[39m\u001b[32m, line 11\u001b[39m\n\u001b[32m      9\u001b[39m \u001b[38;5;66;03m# part c: CA\u001b[39;00m\n\u001b[32m     10\u001b[39m \u001b[38;5;28mprint\u001b[39m(\u001b[33m\"\u001b[39m\u001b[38;5;130;01m\\n\u001b[39;00m\u001b[33mCA:\u001b[39m\u001b[33m\"\u001b[39m)\n\u001b[32m---> \u001b[39m\u001b[32m11\u001b[39m \u001b[38;5;28mprint\u001b[39m(C @ A)\n\u001b[32m     13\u001b[39m \u001b[38;5;66;03m# part d: Bx\u001b[39;00m\n\u001b[32m     14\u001b[39m \u001b[38;5;28mprint\u001b[39m(\u001b[33m\"\u001b[39m\u001b[38;5;130;01m\\n\u001b[39;00m\u001b[33mBx:\u001b[39m\u001b[33m\"\u001b[39m)\n",
      "\u001b[31mValueError\u001b[39m: matmul: Input operand 1 has a mismatch in its core dimension 0, with gufunc signature (n?,k),(k,m?)->(n?,m?) (size 3 is different from 2)"
     ]
    }
   ],
   "source": [
    "# part a: AB\n",
    "print(\"AB:\")\n",
    "print(A @ B)\n",
    "\n",
    "# part b: AC\n",
    "print(\"\\nAC:\")\n",
    "print(A @ C)\n",
    "\n",
    "# part c: CA\n",
    "print(\"\\nCA:\")\n",
    "print(C @ A)"
   ]
  },
  {
   "cell_type": "code",
   "execution_count": 16,
   "metadata": {},
   "outputs": [
    {
     "name": "stdout",
     "output_type": "stream",
     "text": [
      "\n",
      "Bx:\n",
      "[[20]\n",
      " [27]\n",
      " [40]]\n",
      "\n",
      "Bx^T:\n"
     ]
    },
    {
     "ename": "ValueError",
     "evalue": "matmul: Input operand 1 has a mismatch in its core dimension 0, with gufunc signature (n?,k),(k,m?)->(n?,m?) (size 1 is different from 3)",
     "output_type": "error",
     "traceback": [
      "\u001b[31m---------------------------------------------------------------------------\u001b[39m",
      "\u001b[31mValueError\u001b[39m                                Traceback (most recent call last)",
      "\u001b[36mCell\u001b[39m\u001b[36m \u001b[39m\u001b[32mIn[16]\u001b[39m\u001b[32m, line 7\u001b[39m\n\u001b[32m      5\u001b[39m \u001b[38;5;66;03m# part e: Bx^T\u001b[39;00m\n\u001b[32m      6\u001b[39m \u001b[38;5;28mprint\u001b[39m(\u001b[33m\"\u001b[39m\u001b[38;5;130;01m\\n\u001b[39;00m\u001b[33mBx^T:\u001b[39m\u001b[33m\"\u001b[39m)\n\u001b[32m----> \u001b[39m\u001b[32m7\u001b[39m \u001b[38;5;28mprint\u001b[39m(B @ x.T)\n",
      "\u001b[31mValueError\u001b[39m: matmul: Input operand 1 has a mismatch in its core dimension 0, with gufunc signature (n?,k),(k,m?)->(n?,m?) (size 1 is different from 3)"
     ]
    }
   ],
   "source": [
    "# part d: Bx\n",
    "print(\"\\nBx:\")\n",
    "print(B @ x)\n",
    "\n",
    "# part e: Bx^T\n",
    "print(\"\\nBx^T:\")\n",
    "print(B @ x.T)"
   ]
  },
  {
   "cell_type": "markdown",
   "metadata": {},
   "source": [
    "## Reduced row echelon form\n",
    "\n",
    "Next we will reduce $A$ to reduced row echelon form using the [`rref()`](https://docs.sympy.org/latest/tutorials/intro-tutorial/matrices.html#rref) method from the [SymPy](https://www.sympy.org/en/index.html) library.\n",
    "Unfortunately there's no built-in method in NumPy, but the SymPy library has its own advantages (look at that $\\LaTeX$-ified output!)."
   ]
  },
  {
   "cell_type": "code",
   "execution_count": 22,
   "metadata": {},
   "outputs": [
    {
     "data": {
      "text/latex": [
       "$\\displaystyle \\left[\\begin{matrix}3 & 5 & 2\\\\0 & 1 & 2\\\\3 & 6 & 1\\end{matrix}\\right]$"
      ],
      "text/plain": [
       "Matrix([\n",
       "[3, 5, 2],\n",
       "[0, 1, 2],\n",
       "[3, 6, 1]])"
      ]
     },
     "metadata": {},
     "output_type": "display_data"
    },
    {
     "data": {
      "text/latex": [
       "$\\displaystyle \\left[\\begin{matrix}1 & 0 & 0\\\\0 & 1 & 0\\\\0 & 0 & 1\\end{matrix}\\right]$"
      ],
      "text/plain": [
       "Matrix([\n",
       "[1, 0, 0],\n",
       "[0, 1, 0],\n",
       "[0, 0, 1]])"
      ]
     },
     "execution_count": 22,
     "metadata": {},
     "output_type": "execute_result"
    }
   ],
   "source": [
    "from sympy import Matrix\n",
    "\n",
    "A2 = Matrix(A)\n",
    "display(A2)\n",
    "\n",
    "A2.rref()[0]"
   ]
  },
  {
   "cell_type": "markdown",
   "metadata": {},
   "source": [
    "We will also reduce the augmented matrix $[A\\ |\\ \\vec{x}]$."
   ]
  },
  {
   "cell_type": "code",
   "execution_count": 24,
   "metadata": {},
   "outputs": [
    {
     "data": {
      "text/latex": [
       "$\\displaystyle \\left[\\begin{matrix}3 & 5 & 2 & 3\\\\0 & 1 & 2 & 2\\\\3 & 6 & 1 & 1\\end{matrix}\\right]$"
      ],
      "text/plain": [
       "Matrix([\n",
       "[3, 5, 2, 3],\n",
       "[0, 1, 2, 2],\n",
       "[3, 6, 1, 1]])"
      ]
     },
     "metadata": {},
     "output_type": "display_data"
    },
    {
     "data": {
      "text/latex": [
       "$\\displaystyle \\left[\\begin{matrix}1 & 0 & 0 & \\frac{11}{9}\\\\0 & 1 & 0 & - \\frac{2}{3}\\\\0 & 0 & 1 & \\frac{4}{3}\\end{matrix}\\right]$"
      ],
      "text/plain": [
       "Matrix([\n",
       "[1, 0, 0, 11/9],\n",
       "[0, 1, 0, -2/3],\n",
       "[0, 0, 1,  4/3]])"
      ]
     },
     "execution_count": 24,
     "metadata": {},
     "output_type": "execute_result"
    }
   ],
   "source": [
    "Ax = Matrix(np.concatenate([A, x], axis=1))\n",
    "display(Ax)\n",
    "\n",
    "Ax.rref()[0]"
   ]
  }
 ],
 "metadata": {
  "kernelspec": {
   "display_name": "Python 3 (ipykernel)",
   "language": "python",
   "name": "python3"
  },
  "language_info": {
   "codemirror_mode": {
    "name": "ipython",
    "version": 3
   },
   "file_extension": ".py",
   "mimetype": "text/x-python",
   "name": "python",
   "nbconvert_exporter": "python",
   "pygments_lexer": "ipython3",
   "version": "3.12.9"
  },
  "widgets": {
   "application/vnd.jupyter.widget-state+json": {
    "state": {},
    "version_major": 2,
    "version_minor": 0
   }
  }
 },
 "nbformat": 4,
 "nbformat_minor": 4
}
